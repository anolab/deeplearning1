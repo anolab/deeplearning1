{
 "cells": [
  {
   "cell_type": "markdown",
   "metadata": {},
   "source": [
    "# PyTorch<br/>\n",
    "\n",
    "Torch라는 Lua라는 프로그래밍 언어로 작성된 딥러닝 라이브러리가 있다. Lua 기반이어서 업데이트 속도도 느리고 사용자도 적다. 페이스북이 주도해서 Python으로 바꾸는 프로젝트를 진행하고 PyTorch 탄생함. 대부분의 경우 동일한 알고리즘을 PyTorch와 텐서플로를 이용하여 구현할 경우 PyTorch 라인 수가 훨씬 적어서 보다 간편한 개발 가능하다.(속도도 더 빠름)"
   ]
  },
  {
   "cell_type": "code",
   "execution_count": null,
   "metadata": {
    "collapsed": true
   },
   "outputs": [],
   "source": []
  }
 ],
 "metadata": {
  "kernelspec": {
   "display_name": "Python 3",
   "language": "python",
   "name": "python3"
  },
  "language_info": {
   "codemirror_mode": {
    "name": "ipython",
    "version": 3
   },
   "file_extension": ".py",
   "mimetype": "text/x-python",
   "name": "python",
   "nbconvert_exporter": "python",
   "pygments_lexer": "ipython3",
   "version": "3.6.3"
  }
 },
 "nbformat": 4,
 "nbformat_minor": 2
}
