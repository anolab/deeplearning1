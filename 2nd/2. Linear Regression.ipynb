{
 "cells": [
  {
   "cell_type": "markdown",
   "metadata": {},
   "source": [
    "### 0. Linear Regression 들어가기 전에 ML Basic 설명함\n",
    "\n",
    "1. Types of supervised learning<br/>\n",
    "    1) Predicting final exam score based on time spent - regression<br/>\n",
    "    2) Pass/non-pass based on time spent - binary classification<br/>\n",
    "    3) Letter grade (A, B, C, E and F) based on time spent - multi-label classification<br/><br/>\n",
    "\n",
    "2. Types of unsupervised learning<br/>\n",
    "    1) Clustering<br/><br/>\n",
    "\n",
    "3. (시즌1-2 12-1월) 강화 학습(Reinforcement learning)은 이 다루는 문제 중에서 다음과 같이 되는 것을 다룬다. 어떤 환경을 탐색하는 에이전트가 현재의 상태를 인식하여 어떤 행동을 취한다. 그러면 그 에이전트는 환경으로부터 포상을 얻게 된다. 포상은 양수와 음수 둘 다 가능하다. 강화 학습의 알고리즘은 그 에이전트가 앞으로 누적될 포상을 최대화 하는 일련의 행동으로 정의되는 정책을 찾는 방법이다.\n"
   ]
  },
  {
   "cell_type": "markdown",
   "metadata": {
    "collapsed": true
   },
   "source": [
    "### 1. Single Variable Regression"
   ]
  },
  {
   "cell_type": "code",
   "execution_count": 2,
   "metadata": {
    "collapsed": true
   },
   "outputs": [],
   "source": [
    "import tensorflow as tf\n",
    "import numpy as np"
   ]
  },
  {
   "cell_type": "code",
   "execution_count": 3,
   "metadata": {
    "collapsed": true
   },
   "outputs": [],
   "source": [
    "num_points = 1000 # 1000개\n",
    "vectors_set = []"
   ]
  },
  {
   "cell_type": "code",
   "execution_count": 6,
   "metadata": {
    "collapsed": true
   },
   "outputs": [],
   "source": [
    "#0. 데이터 생성\n",
    "for i in range(num_points):\n",
    "    x1 = np.random.normal(0.0, 0.5) # x1: mu = 0.0, sigma = 0.5\n",
    "    y1 = x1*0.1 + 0.3 + np.random.normal(0.0, 0.03) # y1: x1*.0.1 + 0.3 + noise\n",
    "    vectors_set.append([x1, y1])\n",
    "\n",
    "x_data = [v[0] for v in vectors_set]\n",
    "y_data = [v[1] for v in vectors_set]"
   ]
  },
  {
   "cell_type": "code",
   "execution_count": 27,
   "metadata": {
    "scrolled": true
   },
   "outputs": [
    {
     "name": "stdout",
     "output_type": "stream",
     "text": [
      "[-0.6312299870370218, 0.17859428662144894]\n",
      "[0.23541127081524124, 0.29461209131396665]\n",
      "[0.09034514573324891, 0.31305865590164655]\n",
      "[0.48365633452093454, 0.330602018912326]\n",
      "[0.7199051140816035, 0.3722244527218981]\n",
      "[-0.2884563809136166, 0.2800706266378547]\n",
      "[0.3677720980089998, 0.3722143104744082]\n",
      "[0.05353842452864675, 0.25373685747237923]\n",
      "[0.30430245272530015, 0.32924971020216826]\n",
      "[0.6214756915467111, 0.34676600621308196]\n"
     ]
    }
   ],
   "source": [
    "#10까지만 출력\n",
    "for i in range(10):\n",
    "    print([x_data[i], y_data[i]])"
   ]
  },
  {
   "cell_type": "code",
   "execution_count": 21,
   "metadata": {},
   "outputs": [
    {
     "data": {
      "application/javascript": [
       "/* Put everything inside the global mpl namespace */\n",
       "window.mpl = {};\n",
       "\n",
       "\n",
       "mpl.get_websocket_type = function() {\n",
       "    if (typeof(WebSocket) !== 'undefined') {\n",
       "        return WebSocket;\n",
       "    } else if (typeof(MozWebSocket) !== 'undefined') {\n",
       "        return MozWebSocket;\n",
       "    } else {\n",
       "        alert('Your browser does not have WebSocket support.' +\n",
       "              'Please try Chrome, Safari or Firefox ≥ 6. ' +\n",
       "              'Firefox 4 and 5 are also supported but you ' +\n",
       "              'have to enable WebSockets in about:config.');\n",
       "    };\n",
       "}\n",
       "\n",
       "mpl.figure = function(figure_id, websocket, ondownload, parent_element) {\n",
       "    this.id = figure_id;\n",
       "\n",
       "    this.ws = websocket;\n",
       "\n",
       "    this.supports_binary = (this.ws.binaryType != undefined);\n",
       "\n",
       "    if (!this.supports_binary) {\n",
       "        var warnings = document.getElementById(\"mpl-warnings\");\n",
       "        if (warnings) {\n",
       "            warnings.style.display = 'block';\n",
       "            warnings.textContent = (\n",
       "                \"This browser does not support binary websocket messages. \" +\n",
       "                    \"Performance may be slow.\");\n",
       "        }\n",
       "    }\n",
       "\n",
       "    this.imageObj = new Image();\n",
       "\n",
       "    this.context = undefined;\n",
       "    this.message = undefined;\n",
       "    this.canvas = undefined;\n",
       "    this.rubberband_canvas = undefined;\n",
       "    this.rubberband_context = undefined;\n",
       "    this.format_dropdown = undefined;\n",
       "\n",
       "    this.image_mode = 'full';\n",
       "\n",
       "    this.root = $('<div/>');\n",
       "    this._root_extra_style(this.root)\n",
       "    this.root.attr('style', 'display: inline-block');\n",
       "\n",
       "    $(parent_element).append(this.root);\n",
       "\n",
       "    this._init_header(this);\n",
       "    this._init_canvas(this);\n",
       "    this._init_toolbar(this);\n",
       "\n",
       "    var fig = this;\n",
       "\n",
       "    this.waiting = false;\n",
       "\n",
       "    this.ws.onopen =  function () {\n",
       "            fig.send_message(\"supports_binary\", {value: fig.supports_binary});\n",
       "            fig.send_message(\"send_image_mode\", {});\n",
       "            if (mpl.ratio != 1) {\n",
       "                fig.send_message(\"set_dpi_ratio\", {'dpi_ratio': mpl.ratio});\n",
       "            }\n",
       "            fig.send_message(\"refresh\", {});\n",
       "        }\n",
       "\n",
       "    this.imageObj.onload = function() {\n",
       "            if (fig.image_mode == 'full') {\n",
       "                // Full images could contain transparency (where diff images\n",
       "                // almost always do), so we need to clear the canvas so that\n",
       "                // there is no ghosting.\n",
       "                fig.context.clearRect(0, 0, fig.canvas.width, fig.canvas.height);\n",
       "            }\n",
       "            fig.context.drawImage(fig.imageObj, 0, 0);\n",
       "        };\n",
       "\n",
       "    this.imageObj.onunload = function() {\n",
       "        fig.ws.close();\n",
       "    }\n",
       "\n",
       "    this.ws.onmessage = this._make_on_message_function(this);\n",
       "\n",
       "    this.ondownload = ondownload;\n",
       "}\n",
       "\n",
       "mpl.figure.prototype._init_header = function() {\n",
       "    var titlebar = $(\n",
       "        '<div class=\"ui-dialog-titlebar ui-widget-header ui-corner-all ' +\n",
       "        'ui-helper-clearfix\"/>');\n",
       "    var titletext = $(\n",
       "        '<div class=\"ui-dialog-title\" style=\"width: 100%; ' +\n",
       "        'text-align: center; padding: 3px;\"/>');\n",
       "    titlebar.append(titletext)\n",
       "    this.root.append(titlebar);\n",
       "    this.header = titletext[0];\n",
       "}\n",
       "\n",
       "\n",
       "\n",
       "mpl.figure.prototype._canvas_extra_style = function(canvas_div) {\n",
       "\n",
       "}\n",
       "\n",
       "\n",
       "mpl.figure.prototype._root_extra_style = function(canvas_div) {\n",
       "\n",
       "}\n",
       "\n",
       "mpl.figure.prototype._init_canvas = function() {\n",
       "    var fig = this;\n",
       "\n",
       "    var canvas_div = $('<div/>');\n",
       "\n",
       "    canvas_div.attr('style', 'position: relative; clear: both; outline: 0');\n",
       "\n",
       "    function canvas_keyboard_event(event) {\n",
       "        return fig.key_event(event, event['data']);\n",
       "    }\n",
       "\n",
       "    canvas_div.keydown('key_press', canvas_keyboard_event);\n",
       "    canvas_div.keyup('key_release', canvas_keyboard_event);\n",
       "    this.canvas_div = canvas_div\n",
       "    this._canvas_extra_style(canvas_div)\n",
       "    this.root.append(canvas_div);\n",
       "\n",
       "    var canvas = $('<canvas/>');\n",
       "    canvas.addClass('mpl-canvas');\n",
       "    canvas.attr('style', \"left: 0; top: 0; z-index: 0; outline: 0\")\n",
       "\n",
       "    this.canvas = canvas[0];\n",
       "    this.context = canvas[0].getContext(\"2d\");\n",
       "\n",
       "    var backingStore = this.context.backingStorePixelRatio ||\n",
       "\tthis.context.webkitBackingStorePixelRatio ||\n",
       "\tthis.context.mozBackingStorePixelRatio ||\n",
       "\tthis.context.msBackingStorePixelRatio ||\n",
       "\tthis.context.oBackingStorePixelRatio ||\n",
       "\tthis.context.backingStorePixelRatio || 1;\n",
       "\n",
       "    mpl.ratio = (window.devicePixelRatio || 1) / backingStore;\n",
       "\n",
       "    var rubberband = $('<canvas/>');\n",
       "    rubberband.attr('style', \"position: absolute; left: 0; top: 0; z-index: 1;\")\n",
       "\n",
       "    var pass_mouse_events = true;\n",
       "\n",
       "    canvas_div.resizable({\n",
       "        start: function(event, ui) {\n",
       "            pass_mouse_events = false;\n",
       "        },\n",
       "        resize: function(event, ui) {\n",
       "            fig.request_resize(ui.size.width, ui.size.height);\n",
       "        },\n",
       "        stop: function(event, ui) {\n",
       "            pass_mouse_events = true;\n",
       "            fig.request_resize(ui.size.width, ui.size.height);\n",
       "        },\n",
       "    });\n",
       "\n",
       "    function mouse_event_fn(event) {\n",
       "        if (pass_mouse_events)\n",
       "            return fig.mouse_event(event, event['data']);\n",
       "    }\n",
       "\n",
       "    rubberband.mousedown('button_press', mouse_event_fn);\n",
       "    rubberband.mouseup('button_release', mouse_event_fn);\n",
       "    // Throttle sequential mouse events to 1 every 20ms.\n",
       "    rubberband.mousemove('motion_notify', mouse_event_fn);\n",
       "\n",
       "    rubberband.mouseenter('figure_enter', mouse_event_fn);\n",
       "    rubberband.mouseleave('figure_leave', mouse_event_fn);\n",
       "\n",
       "    canvas_div.on(\"wheel\", function (event) {\n",
       "        event = event.originalEvent;\n",
       "        event['data'] = 'scroll'\n",
       "        if (event.deltaY < 0) {\n",
       "            event.step = 1;\n",
       "        } else {\n",
       "            event.step = -1;\n",
       "        }\n",
       "        mouse_event_fn(event);\n",
       "    });\n",
       "\n",
       "    canvas_div.append(canvas);\n",
       "    canvas_div.append(rubberband);\n",
       "\n",
       "    this.rubberband = rubberband;\n",
       "    this.rubberband_canvas = rubberband[0];\n",
       "    this.rubberband_context = rubberband[0].getContext(\"2d\");\n",
       "    this.rubberband_context.strokeStyle = \"#000000\";\n",
       "\n",
       "    this._resize_canvas = function(width, height) {\n",
       "        // Keep the size of the canvas, canvas container, and rubber band\n",
       "        // canvas in synch.\n",
       "        canvas_div.css('width', width)\n",
       "        canvas_div.css('height', height)\n",
       "\n",
       "        canvas.attr('width', width * mpl.ratio);\n",
       "        canvas.attr('height', height * mpl.ratio);\n",
       "        canvas.attr('style', 'width: ' + width + 'px; height: ' + height + 'px;');\n",
       "\n",
       "        rubberband.attr('width', width);\n",
       "        rubberband.attr('height', height);\n",
       "    }\n",
       "\n",
       "    // Set the figure to an initial 600x600px, this will subsequently be updated\n",
       "    // upon first draw.\n",
       "    this._resize_canvas(600, 600);\n",
       "\n",
       "    // Disable right mouse context menu.\n",
       "    $(this.rubberband_canvas).bind(\"contextmenu\",function(e){\n",
       "        return false;\n",
       "    });\n",
       "\n",
       "    function set_focus () {\n",
       "        canvas.focus();\n",
       "        canvas_div.focus();\n",
       "    }\n",
       "\n",
       "    window.setTimeout(set_focus, 100);\n",
       "}\n",
       "\n",
       "mpl.figure.prototype._init_toolbar = function() {\n",
       "    var fig = this;\n",
       "\n",
       "    var nav_element = $('<div/>')\n",
       "    nav_element.attr('style', 'width: 100%');\n",
       "    this.root.append(nav_element);\n",
       "\n",
       "    // Define a callback function for later on.\n",
       "    function toolbar_event(event) {\n",
       "        return fig.toolbar_button_onclick(event['data']);\n",
       "    }\n",
       "    function toolbar_mouse_event(event) {\n",
       "        return fig.toolbar_button_onmouseover(event['data']);\n",
       "    }\n",
       "\n",
       "    for(var toolbar_ind in mpl.toolbar_items) {\n",
       "        var name = mpl.toolbar_items[toolbar_ind][0];\n",
       "        var tooltip = mpl.toolbar_items[toolbar_ind][1];\n",
       "        var image = mpl.toolbar_items[toolbar_ind][2];\n",
       "        var method_name = mpl.toolbar_items[toolbar_ind][3];\n",
       "\n",
       "        if (!name) {\n",
       "            // put a spacer in here.\n",
       "            continue;\n",
       "        }\n",
       "        var button = $('<button/>');\n",
       "        button.addClass('ui-button ui-widget ui-state-default ui-corner-all ' +\n",
       "                        'ui-button-icon-only');\n",
       "        button.attr('role', 'button');\n",
       "        button.attr('aria-disabled', 'false');\n",
       "        button.click(method_name, toolbar_event);\n",
       "        button.mouseover(tooltip, toolbar_mouse_event);\n",
       "\n",
       "        var icon_img = $('<span/>');\n",
       "        icon_img.addClass('ui-button-icon-primary ui-icon');\n",
       "        icon_img.addClass(image);\n",
       "        icon_img.addClass('ui-corner-all');\n",
       "\n",
       "        var tooltip_span = $('<span/>');\n",
       "        tooltip_span.addClass('ui-button-text');\n",
       "        tooltip_span.html(tooltip);\n",
       "\n",
       "        button.append(icon_img);\n",
       "        button.append(tooltip_span);\n",
       "\n",
       "        nav_element.append(button);\n",
       "    }\n",
       "\n",
       "    var fmt_picker_span = $('<span/>');\n",
       "\n",
       "    var fmt_picker = $('<select/>');\n",
       "    fmt_picker.addClass('mpl-toolbar-option ui-widget ui-widget-content');\n",
       "    fmt_picker_span.append(fmt_picker);\n",
       "    nav_element.append(fmt_picker_span);\n",
       "    this.format_dropdown = fmt_picker[0];\n",
       "\n",
       "    for (var ind in mpl.extensions) {\n",
       "        var fmt = mpl.extensions[ind];\n",
       "        var option = $(\n",
       "            '<option/>', {selected: fmt === mpl.default_extension}).html(fmt);\n",
       "        fmt_picker.append(option)\n",
       "    }\n",
       "\n",
       "    // Add hover states to the ui-buttons\n",
       "    $( \".ui-button\" ).hover(\n",
       "        function() { $(this).addClass(\"ui-state-hover\");},\n",
       "        function() { $(this).removeClass(\"ui-state-hover\");}\n",
       "    );\n",
       "\n",
       "    var status_bar = $('<span class=\"mpl-message\"/>');\n",
       "    nav_element.append(status_bar);\n",
       "    this.message = status_bar[0];\n",
       "}\n",
       "\n",
       "mpl.figure.prototype.request_resize = function(x_pixels, y_pixels) {\n",
       "    // Request matplotlib to resize the figure. Matplotlib will then trigger a resize in the client,\n",
       "    // which will in turn request a refresh of the image.\n",
       "    this.send_message('resize', {'width': x_pixels, 'height': y_pixels});\n",
       "}\n",
       "\n",
       "mpl.figure.prototype.send_message = function(type, properties) {\n",
       "    properties['type'] = type;\n",
       "    properties['figure_id'] = this.id;\n",
       "    this.ws.send(JSON.stringify(properties));\n",
       "}\n",
       "\n",
       "mpl.figure.prototype.send_draw_message = function() {\n",
       "    if (!this.waiting) {\n",
       "        this.waiting = true;\n",
       "        this.ws.send(JSON.stringify({type: \"draw\", figure_id: this.id}));\n",
       "    }\n",
       "}\n",
       "\n",
       "\n",
       "mpl.figure.prototype.handle_save = function(fig, msg) {\n",
       "    var format_dropdown = fig.format_dropdown;\n",
       "    var format = format_dropdown.options[format_dropdown.selectedIndex].value;\n",
       "    fig.ondownload(fig, format);\n",
       "}\n",
       "\n",
       "\n",
       "mpl.figure.prototype.handle_resize = function(fig, msg) {\n",
       "    var size = msg['size'];\n",
       "    if (size[0] != fig.canvas.width || size[1] != fig.canvas.height) {\n",
       "        fig._resize_canvas(size[0], size[1]);\n",
       "        fig.send_message(\"refresh\", {});\n",
       "    };\n",
       "}\n",
       "\n",
       "mpl.figure.prototype.handle_rubberband = function(fig, msg) {\n",
       "    var x0 = msg['x0'] / mpl.ratio;\n",
       "    var y0 = (fig.canvas.height - msg['y0']) / mpl.ratio;\n",
       "    var x1 = msg['x1'] / mpl.ratio;\n",
       "    var y1 = (fig.canvas.height - msg['y1']) / mpl.ratio;\n",
       "    x0 = Math.floor(x0) + 0.5;\n",
       "    y0 = Math.floor(y0) + 0.5;\n",
       "    x1 = Math.floor(x1) + 0.5;\n",
       "    y1 = Math.floor(y1) + 0.5;\n",
       "    var min_x = Math.min(x0, x1);\n",
       "    var min_y = Math.min(y0, y1);\n",
       "    var width = Math.abs(x1 - x0);\n",
       "    var height = Math.abs(y1 - y0);\n",
       "\n",
       "    fig.rubberband_context.clearRect(\n",
       "        0, 0, fig.canvas.width, fig.canvas.height);\n",
       "\n",
       "    fig.rubberband_context.strokeRect(min_x, min_y, width, height);\n",
       "}\n",
       "\n",
       "mpl.figure.prototype.handle_figure_label = function(fig, msg) {\n",
       "    // Updates the figure title.\n",
       "    fig.header.textContent = msg['label'];\n",
       "}\n",
       "\n",
       "mpl.figure.prototype.handle_cursor = function(fig, msg) {\n",
       "    var cursor = msg['cursor'];\n",
       "    switch(cursor)\n",
       "    {\n",
       "    case 0:\n",
       "        cursor = 'pointer';\n",
       "        break;\n",
       "    case 1:\n",
       "        cursor = 'default';\n",
       "        break;\n",
       "    case 2:\n",
       "        cursor = 'crosshair';\n",
       "        break;\n",
       "    case 3:\n",
       "        cursor = 'move';\n",
       "        break;\n",
       "    }\n",
       "    fig.rubberband_canvas.style.cursor = cursor;\n",
       "}\n",
       "\n",
       "mpl.figure.prototype.handle_message = function(fig, msg) {\n",
       "    fig.message.textContent = msg['message'];\n",
       "}\n",
       "\n",
       "mpl.figure.prototype.handle_draw = function(fig, msg) {\n",
       "    // Request the server to send over a new figure.\n",
       "    fig.send_draw_message();\n",
       "}\n",
       "\n",
       "mpl.figure.prototype.handle_image_mode = function(fig, msg) {\n",
       "    fig.image_mode = msg['mode'];\n",
       "}\n",
       "\n",
       "mpl.figure.prototype.updated_canvas_event = function() {\n",
       "    // Called whenever the canvas gets updated.\n",
       "    this.send_message(\"ack\", {});\n",
       "}\n",
       "\n",
       "// A function to construct a web socket function for onmessage handling.\n",
       "// Called in the figure constructor.\n",
       "mpl.figure.prototype._make_on_message_function = function(fig) {\n",
       "    return function socket_on_message(evt) {\n",
       "        if (evt.data instanceof Blob) {\n",
       "            /* FIXME: We get \"Resource interpreted as Image but\n",
       "             * transferred with MIME type text/plain:\" errors on\n",
       "             * Chrome.  But how to set the MIME type?  It doesn't seem\n",
       "             * to be part of the websocket stream */\n",
       "            evt.data.type = \"image/png\";\n",
       "\n",
       "            /* Free the memory for the previous frames */\n",
       "            if (fig.imageObj.src) {\n",
       "                (window.URL || window.webkitURL).revokeObjectURL(\n",
       "                    fig.imageObj.src);\n",
       "            }\n",
       "\n",
       "            fig.imageObj.src = (window.URL || window.webkitURL).createObjectURL(\n",
       "                evt.data);\n",
       "            fig.updated_canvas_event();\n",
       "            fig.waiting = false;\n",
       "            return;\n",
       "        }\n",
       "        else if (typeof evt.data === 'string' && evt.data.slice(0, 21) == \"data:image/png;base64\") {\n",
       "            fig.imageObj.src = evt.data;\n",
       "            fig.updated_canvas_event();\n",
       "            fig.waiting = false;\n",
       "            return;\n",
       "        }\n",
       "\n",
       "        var msg = JSON.parse(evt.data);\n",
       "        var msg_type = msg['type'];\n",
       "\n",
       "        // Call the  \"handle_{type}\" callback, which takes\n",
       "        // the figure and JSON message as its only arguments.\n",
       "        try {\n",
       "            var callback = fig[\"handle_\" + msg_type];\n",
       "        } catch (e) {\n",
       "            console.log(\"No handler for the '\" + msg_type + \"' message type: \", msg);\n",
       "            return;\n",
       "        }\n",
       "\n",
       "        if (callback) {\n",
       "            try {\n",
       "                // console.log(\"Handling '\" + msg_type + \"' message: \", msg);\n",
       "                callback(fig, msg);\n",
       "            } catch (e) {\n",
       "                console.log(\"Exception inside the 'handler_\" + msg_type + \"' callback:\", e, e.stack, msg);\n",
       "            }\n",
       "        }\n",
       "    };\n",
       "}\n",
       "\n",
       "// from http://stackoverflow.com/questions/1114465/getting-mouse-location-in-canvas\n",
       "mpl.findpos = function(e) {\n",
       "    //this section is from http://www.quirksmode.org/js/events_properties.html\n",
       "    var targ;\n",
       "    if (!e)\n",
       "        e = window.event;\n",
       "    if (e.target)\n",
       "        targ = e.target;\n",
       "    else if (e.srcElement)\n",
       "        targ = e.srcElement;\n",
       "    if (targ.nodeType == 3) // defeat Safari bug\n",
       "        targ = targ.parentNode;\n",
       "\n",
       "    // jQuery normalizes the pageX and pageY\n",
       "    // pageX,Y are the mouse positions relative to the document\n",
       "    // offset() returns the position of the element relative to the document\n",
       "    var x = e.pageX - $(targ).offset().left;\n",
       "    var y = e.pageY - $(targ).offset().top;\n",
       "\n",
       "    return {\"x\": x, \"y\": y};\n",
       "};\n",
       "\n",
       "/*\n",
       " * return a copy of an object with only non-object keys\n",
       " * we need this to avoid circular references\n",
       " * http://stackoverflow.com/a/24161582/3208463\n",
       " */\n",
       "function simpleKeys (original) {\n",
       "  return Object.keys(original).reduce(function (obj, key) {\n",
       "    if (typeof original[key] !== 'object')\n",
       "        obj[key] = original[key]\n",
       "    return obj;\n",
       "  }, {});\n",
       "}\n",
       "\n",
       "mpl.figure.prototype.mouse_event = function(event, name) {\n",
       "    var canvas_pos = mpl.findpos(event)\n",
       "\n",
       "    if (name === 'button_press')\n",
       "    {\n",
       "        this.canvas.focus();\n",
       "        this.canvas_div.focus();\n",
       "    }\n",
       "\n",
       "    var x = canvas_pos.x * mpl.ratio;\n",
       "    var y = canvas_pos.y * mpl.ratio;\n",
       "\n",
       "    this.send_message(name, {x: x, y: y, button: event.button,\n",
       "                             step: event.step,\n",
       "                             guiEvent: simpleKeys(event)});\n",
       "\n",
       "    /* This prevents the web browser from automatically changing to\n",
       "     * the text insertion cursor when the button is pressed.  We want\n",
       "     * to control all of the cursor setting manually through the\n",
       "     * 'cursor' event from matplotlib */\n",
       "    event.preventDefault();\n",
       "    return false;\n",
       "}\n",
       "\n",
       "mpl.figure.prototype._key_event_extra = function(event, name) {\n",
       "    // Handle any extra behaviour associated with a key event\n",
       "}\n",
       "\n",
       "mpl.figure.prototype.key_event = function(event, name) {\n",
       "\n",
       "    // Prevent repeat events\n",
       "    if (name == 'key_press')\n",
       "    {\n",
       "        if (event.which === this._key)\n",
       "            return;\n",
       "        else\n",
       "            this._key = event.which;\n",
       "    }\n",
       "    if (name == 'key_release')\n",
       "        this._key = null;\n",
       "\n",
       "    var value = '';\n",
       "    if (event.ctrlKey && event.which != 17)\n",
       "        value += \"ctrl+\";\n",
       "    if (event.altKey && event.which != 18)\n",
       "        value += \"alt+\";\n",
       "    if (event.shiftKey && event.which != 16)\n",
       "        value += \"shift+\";\n",
       "\n",
       "    value += 'k';\n",
       "    value += event.which.toString();\n",
       "\n",
       "    this._key_event_extra(event, name);\n",
       "\n",
       "    this.send_message(name, {key: value,\n",
       "                             guiEvent: simpleKeys(event)});\n",
       "    return false;\n",
       "}\n",
       "\n",
       "mpl.figure.prototype.toolbar_button_onclick = function(name) {\n",
       "    if (name == 'download') {\n",
       "        this.handle_save(this, null);\n",
       "    } else {\n",
       "        this.send_message(\"toolbar_button\", {name: name});\n",
       "    }\n",
       "};\n",
       "\n",
       "mpl.figure.prototype.toolbar_button_onmouseover = function(tooltip) {\n",
       "    this.message.textContent = tooltip;\n",
       "};\n",
       "mpl.toolbar_items = [[\"Home\", \"Reset original view\", \"fa fa-home icon-home\", \"home\"], [\"Back\", \"Back to  previous view\", \"fa fa-arrow-left icon-arrow-left\", \"back\"], [\"Forward\", \"Forward to next view\", \"fa fa-arrow-right icon-arrow-right\", \"forward\"], [\"\", \"\", \"\", \"\"], [\"Pan\", \"Pan axes with left mouse, zoom with right\", \"fa fa-arrows icon-move\", \"pan\"], [\"Zoom\", \"Zoom to rectangle\", \"fa fa-square-o icon-check-empty\", \"zoom\"], [\"\", \"\", \"\", \"\"], [\"Download\", \"Download plot\", \"fa fa-floppy-o icon-save\", \"download\"]];\n",
       "\n",
       "mpl.extensions = [\"eps\", \"pdf\", \"png\", \"ps\", \"raw\", \"svg\"];\n",
       "\n",
       "mpl.default_extension = \"png\";var comm_websocket_adapter = function(comm) {\n",
       "    // Create a \"websocket\"-like object which calls the given IPython comm\n",
       "    // object with the appropriate methods. Currently this is a non binary\n",
       "    // socket, so there is still some room for performance tuning.\n",
       "    var ws = {};\n",
       "\n",
       "    ws.close = function() {\n",
       "        comm.close()\n",
       "    };\n",
       "    ws.send = function(m) {\n",
       "        //console.log('sending', m);\n",
       "        comm.send(m);\n",
       "    };\n",
       "    // Register the callback with on_msg.\n",
       "    comm.on_msg(function(msg) {\n",
       "        //console.log('receiving', msg['content']['data'], msg);\n",
       "        // Pass the mpl event to the overriden (by mpl) onmessage function.\n",
       "        ws.onmessage(msg['content']['data'])\n",
       "    });\n",
       "    return ws;\n",
       "}\n",
       "\n",
       "mpl.mpl_figure_comm = function(comm, msg) {\n",
       "    // This is the function which gets called when the mpl process\n",
       "    // starts-up an IPython Comm through the \"matplotlib\" channel.\n",
       "\n",
       "    var id = msg.content.data.id;\n",
       "    // Get hold of the div created by the display call when the Comm\n",
       "    // socket was opened in Python.\n",
       "    var element = $(\"#\" + id);\n",
       "    var ws_proxy = comm_websocket_adapter(comm)\n",
       "\n",
       "    function ondownload(figure, format) {\n",
       "        window.open(figure.imageObj.src);\n",
       "    }\n",
       "\n",
       "    var fig = new mpl.figure(id, ws_proxy,\n",
       "                           ondownload,\n",
       "                           element.get(0));\n",
       "\n",
       "    // Call onopen now - mpl needs it, as it is assuming we've passed it a real\n",
       "    // web socket which is closed, not our websocket->open comm proxy.\n",
       "    ws_proxy.onopen();\n",
       "\n",
       "    fig.parent_element = element.get(0);\n",
       "    fig.cell_info = mpl.find_output_cell(\"<div id='\" + id + \"'></div>\");\n",
       "    if (!fig.cell_info) {\n",
       "        console.error(\"Failed to find cell for figure\", id, fig);\n",
       "        return;\n",
       "    }\n",
       "\n",
       "    var output_index = fig.cell_info[2]\n",
       "    var cell = fig.cell_info[0];\n",
       "\n",
       "};\n",
       "\n",
       "mpl.figure.prototype.handle_close = function(fig, msg) {\n",
       "    var width = fig.canvas.width/mpl.ratio\n",
       "    fig.root.unbind('remove')\n",
       "\n",
       "    // Update the output cell to use the data from the current canvas.\n",
       "    fig.push_to_output();\n",
       "    var dataURL = fig.canvas.toDataURL();\n",
       "    // Re-enable the keyboard manager in IPython - without this line, in FF,\n",
       "    // the notebook keyboard shortcuts fail.\n",
       "    IPython.keyboard_manager.enable()\n",
       "    $(fig.parent_element).html('<img src=\"' + dataURL + '\" width=\"' + width + '\">');\n",
       "    fig.close_ws(fig, msg);\n",
       "}\n",
       "\n",
       "mpl.figure.prototype.close_ws = function(fig, msg){\n",
       "    fig.send_message('closing', msg);\n",
       "    // fig.ws.close()\n",
       "}\n",
       "\n",
       "mpl.figure.prototype.push_to_output = function(remove_interactive) {\n",
       "    // Turn the data on the canvas into data in the output cell.\n",
       "    var width = this.canvas.width/mpl.ratio\n",
       "    var dataURL = this.canvas.toDataURL();\n",
       "    this.cell_info[1]['text/html'] = '<img src=\"' + dataURL + '\" width=\"' + width + '\">';\n",
       "}\n",
       "\n",
       "mpl.figure.prototype.updated_canvas_event = function() {\n",
       "    // Tell IPython that the notebook contents must change.\n",
       "    IPython.notebook.set_dirty(true);\n",
       "    this.send_message(\"ack\", {});\n",
       "    var fig = this;\n",
       "    // Wait a second, then push the new image to the DOM so\n",
       "    // that it is saved nicely (might be nice to debounce this).\n",
       "    setTimeout(function () { fig.push_to_output() }, 1000);\n",
       "}\n",
       "\n",
       "mpl.figure.prototype._init_toolbar = function() {\n",
       "    var fig = this;\n",
       "\n",
       "    var nav_element = $('<div/>')\n",
       "    nav_element.attr('style', 'width: 100%');\n",
       "    this.root.append(nav_element);\n",
       "\n",
       "    // Define a callback function for later on.\n",
       "    function toolbar_event(event) {\n",
       "        return fig.toolbar_button_onclick(event['data']);\n",
       "    }\n",
       "    function toolbar_mouse_event(event) {\n",
       "        return fig.toolbar_button_onmouseover(event['data']);\n",
       "    }\n",
       "\n",
       "    for(var toolbar_ind in mpl.toolbar_items){\n",
       "        var name = mpl.toolbar_items[toolbar_ind][0];\n",
       "        var tooltip = mpl.toolbar_items[toolbar_ind][1];\n",
       "        var image = mpl.toolbar_items[toolbar_ind][2];\n",
       "        var method_name = mpl.toolbar_items[toolbar_ind][3];\n",
       "\n",
       "        if (!name) { continue; };\n",
       "\n",
       "        var button = $('<button class=\"btn btn-default\" href=\"#\" title=\"' + name + '\"><i class=\"fa ' + image + ' fa-lg\"></i></button>');\n",
       "        button.click(method_name, toolbar_event);\n",
       "        button.mouseover(tooltip, toolbar_mouse_event);\n",
       "        nav_element.append(button);\n",
       "    }\n",
       "\n",
       "    // Add the status bar.\n",
       "    var status_bar = $('<span class=\"mpl-message\" style=\"text-align:right; float: right;\"/>');\n",
       "    nav_element.append(status_bar);\n",
       "    this.message = status_bar[0];\n",
       "\n",
       "    // Add the close button to the window.\n",
       "    var buttongrp = $('<div class=\"btn-group inline pull-right\"></div>');\n",
       "    var button = $('<button class=\"btn btn-mini btn-primary\" href=\"#\" title=\"Stop Interaction\"><i class=\"fa fa-power-off icon-remove icon-large\"></i></button>');\n",
       "    button.click(function (evt) { fig.handle_close(fig, {}); } );\n",
       "    button.mouseover('Stop Interaction', toolbar_mouse_event);\n",
       "    buttongrp.append(button);\n",
       "    var titlebar = this.root.find($('.ui-dialog-titlebar'));\n",
       "    titlebar.prepend(buttongrp);\n",
       "}\n",
       "\n",
       "mpl.figure.prototype._root_extra_style = function(el){\n",
       "    var fig = this\n",
       "    el.on(\"remove\", function(){\n",
       "\tfig.close_ws(fig, {});\n",
       "    });\n",
       "}\n",
       "\n",
       "mpl.figure.prototype._canvas_extra_style = function(el){\n",
       "    // this is important to make the div 'focusable\n",
       "    el.attr('tabindex', 0)\n",
       "    // reach out to IPython and tell the keyboard manager to turn it's self\n",
       "    // off when our div gets focus\n",
       "\n",
       "    // location in version 3\n",
       "    if (IPython.notebook.keyboard_manager) {\n",
       "        IPython.notebook.keyboard_manager.register_events(el);\n",
       "    }\n",
       "    else {\n",
       "        // location in version 2\n",
       "        IPython.keyboard_manager.register_events(el);\n",
       "    }\n",
       "\n",
       "}\n",
       "\n",
       "mpl.figure.prototype._key_event_extra = function(event, name) {\n",
       "    var manager = IPython.notebook.keyboard_manager;\n",
       "    if (!manager)\n",
       "        manager = IPython.keyboard_manager;\n",
       "\n",
       "    // Check for shift+enter\n",
       "    if (event.shiftKey && event.which == 13) {\n",
       "        this.canvas_div.blur();\n",
       "        event.shiftKey = false;\n",
       "        // Send a \"J\" for go to next cell\n",
       "        event.which = 74;\n",
       "        event.keyCode = 74;\n",
       "        manager.command_mode();\n",
       "        manager.handle_keydown(event);\n",
       "    }\n",
       "}\n",
       "\n",
       "mpl.figure.prototype.handle_save = function(fig, msg) {\n",
       "    fig.ondownload(fig, null);\n",
       "}\n",
       "\n",
       "\n",
       "mpl.find_output_cell = function(html_output) {\n",
       "    // Return the cell and output element which can be found *uniquely* in the notebook.\n",
       "    // Note - this is a bit hacky, but it is done because the \"notebook_saving.Notebook\"\n",
       "    // IPython event is triggered only after the cells have been serialised, which for\n",
       "    // our purposes (turning an active figure into a static one), is too late.\n",
       "    var cells = IPython.notebook.get_cells();\n",
       "    var ncells = cells.length;\n",
       "    for (var i=0; i<ncells; i++) {\n",
       "        var cell = cells[i];\n",
       "        if (cell.cell_type === 'code'){\n",
       "            for (var j=0; j<cell.output_area.outputs.length; j++) {\n",
       "                var data = cell.output_area.outputs[j];\n",
       "                if (data.data) {\n",
       "                    // IPython >= 3 moved mimebundle to data attribute of output\n",
       "                    data = data.data;\n",
       "                }\n",
       "                if (data['text/html'] == html_output) {\n",
       "                    return [cell, data, j];\n",
       "                }\n",
       "            }\n",
       "        }\n",
       "    }\n",
       "}\n",
       "\n",
       "// Register the function which deals with the matplotlib target/channel.\n",
       "// The kernel may be null if the page has been refreshed.\n",
       "if (IPython.notebook.kernel != null) {\n",
       "    IPython.notebook.kernel.comm_manager.register_target('matplotlib', mpl.mpl_figure_comm);\n",
       "}\n"
      ],
      "text/plain": [
       "<IPython.core.display.Javascript object>"
      ]
     },
     "metadata": {},
     "output_type": "display_data"
    },
    {
     "data": {
      "text/html": [
       "<img src=\"data:image/png;base64,iVBORw0KGgoAAAANSUhEUgAAAoAAAAHgCAYAAAA10dzkAAAgAElEQVR4XuydCbhdVXm/fwTLoCTMQ0gQFCkItkVtrYUiiVBxoELDHKQECyHEIQwJyhhAoBUCSbRSBC2UQQWCEKfWChVJCWJFbctgBUyAhAiBSASZ/Bv+z3fP2dx9d/Y+a+299t7n7HPe/Tz3gdyzxnd9557f+db6vrWOeCAAAQhAAAIQgAAEBorAOgM1WyYLAQhAAAIQgAAEICAEIEYAAQhAAAIQgAAEBowAAnDAFpzpQgACEIAABCAAAQQgNgABCEAAAhCAAAQGjAACcMAWnOlCAAIQgAAEIAABBCA2AAEIQAACEIAABAaMAAJwwBac6UIAAhCAAAQgAAEEIDYAAQhAAAIQgAAEBowAAnDAFpzpQgACEIAABCAAAQQgNgABCEAAAhCAAAQGjAACcMAWnOlCAAIQgAAEIAABBCA2AAEIQAACEIAABAaMAAJwwBac6UIAAhCAAAQgAAEEIDYAAQhAAAIQgAAEBowAAnDAFpzpQgACEIAABCAAAQQgNgABCEAAAhCAAAQGjAACcMAWnOlCAAIQgAAEIAABBCA2AAEIQAACEIAABAaMAAJwwBac6UIAAhCAAAQgAAEEIDYAAQhAAAIQgAAEBowAAnDAFpzpQgACEIAABCAAAQQgNgABCEAAAhCAAAQGjAACcMAWnOlCAAIQgAAEIAABBCA2AAEIQAACEIAABAaMAAJwwBac6UIAAhCAAAQgAAEEIDYAAQhAAAIQgAAEBowAAnDAFpzpQgACEIAABCAAAQQgNgABCEAAAhCAAAQGjAACcMAWnOlCAAIQgAAEIAABBCA2AAEIQAACEIAABAaMAAJwwBac6UIAAhCAAAQgAAEEIDYAAQhAAAIQgAAEBowAAnDAFpzpQgACEIAABCAAAQQgNgABCEAAAhCAAAQGjAACcMAWnOlCAAIQgAAEIAABBCA2AAEIQAACEIAABAaMAAJwwBac6UIAAhCAAAQgAAEEIDYAAQhAAAIQgAAEBowAAnDAFpzpQgACEIAABCAAAQQgNgABCEAAAhCAAAQGjAACcMAWnOlCAAIQgAAEIAABBCA2AAEIQAACEIAABAaMAAJwwBac6UIAAhCAAAQgAAEEIDYAAQhAAAIQgAAEBowAAnDAFpzpQgACEIAABCAAAQQgNgABCEAAAhCAAAQGjAACcMAWnOlCAAIQgAAEIAABBCA2AAEIQAACEIAABAaMAAJwwBac6UIAAhCAAAQgAAEEIDYAAQhAAAIQgAAEBowAAnDAFpzpQgACEIAABCAAAQQgNgABCEAAAhCAAAQGjAACcMAWnOlCAAIQgAAEIAABBCA2AAEIQAACEIAABAaMAAJwwBac6UIAAhCAAAQgAAEEIDYAAQhAAAIQgAAEBowAAjBswY3ftpKeC2uG2hCAAAQgAAEI1ExgtKQnJL1ac7890R0CMGwZxklaFtYEtSEAAQhAAAIQ6BKB8ZKWd6nvrnaLAAzDP0bS6scff1xjxtj/8kAAAhCAAAQg0OsEfvOb32i77bazYW4s6Te9Pt4qxocADKM6JABXr16NAAzjSG0IQAACEIBAbQRMAG68sWk/BGBt0PusIwRgny0o04EABCAAgf4ngACU8ACG2TkCMIwftSEAAQhAAAK1E0AANksATpc0S9JYSfdLOlHSogyrmSLpqpTXNpT0Uuz3edpM6woBWPvblg4hAAEIQAACYQQQgM0RgIdJulaSCba7JB0v6VhJu0p6LMUMTADOl7Rz4rVfxf6dt81CAvDVV1/V//t//0+///3vw6yV2hDwILDuuuvqda97ndZZB+e+By6KQAACA0oAAdgcAXiPpJ9IOiFmqw9KulXSaRkCcJ6kTTrYdt42cwvAV155RStWrNALL7wwoG8xpt0NAq9//es1duxYrbfeet3onj4hAAEI9DwBBGAzBKB9ipmCOkTSLTGrMg/f7pL2zhCAX2rn9llX0s8knSXpp+2yRdrMJQDXrFmjhx56SOaR2XLLLYc+jPHK9PzfhEYP0LzN9qVj5cqVQx7nnXbaSaNGjWr0nBg8BCAAgSoIIACbIQDtpg1L0rinpMUxQzhd0tEp27xW5N2S3iLpfyXZOb0Zkj4o6U8kPdS+vSNvm9bu+u2faBiWRXxZWhqYl156SUuWLNH2228v88jwQKAuAuZxfvTRR/WmN71JG2ywQV3d0g8EIACBxhBAADZLAO4h6e6YdZ0h6ShJu3hYnLlBbAv5TkmfjAnAvG2eI2l2sr9OApAPYY/VoUipBKIvH9heqVhpDAIQ6CMCCMBmCMCytmuvlGRXvnxAUtE2c3sA+RDuo78YDZkKArAhC8UwIeBBwOIHFy2SVqyQxo6V9tpLWtcONvEEEUAANkMA2iJbwMa97SjgaNEfkLQwIwgkaRgWEvmj9pbwR9svhrZpzWSmgWn6h/Azzzyjt771rfrRj36kHXbYIeiNllbZzkPecsstOvDAA0tvu+4GJ0yYoN13313z5lncUXXPU089pd12200/+9nPNG6cXUOd/jTd9qojSMsQaBaBr39dmjFDWha7cX78eGn+fGnSpGbNpddGiwBsjgCMUrZMa28DT5V0nKTdJD0q6Zr2OcEoIti2aX/YPu9nIs22fW272M4RmhC0x9Wmj71WLgC79e1v5syZ+vWvf60vf/nLPhxyl8krAM855xzdeuutQ+Kn1568AvCOO+7QxIkTh/huskmnQPW1Z3ryySfL/nB96UsW44QA7DVbYDwQKIuAib+DD5ZefXVki1GGpwULEIEhrBGAzRGAts6WA/DUdiLo+ySd1D7TZ6/dIWmpJMv/Z89cSfb9aBu7q7cd/Wvn9+JnCF1t+thWpQKwW9/+XnzxRW277bb6zne+o7/4i7/w4ZC7DAKwmAD83//9X73rXe/SE088oU033TSVOx7A3OZIBQj0FAH74m8bL3HPX3yAJgLNE7hkCdvBRRcOAdgsAVh0nausV5kA7Oa3v69//es6/vjjh9KJ2HPeeefp8ssvl4mPzTfffOh3H/7wh/Xss8/KvFmuVCOWDufv/u7vhraT3/zmN2v+/Pl63/veN2IL+FOf+tTQv5ctW6ZtttlGRx55pM4++2z9wR/8ga6++modc8wxI9bxqquu0pQpU3TppZfK/v+Xv/ylNttsM/31X/+1LrroIm200Uap6/7Rj35UtpX6rW9967XXLVH3+PHjdeGFF8pe7/T89re/1QknnCBjNHr0aJmn9Jvf/OaILeDrrrtuaDv4//7v//SGN7xB733ve4f+vdVWW2np0qVD0bnx5+ijjx6a47/927/p/PPP13333TeUPsjEt7HacccdR5S3+meddVbmWBGAVb7laRsC1RO44w5p4kR3P9//vjRhgrscJdYmgABEAIa+LyoRgN3+9nfiiScOiZd//dd/HeJjOeX22msvbb311kMizcTgpz/9af33f//3UJqbTo/lQ/yTP/kTbbHFFpo7d+7Q9qW1/9Of/nSEADThY0LJPI8mNI877jjZduepp54q80ia4DGBdNtttw11t/HGG2vDDTccElbWvp1TtLQ706dPH2rnsssuSx3W4sWL9Z73vEePP/74ULJke77xjW9o8uTJ+tWvfpUpHKPGrH0TfP/8z/88JFRPP/30IRFsAjc6A2ivWds777zzkNg86aSThrx15lE1lgsXLtRBBx00xHjMmDFD87D53HzzzUO5Iv/oj/5IJjRNAJtgtG3vuMg+7LDDhlILmfBNexCAoW9r6kOguwS++lVp8mT3GL7yFemII9zlKIEATLMB7osKe2dUIgC7/e3PAjPM0xc//2ceNgt0MAH0+c9/XldcccWQl871/Pu//7s++MEPDgkZ87LZY0LuAx/4QMcgkIsvvlg33HCDfvzjHw/V8T0DeNNNNw156J5++unMoVkghXndTFza8zd/8zdDZ/GyBFXU0PPPPz/E5ZprrpGJMHtWrVo1NK+pU6dmBoH813/919C27XPPPTckMH3PAJoH1ryGJojf9ra3vTYfE8YmoL9vX/9THgSgyyp5HQK9TaDbnwG9Taec0eEBxAMYakmVCMBuf/vbb7/99Ja3vEVf+MIXRvAx0WdbwyZ+vva1r3mxsy1M+zEBGT2WN9EEVzwKeMGCBUMC6uGHH5YJLduWNe+YedA6CUATQbZ1+8ADDwx5F62eCSBrw7Zf0x7zRNpcHnzwwaH2TcDdfvvtQ17OTo95PE0EW5LlN77xja8Vffvb36699977NQFo4swEq3nuTCCaF9SSM99///3addddMwXgI488MuTp/OEPfzgkYK2eeQK//e1vD4no6DnjjDOGPKH33GOB7Gs/CEAv06QQBHqWQLQLtHz52kEgNmjOAIYvHQIQARhqRZUIwG5/+zPPnl0r9hXbX4g9H/nIR4aE35/+6Z/qP//zP/W6173Oyc9E3ec+97kRAjB640UC0ATPX/7lX+rcc8+ViU/bDrV+LrnkkqFzhlkC0ITYLrvsomnTpg2JUjsDaOOy7dhOEbaW4sa2ms0Td/fddw9taf/iF79wzsUEnYm9TgLQBJttR9sZRxuXXQP42GOPDc3LhKEJyCwPoInD7bbbbsgzaeMzAWiev2S6HPNw2hZ2/BxjfPAIQOdSUgACPU8gOgduA41HAhMFXM7SIQARgKGWVIkA7Pa3vzlz5sgCGeIpV2w71gIxbEvXxNaxxx47JNhcT7QFbCLIRI093/3ud/X+97//NWFjQs/O7JkHLHqsffMKRgLQvHxf/epXh7ZDo8fOzB1++OF6+eWXXzsjZ2cJzYvmSrFiczChaQLQzv+ddlqUQSh7RuZVNJFpbA499NChgtaPeRDtzKKJ3XvvvXdIINt8TczZY+WPOuqo1wSgnUPcc889h7x8UVCNiVI7J3nnnXe+5ok0MWteyaQAtN9Z6pnPfOYzqYNFALqsktch0AwCaZkg7M+KpRwlD2DYGiIAEYBhFlRhIuhufvszkfWOd7xjaHvUghcsMveP//iPhwTfJz7xCX3ve9/Thz70oSGx8u5327XL2Y95sSyowYIiTOjZm86CIkwoRcLGgiIOPvhgXXvttfqzP/uzoS1P68sCJiIBaN5IO2dnosgEl0Xg2haueeRMeFn071133TUk5JYvX+4UgDaH/ffff6iPuDh1GYR53yyYwwI9LCjGtmP/4z/+47UgEDu3Z+ObMWPGkAfQInpnzZo15GGMPIA2PhOHdubQtnYtCMSCOuy8n52NnD179tCYLNDGzg/GBaBtJZtQNBGdtWWNAHStIq9DoDkEupULtjmEio0UAYgALGY5w7Uq8QBGzXfz25+lILE0Kya6/uqv/mpou9eigi1K1R4LRLDoWfMSZqVcieZh4idKA2Pbo7YlHPcAWjnb9jRRZd48E5cmLO0cXSQA7fe2NW1n9ex3URoYO89nASP2O4vutTJ/+7d/O0IA2pij8tGYbIvb0qlYQIgJTt/HvIDxNDCnnHLKUP34TSDmqbTo4BUrVgwJaROlljYnEoDWl3nvzOv55JNPDo3X0sDYub5PfvKTQ9vlFkFsnMzTFxeA1raJ45///OeZQ0YA+q4m5SAAgUElgABEAIbafqUC0AbXrW9/5uWyHHfmwXLl+QuFWGV9iz7eaaedhoJE7L/RY54025I20TmpQXspFk1saXRs2zrrQQBWaVG0DQEI9AMBBCACMNSOKxeAoQMMqW/RuyaOorNsIW11q26UwDqKaLYtacv3Z9vRdsbQzh36BLN0a/zxfm1L3jyFtqUceWLTxoUA7IXVYgwQgEAvE0AAIgBD7bOvBaAPnOuvv34oNUzaY0miLfVJLz3RTRx2Ts/E1D777PPa8OzcnUXiZj3mRYynf+mlecXHggDs1ZVhXBCAQK8QQAAiAENtceAFoCU3tnNsaY9d4+a6KSR0AcqsbzkETSBmPXZ+sQneQgRgmVZBWxCAQD8SQAAiAEPteuAFYChA6pdPAAFYPlNahAAE+osAAhABGGrRCMBQgtQvnQACsHSkNAgBCNRMoOoASAQgAjDUpJ0C0LYNLc8bDwTqIvDiiy8ObWVbmpsNNtigrm7pBwIQgEApBNJSoNlV8vPnl5cAGwGIAAw11kwBaAmGLf+dJfeNbnsI7Yz6EPAhYLeKWMTwH/7hH2rdddf1qUIZCEAAAj1BILoEIX79nQ2s7CvwEIAIwFCDzxSA1rAlArYExSYC7aaHTqk7QgdCfQhYcmvLb2jib5NNNhm6fYUHAhCAQFMIRNegLluWPmITgeYJXLJECv1uiwBEAIa+LzoKQPtAtpxz0W0WoZ1RHwI+BEz8bbPNNnzh8IFFGQj0MIGqz8H12tTvuEOaONE9qu9/X5owwV2uUwkEIAIwzII63AUcb9i2g3/3u9+F9kV9CDgJWOodtn2dmCgAgZ4nUMc5uF6D8NWvSh0uOXptuF/5inTEEWGjRwAiAMMsyFMAhnZCfQhAAAIQGBwCdZ2Di4j2iqcRD2C9Nr5Ovd31XW8dt4D7brZMCAIQgAAEKiVQ5zk4m0gveRqjuS9fLiWDQGysnAEs1/QQgGE8EYBh/KgNAQhAAAIxAnV6wer2NPosdDQmKxsXgUQB+9DLVwYBmI9XsjQCMIwftSEAAQhAIEagrnNwdXsa8yxymldyu+2kefPIA5iHo6ssAtBFqPPrCMAwftSGAAQgAIEueAB9PY233Sbts0/9S1T1uUSCQAgCCbVqBGAoQepDAAIQgMBrBOo6B+fradxsM+nKK8vzvPXKUiMAEYChtogADCVIfQhAAAIQGEGgjnNwvh5AG5idv1uwoL9EIAIQARj6ZwcBGEqQ+hCAAAQgsBaBss7BZW2lujyN8QGVGX3bK0uNAEQAhtoiAjCUIPUhAAEIQCCVQOg5OFeKl6wo4KzlKOMGjl5ZagQgAjDUFhGAoQSpDwEIQAACpRPwTfFi5Y47Tlq1yj2EMm7gcPdSTwkEIAIw1NIQgKEEqQ8BCECgZgKhnrWah5u7u7wpXm6/Xdp3X3c3eADdjJpUgjQwYauFAAzjR20IQAACtRK46SZp+nTp6aeHux0/Xpo/v3+CHHwDPCJB5zoPWMcZwLpFOR5APIChf3gQgKEEqQ8BCECgJgKnnipdfHF6Z/0U6eqb4iW+pVtH5HHWMrvOKlZhHgjAZgnA6ZJmSRor6X5JJ0pa5GEYh0v6qqSFkg6Mlb9a0tGJ+vdIerdHm1ERBGAOWBSFAAQg0C0ClsbkkEM69263TSxZIq27brdGWU6/eT2AUa9lRR7nmYXvWcU8bfqURQA2RwAeJulaSSYC75J0vKRjJe0q6bEOi719u/wvJdkR16QA3FrSMbH6r7TL+diPlUEA+pKiHAQgAIEuEbDtxbFjpZUr3QPoh3NuIVu6dW7F5j2r6F49/xIIwOYIQPPM/UTSCbHlfVDSrZJOy1hy+w73A0lXSdpL0iYpAjD5O3/raZVEAOYlRnkIQAACNRPw9YjZsPol0rWbW7q+y+u7LlWIcgRgMwTgepJekGTO+1tihjVf0u6S9s4wtnMl/bGkv5Fk271pAtA8gub1e7YtFs+Q9JSv8SIAc5CiKAQgAIEuEfA9E2fDq0JsdGna6saWbp65+q5LFaIcAdgMAbitpOWS9pS0OGZcp7fP8O2cYnBW9oa2QLRYrzQBaNvKz0t6VNKbJH1G0uskvVPSyxlGvL4k+4me0ZKWrV69WmPGmDOQBwIQgAAEeo2Ar6dpyy2lFSuafwYwzr/OLd286+67LlWIcgRgswTgHpLujhmYeeuOkrRLwuhMlP1P+7zgv7ZfSxOASVu14BITgxY08vUMQz5H0uzkawjAvG97ykMAAhCoj4DrrFk0khtvdAeK1Dfq/u8p5KxiKB0EYDMEYN4tYNsW/qmk38cMZFT7/9dIMo/hIxnG85CkL0n6bMbreABD33XUhwAEINAFAq5rz2bNki66qAsDK9hlL3v28kypW2cVEYDNEIBmSxYEcm/bqxfZ1gPt1C7JIJANJL0lYYDnSzLP4AxJv2if+0va6Obtreapkq7xNGCCQDxBUQwCEICAi0AeUZOnbNRv2pk42/a97DLp4IOHR1ekbdfcyny9G3nzyhx/sq1unFVEADZHAEZpYKa1t4FNpB0nabf2tq0JNjsnmBURnNwC3kiSbefeLGmFpB0kXSjpjZLeKuk5T2NHAHqCohgEIACBTgTyiJo8ZZN9usRdSNt1rHC38uZVPTfXupTdPwKwOQLQ1t5yAJ7aTgR9n6STJN3ZNoo7JC2VNCXDSJICcMN2Cpm3t6ODTQR+X9JZkh7PYWgIwBywKAoBCEAgjYBL1NjZvC22aAVoPPSQNHutk9iS3eRhjyV8njSpGGfXNvG550pnnNG9IBHXWcY6rmwrRrb3aiEAmyUAe8+CyAPYi2vCmCAAgQYRcIkam4rdzGHlXE+IAPIZh/XfzXuDuxk162LftNcRgAjAUJvFAxhKkPoQgMBAE/AVNXkgFUkbkmcc3bo32Ddv3nXXSUcemYfY4JVFACIAQ60eARhKkPoQgMBAE/AVNXkgFUkcnGccIZ7GPPNIlvUVqbZd/sUvFt8KDxljU+oiABGAobaKAAwlSH0IQGCgCfiKmjyQfD2A8cCDJ5+UTrKT5Tke335yNNmxqCtvXrxyt7yUZc216nYQgAjAUBtDAIYSpD4EIDDQBPKIGheoPJ65tGhf37OG0TiKeBpdc3C9npU3L1kvDwtXn/34OgIQARhq1wjAUILUhwAEBp6Ar6jpBCpPFLAr2td3QSwq+OyzfUsPlwtNeWLjnzZNWrnS3XfdXkr3iHqjBAIQARhqiQjAUILUhwAE+pZAHqET6pHbbjtp3jz3uTefaN88nsCbbhpOUTN2rLTXXp3TxJSVZ/D666WPfMRtOt3wUrpH1f0SCEAEYKgVIgBDCVIfAhDoSwJFhE5SMJqH6zC7BkDSq68OY4q8feecI+20k+QjvKLavmcOp0yRrrYMso4nKRY7pYkxJgcdtHaDebyXeedRlgcwj5h3MeuF1xGACMBQO0QAhhKkPgQg0HcEXImds5I1p4mMhQulGTOkZcuGMfl6+9LAWqCHeQpdj3nOspJOd6qbJeZsbltvLT3zTHrtvGf2XGcn87bXaU5FxLyLb7dfRwAiAENtEAEYSpD6EIBAXxFwbbFmCZNOIuOAA6RFi1o3gZi3b489pMWLh//t2naNANvYttlGevppN3LznFl/kye7yyZLpM3xvPPSbzBJ1s3jscs6O1nEo5g1y6JiPj+1emsgABGAoRaHAAwlSH0IQKDRBJJeO/v3vvu6pxQXOnlERog3ynf7d8stWx7Hyy7LnxomPvNojsZkq62kVavcXNLO7HXafk3jEeIhjY+wqJh3z7L7JRCACMBQK0QAhhKkPgQg0LMEXOe+0sTHZpvlEzp5RIZtBx988MjzgAav07Zr3HO4fLlf4MT++0s/+9nIbeciixSJOV/haX0kPYA+gte1TkXGbnV8x53Ha1l0LGXXQwAiAENtCgEYSpD6EIBATxJwCY/QVCqRaPAVGbfdJllgRvwsYBxccts1bfzm2fNJnVLWgkRz9L1lxMTzU08NRxHn8YyWNeZ4O77jbmKkMQIQARj6nkEAhhKkPgQg0HMEXMLjxhtbW6NZYqzThJJCzVdknHmmdP75blQmumyrNctTGI8mTmstTwqYrNHYHMeNa0URm6DzvWUknlcwj2fUxlzF4yvO8QBWQb/6Ntepvou+7gEB2NfLy+Qg0D8EfLcJfYSH3TVbxJOWtlXrKzJ8BeB110mf/nR+cWpjc4lDH2uI2tl885ERvy5haeVNKEZizpdLleKrzkhjH7ZllsEDiAcw1J4QgKEEqQ8BCFROwLWdGx+Ar/DwGXTyPGBacIKvyLjqKr/gkrlz/QI3TMTGo4FtbJajzydFTKe5J4WfD6e0e3t9PaOu7Vdf4Z81zjoijX0YlV0GAYgADLUpBGAoQepDAAKVEnBt5yZz8vkKD59B27k982hF6Vuy0rX4iAxLBbPDDpIFcmR56kx8HX+8dOGF7tFZbsEDDxw5NgsYmTjRXTdZws4WmvC0FDOdzilavaQnMCti11eId/IA5hH+nWZdZaRxftrl1EAAIgBDLQkBGEqQ+hCAQGUEfLZz7eaKJUvybz2aB82SGmeJsUgU2Vk4nzx9PiKjjDuDI9g2PhOm8fNzLm9kcqGSW9q+os3EoiWF7nSDiWssrkTPeYW/ywhDPYmu9ut+HQGIAAy1OQRgKEHqQwAClRHwFSRxL5LdbXvEEZJ94Kc9kfC45JL0a9rS6nS6Hs3KR+LCvHt2ttDEWZpwtHIXXCDNn++XasYFNs17lie62USw5Qo85JBWT77eU9e2bTRuH8/opElrz7KI8Hex6rfXEYAIwFCbRgCGEqQ+BCBQGYG8gsRH/MTPq6V57bJEo/0+7Qo4323KtHKhgRtZQsz31g6bU1zcFhHcrsX38Ywm26hiHK5xNu11BCACMNRmEYChBKkPAQhURiCPELBtWjtj1ym1i22Xfu1rrRQr0RP33llqmKzo4LQtS99tSh9hWgRi1vk5X+Ec9RmJYp9ziiYYly4dufWcHHtyuzXt6jurE09yHd9m9x2/ryeyCFvXnHyOBZTRb1YbCEAEYKh9IQBDCVIfAhCojIDvObKHH/a/9ixLNOURmxMmtLZ9OwnOSDDa2HbcMX9aFxdUE7MvvCCtt97aJX3nEq8ZCbvothJ7Le185KhRrShlu20kLTjGxyPqKuM7/ipTyMTZuMbrWqsqXkcAIgBD7QoBGEqQ+hCAQKUEXOfIZs5snV3zTeqc5TXy9TpZnr4jj/S/ZmzOHMnGWMWTJYDy3N0bH1eUyNmYH3209PzzfqOOtpGttOuqu05lTHCeeGJLXFo0clbEtCuAxG/UfqV8vbx+rZVXCgGIAAy1JgRgKEHqQwAClRPIOkd2+OGSCaw8CZBDPYAWOPHFL0ovvyxNnuye+hveIJsJJagAACAASURBVP32t+5yRUp02gLNcw4w3vfNN7cE2IYbSmvW+I0qiia2vIkWWZ32RLeL2Gs+Yj3KR5g8J5l1b7LfSPOV8vXyxqPQ8/VQvDQCEAFY3HpaNRGAoQSpDwEI1EIg7VxZnq1Vl9fItd0cn6S1dc450uzZtUw9s5NOW6A2H0vVkiXIshq1COb3vU+6/vruzi3rRpKsvINVjLbXtqLjc0QAIgBDbR4BGEqQ+hCAQFcI+H442+B8vUa+efri3qxOiZ2rBOMTjFFV8EmV80oK7fidxJ3yDlYxJt9jAXUGo0TzRAAiAENtHgEYSpD6EIBAVwj4fjjb4PJ4jUw0TZvmd1ewnZkzT6A9ebahywBmW6RXXCGl5dGLt190K7iMMZbVRl3BHsnx+n7J6Mb4EIAIwND3FwIwlCD1IQCBrhDw/XC2Wys+8YnOaUuSE7Dtz498xD0t8/ysv740dWr+rVZ3651L+Ho18wjl0DF1qh/iNe2Gh83m4joW4DpWUCVPBCACMNS+EIChBKkPAQh0hUCVH855xOWjj0rz5nUFwdDWdvIqvKJerNAZ2FiiIJBOgRvWT5SH0ddrGnnYunGdmysKPS05eChLn/oIQASgj510KoMADCVIfQhAoGsEqvpwdolLm7Dl4cu6bq5uIJ22IE2gRFe9VTWuuDfS+pgxY2Skb3ILPs8NLJHAtfyEyXZdV/SVNd8it5mU1XdWOwhABGCojSEAQwlSHwIQqIVAlvenqg9n34CQWibv6CRri9SVxiTv2C3/4Yc/LJ1ySmeB5+Opi8qYsEvzoCZFpSu/oOssZN65Jsv7zCm0jzz1EYAIwDz2klYWARhKkPoQgEDlBFw3MeT5cM5TNq3fXvL8ReDPPFPaZx8peT2Z71b2BhtIL73kXkY7T2mJmvMwdLcqdRLx0fV0WbkDfbbBfcbQtDIIQARgqM0iAEMJUh8CECidQFxgPPRQ53x7JkhMJPjczeoSkmkTiY/lySdb16D16pPcEvUNANlvP+m733XPKroFJSpZphDMastXxHYjEtdNrLoSCMDmCcDpkmZJGivpfkkn2n3YHiZyuKSvSloo6cBY+XUkWSrSqZI2lXSPpI+12/ZolkTQPpAoAwEI1EfA93xYckSu82BlXOnlK6jqozWyp2RksK94Ms+ej7C1cpZc2vLxrVwpnXzyyK1g1xoU4eLLvFuRwkXmVEYdBGCzBOBhkq6VZCLwLknHSzpW0q6SHutgENu3y/9S0qqEAPyUpDMkTZH0C0lnSnqPpJ0lPedhZHgAPSBRBAIQqIdASOLiTmlRXGfhOm0jNskDaKsUn4uN3RIpP/10+vpFZR9+WHLdquKz9e2bmiaPNfmKWDyAeaj2R1nzgDXlMe/cTySdEBvwg5JulXRaxiTWlfQDSVdJ2kvSJjEBaHN/QpIlIPhsu/76kp6UZMLwix5gEIAekCgCAQhUT8Al0nxGkCXkioqING/kqFH+d+T6jLmqMpak+sors+/dTYq1EPEdn0PZZ/JcEdll91fVepTdLh7A5ngA15P0gqRDJN0SM4T5knaXtHeGcZwr6Y8l/Y2kqxMC8M2SHpH0Dkk/jdW3beJnJR2d0qYJRPuJntF2L/fq1as1ZoxpQR4IQAAC3SHgK9J8Rnfbba00LStWtLYr7bo238TORxzR6iFEECXz4PmMue4y8dQs8YhcS4Jt27vRU1TwxreLo/OZRc8MVpXuJw/zomPP00eesgjA5gjAbSUtl7SnpMWxRT69LdRsyzb5WNkb2gLRHPhJAbhHe2t4XNsTGNW/QpJtG++X0qZdWrTW9eUIwDxvO8pCAAJVEPA96+XT9+jR0nOxQzBbbul3tVs84fAOO2R7z3zG0MtljIdF1a63XnoEblHRlzVnOxtowtrWOB7Nm+fMYFXpfnzWqUjwkE+7IWUQgM0TgCba7o4tup3fO0rSLglDMM/c/7TPC/5r+7UsAWjickWs/pV29aWk96cYFx7AkHccdSEAgcoIlOkBLDrIm25q3VLRC2MpOgffeiZ2V61qzdf3Rg7ftn3L5T0z2A0vXBnBQ7488pRDADZHAObdArZtYdvW/X3MIEa1/39NO8jj1QJbwEn74gxgnnccZSEAgcoIuM56VdZxrGHbFl2yRLrxRmny5Dp67F4f06e35pkVIFLXyHr5DJ/rXGo3x44AbI4AtPeSBYHc2/bqRe+tB9qpXZJBIBtIekviDXi+JPMMzmhH/P6uvfU7V9JF7bImNJ8iCKSuP130AwEIlEmgF27fsKTKm2/ulxalzLkPelu9GMXr6wnuxtgRgM0SgFEamGntbWDL3XecpN0kPSrpmvY5wayI4OQWsP29sGhfK3+MpIck2ZnCCaSBGfQ/pcwfAs0lYCJw6lTpmWeaOwdGnp9AL+bx8z2X2o2xIwCbJQDtHWE5AE9tJ4K+T5LllL+z/Va5Q9LSdk6/tHdPmgCMEkFbTsF4Imhr2+dhC9iHEmUgAIHaCPhG31ogw5veJP3oR7UNjY4qJGBpa84+u8IOCjSNB7AAtBqrNCkPYI1YvLtCAHqjoiAEIFA1AdeZK+t/o42k9dfHQ1j1WnRq31Lq2LVwZT4WEbx0aSt9T688rnOpnAHs7kohAMP4IwDD+FEbAhAokYCvx6XELmkqJwELlLnqKmnffXNW9CjejbN0rmH1Qg7CtDGyBdy8LWCXrdX9OgKwbuL0BwEIZBLwPXPVTwiTOQt7eW7m8VqwQDLP2KGH+o/Ugmp8znR24yydzyy6mYMwa3wIQASgj+12KoMADCVIfQhAoDQC550nzV4rVX1pzfdUQ9H24aWXDoupbubj22ILyW7vsLuDn3pK+vjHRybPjm4OOeAAySdJtq3jzju3bmIxwejjMexFD2BkNN3IQdjJYBGACMDQP2gIwFCC1IfAgBII/UBM1rfrx/J4lZqMPe0e3hkzRt6SYYLLeFxySfUzjTx7kyYN9/XKK9Jll0mPPCLtuKNkeQPt5hDfbfq4mOvls3TV062mBwQgAjDUshCAoQSpD4EBJBB6NVZafTv8b0JhEB4Td+b5M69bdF/xn/+59MUvDguubbeVTjmlnuvokhG4ndb35Zf9kmQnt3OrOksX+kWkqfaGAEQAhtouAjCUIPUhMGAEQq/G8k3zkobVzss9/3z3ri4LWWrbXt1669aWqHk7Tz55pLgr+/7dPGONizXX+p5zjt82fdp2btln6UK/iORh1GtlEYAIwFCbRACGEqQ+BAaIgE+als02a10xNmFCK6VH3EOz1VbSlCnFvVr77y99+9vNFIB2w4iJp4ULu3v/bpq5RmLNtb62VWxnBO2s4hNPpK+DKzVKWR47l1C1YJX4lna/vU0RgAjAUJtGAIYSpD4EBoiA7/kvQ2J53Y44QrLI3mXLyoFkyZ+/8IXWebRu32FbZEYmnl56yS8itkj7RepE9x+bWPddX9syNjFrTzxwJXm2sch4fOr4CFWzP7vXuZfyCvrMzbcMAhAB6GsrWeUQgKEEqQ+BASLQC2lazFu1fLlkyYh5wgncfPOwp8x3fW3L2JJxpwWuzJtXvefNV6j2clRx6MohABGAoTaEAAwlSH0IDBAB3w/eKpGceKK06aZ+59CqHEc/tG0s7Wxi9Piub3zL2OrYjz227R9t/VfJJ49QNS90Pz4IQARgqF0jAEMJUh8CA0TAlc6jDhQWOWvpSOwMGk8YgaSHzGd9bUvVBNghh0jdCsLIK1TDKPVmbQQgAjDUMhGAoQSpD4EBI5CVzmPAMDR+unY7xw03rO2x84nStrN+M2dKc+asHQhSxzlAl1B1BaI0fvEkIQARgKF2jAAMJUh9CDScQJGozDTPT8MxDOzwLVhi/vyR5/YsgvbwwzvnZeyUt7EOAVZVXsGmGAICEAEYaqsIwFCC1IdAgwmEbOGZcLQD/+YJKvJEHqhbb5X+8R+LtDA4dTbZRHr22Wrmm+ax891idY2o6iCMsvMKuubTS68jABGAofaIAAwlSH0INJSAa6vvppta+eo6Pb6H8bPasAhUyxs4cWJDIdY0bMud+C//kp3/cNYsaaONigfGJD12oesaYUneBlIFriIe7CrGUXebCEAEYKjNIQBDCVIfAg0k4MqjZlOKH/bPmmKIp8hEhwV0HHYYHkCXCX384y2RnEy7EuVFtICMMkRb5LELWdf4XKr2ALq49fPrCEAEYKh9IwBDCVIfAg0kkOcDPp4nLjnVV16RXv/6wbnDt1tLbalaLGVLJ29XnjXNmkfksXMFWURfENasKXYbSLc49lO/CEAEYKg9IwBDCVIfAg0kkMdbFL8pIjnVMkRHA/HVPuSXX26lvun0+Ig218DjHjtXkEUUBWxtduM2ENdc+v11BCACMNTGEYChBKkPgQYSyCvc0rbyTHDYdWDnn99AAA0a8oYbStdd53e7hp3bPPTQ4pNLnvt0BVm4Xi8+Emq6CCAAEYAuG3G9jgB0EeJ1CPQRgWgL0a5SO+kkaeVKv8klD/OTBsaPW5mlZs+Wzjor+27bMtYkzdvrCrJwvV4mA9oaJoAARACGvh8QgKEEqQ+BhhAIEQhpW4Pxbb+GIGj8MC1i+sor1/YGuiK680ycwI08tLpXFgGIAAy1PgRgKEHqQ6DHCKR5ZBYubKV0ySvakulBfKKHewxHXw4nHpjjsyajRkkWsOHz1JG6xWcclOlMAAGIAAx9jyAAQwlSHwI9RCArsfOLL0rPPJNvoFUmCM43ku6XHjNGMoa/+133x2IjsNs7li5tbQfnPc/pmgEeQBeh3ngdAYgADLVEBGAoQepDoEcIhG4DWk65+JlAOw9mN31MmjQ8wTzRwz2CJfcwRo9u3ZG7eLH085+3BNbTT+duxrvCe94jGevrr/euMlTwttukffbxz/9nOQTtxhXzGKY9dVzflm+GlO5EAAGIAAx9hyAAQwlSHwLqnJ+tDkA+24CucVik6bhx0ooV0tix0l57rR1wcPvt0r77ulpq9ut2o4ZdT7dqVVhEbR4Kxv2ll/J5aaPzgL43qZhnzwR+WpRwmrc3z/gpWz8BBCACMNTqEIChBKk/8ARC7tMtC14Z24CurT+b5yc/KVkE8SA8Jorynpmsm4uN0byydlNIlpcy6dkjdUvdq1RNfwhABGCoZSEAQwlSf6AJZG271u1RCdmajQTCww+3tj3TPICh28sDbSSek7d1MG/er3/tH7BhTXcK8MiyQ1K3eC5KDxdDACIAQ80TARhKkPoDS8C17VrXmSobx+c/38rrl/eJBILd6mAictmy4RYs0GD+fOmAA6Qddhj5Wt5+KO9PwPL9nXuuf/lOJdPOcZbTMq10mwACEAEYaoMIwFCC1B9YAr7brq6t1RCAeXP7Jb1FJhAOP1yaM2ft7c5IHJ59dnmCJGSug1LX7vy185dTp+Y7E5jkY0E9JuhdV8hlccVL2NsWhwBEAIZaKAIwlCD1B5aA77ZrVXnVQrZlTWSYZ2+PPaQdd+zs3WvCWbh+M0LL82frYx7YU04pPruiXz564Vxr8VkPRk0EIAIw1NIRgKEEqT+wBLrhAYxf5WYirkh6kvjW9KJF0sSJA7uEPTnx+PrYADfZRHr++WJDLfLlo1fOtRab8eDUQgA2SwBOlzRL0lhJ90s6UdKiDHO1zFunS3qLpD+Q9JCkSyRdGyt/taSjE/XvkfTuHG8BBGAOWBSFQJxAdAbQomLTokXLPgOYd7vXtVrmHbKAj8mTXSV5vRsEbH2+8x3p4ouL9570ALq2dXvlXGvxGQ9OTQRgcwTgYW3xZiLwLknHSzpW0q6SHksx2QmSNpX0c0mvSNq/LQA/JOm77fImALeWdEysvpVdleMtgADMAYuiEEgSiLwl9vu4CPSNAnZ9IEf9hWz3Zq2aeYcs3x8ewN6062uukY45Jjtxc6dRp3358NnW7YZXuzfp9/6oEIDNEYDmmfuJpBNiZvWgpFslneZpalb/25LOignATSQd6Fk/rRgCMAAeVSFgBIrmVfP5QLb2XV6Zoqtg3iELNiDCtyjBautNmyZdfnn+PtK+fPhu63b7XGv+2Q5uDQRgMwTgepJekHSIpFti5jpf0u6S9naY8DqS3ivpG22x972YADTxZ16/ZyX9QNIZkp7K8ZZAAOaARVEIZBHw9eS5PHp13L+blhj4oINY214jYEEgCxfmH1Uy9YvrC0SRM6FFg0vyz4YaWQQQgM0QgNtKstz5e0paHFtMO+NnZ/h2zljgjdv11jcngCTbPv7nWFnbVrajwY9KepOkz0h6naR3Sno5o01ry36iZ7SkZatXr9YYu+2cBwIQqJxAng/kddf1v+s1z8At15x5/556StpqK+n881t33vL0DgG7cs/u+/V5LOXLkUe2IoeTV/jl2daNPMJ1nWv1mRtl0gkgAJslAPeQdHdsKc1bd5SkXTIMfJSkN0vaSNI+7a1f8/hl/Zm24BITg4fbrlRGm+dImp18DQHInxgI1EcgzwfyhAktYZbnnJ6JRhOZPP1PwLx3//Zv0j77rH1vczT7vNu6oeda+596b8wQAdgMARi6BRxZ25ckbSdpvw7mZ9HCVu6zGWXwAPbGe5dRDDCBvB/IrmjjAUY58FOfNUu66KLOGHy/QMS3dYueax34BakRAAKwGQLQTMKCQO5tb+NGJvKAJDvh4RsE8mVJO0qyCOG0Z/P2lvFUSdd42iFnAD1BUQwCZRHI+4FsAvCCCyTbtuWBgBEwL+/JJ7vFn5V1fYHISleU91wrK1MvAQRgcwRglAZmWnsb2ETacZJ2a2/bmmCzc4KRGLT//ljSI5LMg/jBtlfPoojNw2fbwrade7OkFZJ2kHShpDdKequk5zxNEQHoCYpiEHARcH1gxpM42729lsTZlT/QggBmzOAeXhf7QXj9Yx+TTKzZzS3Tp+e74o1t3f6zEARgcwSgWZ8FcZzaTgR9nyS7uv3Otlnaub6lkqa0/32+JBON4yW92M4HaFHDN7Rf37CdQubtlii+LQK/3z4n+HgOU0cA5oBFUQhkEXCldPFN4hyPAra+Dj44XSSyEoNHoMitHnFKbOv2l80gAJslAHvR+hCAvbgqjKlRBFw51mbOlObM8RNyUQoPi+YkP1+jzKDywVpEsG392u0tlsA7Ge3rMwCXl9qnDcr0BgEEIAIw1BIRgKEEqT/QBFwpXQyOKyrXUnjMnSuNGzf8oe57TnCg4Q/Q5DffXNpgA8nSs0TP+PHS/PnSJLs4tH3Wz+52DhGIA4S08VNFACIAQ40YARhKkPoDTaAsoZZMrOsbKTzQ8Jn8EIFzz5V23VWyc6XLlmULRHD1FwEEIAIw1KIRgKEEqT/QBMoSah//uGS3cUTbemUJy4FenD6YvHmPN95YWpXnhvf2vH3vo+4DTAM5BQQgAjDU8BGAoQSpP9AEyhZq0bYeZwAH2qxem7yl/jEPX9EnK8VL0fao1zsEEIAIwFBrRACGEqT+QBNw5VgzOObFWbPGLwgk7rWxtg89dKDx9sXkbU3tfKel/Imf4es0uSgY6OWXpcmTwzFwd284w15rAQGIAAy1SQRgKEHqDzwBV461KArYQKXl/UsCjLw2H/1omPdn4BemRwDYei5Y0BqMpfVJ2oG9bnZhnr6ddhoZ4VuWhzk0hUyPoGQYMQIIQARg6BsCARhKkPqNJ1BGagxXjjXfPIBFYUYiomh96lVDIPLkRZG6LjtJjsLHw+wzcjyAPpSaVQYBiAAMtVgEYChB6jeagCuBc57JZQnJ+A0gK1dKDz0kXXZZnpY7lzXP0ec+Jz3zTHlt0lIxAkceKf3pn0qW2iee1ifeWt4vHFl5Jn1GyBlAH0rNLIMARACGWi4CMJQg9RtLwJXA2bbtIs+N7ySTH+4m+OzO1nh6jtGjped8L2v06PiQQ6SbbvIoSJHKCVx3nWQisNOTVwBaW0U8yEQBV77cXe0AAYgADDVABGAoQep3hUCRD9GkF6bTTRtFPCdFPqS7Ao9OKyPg2moN8TibzV9wgWSRwT5PcvvZpw5lmkMAAYgADLVWBGAoQerXTiDkQzQarO/hetcHetReyDZd7QDpsBICJriWLGlFfac9ZXmcs84RXnJJa+uZm0AqWd6eaxQBiAAMNUoEYChB6tdKoKwPUd8Ezj7Rkz7XwdUKic5qJxBF+mYdGXDZSF6Pc6gHvHZAdFg6AQQgAjDUqBCAoQSpXxuBMj9Ey/QA+rZVGyg6qp2AJe6+9dbsbn1txNfj7JogAtFFqPmvIwARgKFWjAAMJUj92giU+SHqSq+RxyPj602sDRQddYXAjTdKFpCT9vjaiI/H2TW5Mo5IuPrg9e4TQAAiAEOtEAEYSpD6tREo+0PUlcDZNwrYV5jWBoqOukJgiy2kX/0q/Qygr42EegDLOiLRFYB0mosAAhABmMtgUgojAEMJUr82AlV8iOZNzJs2WROKWZ6f2uDQUU8QyBJwZXqcsyZa5hGJnoDJIDoSQAAiAEPfIgjAUILUr41AVR+iIeelXB+6tcGho54g0GkLtyyPc9ZEq/iC1BNQGUQqAQQgAjD0rYEADCVI/VoJVP0hmncyvh+6edulfDMJuLZwy/A4Z5Ep+4hEM1dgcEaNAEQAhlo7AjCUIPVrJ1Dlh2jeyfh+6OZtl/LNIzB+vLR06cgzgGneZZvZokXl5+vz/TLiEqnNIz+YI0YAIgBDLR8BGEqQ+l0hELJtW+aAfT90y+yTtnqTwM03j7w6sO5o3KqOSPQmbUaFAEQAhr4LEIChBKk/0AQ4AzjQyz9i8nEB2K1o3F47IoF1VEcAAYgADLUuBGAoQeo3jkDZ3sPzzvO/n7VxsBiwF4F43kirUPY9016DaBfqpSMSecZN2XwEEIAIwHwWs3ZpBGAoQeo3ikAV23KcA2yUCVQ6WDtfZ8/Eie5uqjyLV/aXHPdsKFE3AQQgAjDU5hCAoQSp3xgCVW3LcQ6wMSZQeKDm4Xv1VXd1SwNjz+TJfmWPOMJdjhIQSCOAAEQAhr4zEIChBKnfCAKus3p5rn5LTtjVdiMAMciOBE47Tfr7v3dDuu22VhRwtz2A7pFSoukEEIAIwFAbRgCGEqR+Iwj4eumKbsudeqp08cWNQMEgCxAwYTdlirR8eWdP4Lhx0rx50kknZZcN+bJRYOhU6VMCCEAEYKhpIwBDCVK/Jwkkz0DZB/dHPuIeaqebHLJqZ20tu3ujRBMI2B2/Zj//8A/uYB8Td/bMnCnNmdP6//jWcfS67z3TTeDDGLtDAAGIAAy1PARgKEHq9xyBtECPLbeUVq50DzWvBzDv9u/rXy+98IJ7HJToHQKnnCLdcIO0bJnfmCIP3yWXSCefPLLedtu1PISTJvm1RSkIZBFAACIAQ98dCMBQgtQvnUBIBGOnQI9Oh/iLbsv5bi3HIY0aJa1ZUzo2GqyAwAEHSN/4hl8ASLJ7+zKx117V3PpRwVRpsmEEEIAIwFCTRQCGEqR+qQRC0rTk9cZFAw/ZlrOzXubR4ekvAuYx/sd/lMz75+v5SxIocpygvygymyoJIAARgKH2hQAMJUj90giEpmnx9cbZma6nnx4edtFtORvvQQeVNn0a6hEC554rnXFGy3PnE82bNey8xwl6ZPoMoyEEEIDNE4DTJc2SNFbS/ZJOtHvBM+zNTomcLuktkv5A0kOSLpF0bay8HTmeLWmqpE0l3SPpY+22fcwYAehDiTKVE3B573y2aH0TMl93nWTRmitWSGPHtrbpLHVHnsc13jxtUbY3CGy0kfQv/zJ8Ps/XnpKj97HV3pgxo2gyAQRgswTgYW3xZiLwLknHSzpW0q6SHksxxAltUfdzSa9I2r8tAD8k6bvt8p+SdIakKZJ+IelMSe+RtLOk5zyMGwHoAYki1RPw9d518qqU0YbvTH378m2Pct0nYMItHp1bZI1DjhN0nwAjaBIBBGCzBKB5534i6YSYkT0o6VZJp3kantX/tqSz1Jr7E5LsBNJn2/XXl/SkJBOGX/RoEwHoAYki1RPw9bZ0OlcVeeWycrWV6ZnxHW/15OihLAJJ+zB72mabkccFXH0VPU7gapfXIZAkgABsjgBcT5IlfzhE0i2xhZwvaXdJezvM28TeeyV9Q9KBkr4n6c2SHpH0Dkk/jdVfKOlZSUd7vGUQgB6QKFI9AV9vi+tcVXSO0EZcZf413/FWT44eyiYQt7GbbpIOPbRzDxYwMndu61hBkeMEZY+f9gaDAAKwOQJwW0nLJe0paXHMPO2Mnwk127JNezZu1zPP3u8l2fbxP7cL7tHeSh7X9gRG9a+QtL2k/VIatHbsJ3pGS1q2evVqjRljWpAHAt0hUKb3LisP4JFHSpbWo4wPadd4u0ORXssgkPQyd7rlJbltXEb/tAEBHwIIwOYJQBNtd8cW187vHSVpl4wFH9X29G0kaZ/21q95AO+QFAlAE5crYvWvlLSdpPentHlOO2hkxEsIQJ+3G2WqJlCm9+6VV6TLLpP+/d+lxYul1auHRz9+vDR/fngy3k7jNe/j5ptLzzxTNTXaL5tAmpfZzgZOnz4ymTjbvWWTp708BBCAzRGAoVvAkV18qS3uzLtXZAsYD2CedxhlayeQ5r3z/aCNEkgvXChdf33nmz/K8tx0Gu8Pf8j9wLUbUGCHJtqffDI9KjwkQXngsKgOgbUIIACbIwBt8SwI5N72Nm60mA9IsjN7vkEgX5a0oySLEI6CQOZKuqjdoAnNpwgC4a9FkwkU+aBNE2IuBp0+7KO6PmOJyljwiV03Z2fCLHhgypTiSYRdY+f1aghYDsCzz66mbVqFQJkEEIDNEoBRGphp7W1gy913nKTdJD0q6Zr2eb9IDNp/f9wO9DBh98F2tK9FEZsn0B6L9rVyx7TzBNqZQhOHpIEp851GWz1NICuBtM+gow/8NKFnnsQZM0aKuPj2sdWxYBD7efDB1n/Z8vWh3ptlfL4Q9ObIGdUgEkAANksAmo1aEMep7UTQ90k6SdKdbeO1c31LFPvJVAAAIABJREFU2zn97FfnSzLROF7Si5IsH6BFDd8QM/YoEbTlFIwngra2fR6igH0oUaZnCZgI2357ybxvRZ7NNpMuv1w6+eSRQs91fs+uCLv6agRfEea9Wufmm8PPhfbq3BhX/xFAADZPAPaaFSIAe21FGE8uAuedJ822u3B4IOBBwIS9PXFPre8ZU4/mKQKB2gggABGAocaGAAwlSP2uEeAu3q6hb1zHZ54p7bNPKwWQPXbPb8hVgI0DwID7jgACEAEYatQIwFCC1O8KAe7i7Qr2xnVa5u0vjZs8A+5rAghABGCogSMAQwlSvysEbr9d2nffrnRNpzUTsKhqi64u8pSV7qdI39SBQJUEEIAIwFD7QgCGEqR+7QRs6/e446RVq2rvmg5rJmDn8y69tHUdW/xqP59hcLbPhxJlmkoAAYgADLVdBGAoQerXSiAk5UutA6WzUghEkbm27lOn+kdd2928n/hEekLnUgZGIxDoMgEEIAIw1AQRgKEEqV8bAbvebdw46emna+uSjrpIwCJ2b7hBeuopaexYaY89pAsvlCzyO8sbyJm/Li4YXddKAAGIAAw1OARgKEHq10LAPEDTphU/C5Z3kCYk8m455u2D8vkIREm416yRDjkkvW6ZZ/58boHJNwNKQ6A8AghABGCoNSEAQwlSv3ICdW77vutd0o9+VPmU6KAAARN39ixY0Ppv2paweQ2vuKJzQmcfYZd2tWD8FpgCw6cKBEolgABEAIYaFAIwlCD1KyVQd7qXDTaQXnqp0inReACBaIv3kktagSHJJy4SJ01a+3UfYZf1hcPVdsC0qAqB3AQQgAjA3EaTqIAADCVI/UoJ2P26EydW2gWNN5DAFltknwXNOgfoI+wOOEDaYYeR1wLG8XDGsIHG0qdDRgAiAENNGwEYSpD6lRL46lelyZMr7YLG+5TA978vTZjQmpzLkxwJu6uu8ssvGW+7T/ExrR4ngABEAIaaKAIwlCD1KyWAB7BSvH3d+Fe+Ih1xRGuKvnZkV8adf74bS7xtd2lKQKB8AghABGCoVSEAQwlSv1ICLs9NpZ3TeM8RME+dbf/63AwS99L5epJ9BSAewJ4zjYEbEAIQARhq9AjAUILUr5xAnVHAlU+GDgoTiIIwbrxROukkafny9FQ9aef0fD2At90mTZmSr+3CE6IiBAIIIAARgAHmM1QVARhKkPpBBHxSclgHeW+CCBoUlXuSQPxqt+hLgQ00nq8xK1I38iT7iMaFC6WDD15bXBIF3JNmMbCDQgAiAEONHwEYSpD6HQnYB695X+zHHjuUbz/rrtsSdTNmjIy47JRrzdo69ljp6quBPkgEPv5x6aCDpL32Gnm1W5r9dLr/11c0Zn3Z8MkxOEjrwly7SwABiAAMtUAEYChB6mcS6PRB+tGPSnPm5Pey+J7lYln6h0Cn83a+HuSIhks0uo4bRHcT9w9dZtJUAghABGCo7SIAQwlSP5WAfZCa16bI0ynXmu9ZriL9Uqe3CFSVcy9LNLoCjqoaT29RZzRNIYAARACG2ioCMJQg9dci4Pog9UVmB/Jtq3jFCmns2NYWoD2WqDfrLJdv25TrbQJFz9vl9QjGKfh+uSACuLdtZ1BGhwBEAIbaOgIwlCD11yLg+0HqQrfRRtLzzw+XsvQfl13WEoV2SN+eeACAqz1e700Cr3+9ZFfwrVo1PL5OZ/myZpH3TGmyHd/jBeQA7E07GrRRIQARgKE2jwAMJUj9tQj4fpAWRTdzpvQXf7F2AEnR9qjXfQJp3l4T+r6PzzVvaXcD4wH0JUy5XiOAAEQAhtokAjCUYJ/Wr2MrLQTdKadIn/2sdMEF0vz5I71HIe1StzsEQrxqriMHWWf3kja+xx7SjjuSA7A7FkCveQkgABGAeW0mWR4BGEqwD+uHbqW5PpDLQmYi8NJL2QYui2c32zEP4D77FBuB75GD+Nm9LBu3q+MsOt0en/yCxUZMLQiEE0AAIgBDrQgBGEqwz+qXsZVmSEKigH2RmmeHM4C+tHq73Lhx0uc+J7m2adNm4XvkIPIyumzcjhhYm8uWDfdW5ExibxNndE0ngABEAIbaMAIwlGAf1Xd57vKmweD2jj4yjoqnUjTq14aVxwNokeQWRR4Xd/GpRTb+8MPS4sUjI9DznEmsGBfNQ0AIQARg6NsAARhKsI/q5/kgtds8fJ4XX5ROPln6xjekJ57wqUGZQSVg4ss8gXbTy1NPDaf+cQmvPNe8LVokTZzoJkyqFzcjSnSXAAIQARhqgQjAUIJ9VD/vVppr6qee2jqjZx/QPBAoQqDT1YDx9nyveSvbxovMiToQKIMAAhABGGpHCMBQgn1Uv0wPoIm/iy/uIzhMpSsE8mwNu655swmUaeNdAUKnEGgTQAAiAEPfDAjAUIJ9VD/PVlp8Wy6ZTuPP/1waPRrPXx+ZRlenkufsqSt9UVEb7yoAOodACgEEIAIw9I2BAAwl2Gf1fbfSommneV023lhavbrPwDCdEQRGjZI23FD67W/rA1PWuby8Nl7fDOkJAv4EEIAIQH9rSS+JAAwl2If100TdlltKRx4pHXBA605e8wBmpdPoQyRMqQcIhCSLTg7fZ7u4B6bMECCQSQABiAAMfXsgAEMJ9lH9+PbZVlu1Jvatb0nXXy+tXDk8UTuYP3eudNJJ2ek0+ggLU0kQMO/fmjX1YynLAxiN3LVdXP8M6REC/gQQgM0SgNMlzZI0VtL9kk6UtChjuY+T9LeS3tZ+/V5Jp0v6Uaz81ZKOTtS/R9K7/U1ICMAcsPq5aJpHZPPNpWeeWXvWJGDuZ0voztzM1latSk/snecMYHdGT68QqJ8AArA5AvAwSddKMhF4l6TjJR0raVdJj6WYzvXtcoslvSTpVEmTJO0maXm7vAnArSUdE6v/iqRVOUwRAZgDVr8WZSu3X1e2GfOyWzYuuUQ6zP5KcgVbMxaNUXadAAKwOQLQPHM/kXRCzGoelHSrpNM8LGldSb+W9HFJ18QE4CaSDvSon1UEARgArx+qum7/6Ic5MofuETDP3pQpLYGX9ph3b8GC1hVwnMvr3jrRc/MIIACbIQDXk/SCpEMk3RIzs/mSdpe0t4fpjZb0VLuNb8UEoIk/8/o9K+kHks5ol8tqcn1J9hM91u6y1atXa8wY04I8g0bANy9aES6bbdba1nM9Z54p7bKLdMIJ0nPPuUrzepMI3HSTdPDBkv13+nTp6aeHR592vy7n8pq0uoy1mwQQgM0QgNu2t233lGRbutFjZ/rsDN/OHkb0BUn7tc8E2pawPbZh8rykRyW9SdJnJL1O0jslvZzR5jmSZidfQwB6rECfFvG9GaHI9M3zY9d6uZ7ocP9550mz17JOV21e72UC8cANxF0vrxRjaxoBBGCzBOAeku6OGZl5646StIvD8Oz836cl2e2r/9OhrAWXmBg8XNLXM8rhAWzau7zi8VbpAbzuOunTn5aWL08/3G9Ts4jipUtbaWVMIGy9dXrgScUYaN6DgG0S/OY3HgVjRcpM3ZKvZ0pDoL8JIACbIQBDtoBnSjpT0r6Sfuxhzg9J+pKkz3qUtSKcAfQE1a/FqjwDaN4f2wK2LUB7Xn11bYp2RuyKK1pnwGwsF1yAF7CXbM28uO97n2RpgQ491G9LPz7+slO39BIbxgKBbhJAADZDAJqNWBCIpXKxKODoeUDSwg5BIJYyxsSfbf3+0MPQNm9vNU+NBYq4qiEAXYQG4PUq7u21xNErVgwnjJ46NTuljCGeOVOy7ehlywYAeIOmaF5cSwB+++3SvvY11PMhdYsnKIpBoCABBGBzBGCUBmZaexvYRJrl+rO0LrZta5G9lt4ligi2bV870ze5nQ4mMhE782c/G0my83w3S1ohaQdJF0p6o6S3SvI9So8ALPjm65dqVXkAb7xROsTCntTy7G2/fWsruMhj7Rx3XMtL+LxZP09tBLbYQjrmGOnLX87v/bv55taa8UAAAuUTQAA2RwDa6pv3z4SdndW7T9JJku5sm8UdkpZKmtL+t/3/9ikmc25b+G3YTiHzdkmWCsZE4PclnSXp8RymhgDMAasfi1ZxBnDWLOmii4ZpldHHGWe0tod5mkHAtvaffLLlAeaBAATKJ4AAbJYALN8CwltEAIYzbHQLZUYB27bvZZcNn/mLwJTZR6NhD9jgOf83YAvOdGslgABEAIYaHAIwlGDD65fhndt/f+mUU6S99hqO5l20qHUGcOzY1hZwnvNjDUfaqOGbp87O68Xz85U1ASKAyyJJOxBYmwACEAEY+r5AAIYSbHh9nzOAo0ZJa9ZkTzR+1ivtNodx46SXXsq+67XhCBs/fEvV8w//UP408ACWz5QWIRARQAAiAEPfDQjAUIINr2+CLStC12dq8WjPhQtb27/JdC9WJi0FjE/7lKmewN57Sz+we4RKfOyWjyVLOANYIlKagsAIAghABGDoWwIBGEqwwfVN/KUJtmhKLs9ffOq33da687VTGpeNNpJeeKGzN7HBOBs79CIJnl2TjUeBu8ryOgQgkJ8AAhABmN9qRtZAAIYSbGh9n63fPFOz+3zPPz9PDcr2MwG2f/t5dZlbLxBAACIAQ+0QARhKsKH1ywj+iE8dAdhQQ2gPe7PN8uf56zRjAkCabQ+MvvcJIAARgKFWigAMJdjQ+mWmZrHzXlddRaRvQ01haNjnniudY6nlM67syzs3PIB5iVEeAvkIIAARgPksZu3SCMBQgj1W37Z24ylYotQsyWGW6QG0KGCLEo5u/ugxJAynA4FkEM+MGWHX8XEFHOYGgXoIIAARgKGWhgAMJdhD9dNSsIwfL82dK9mVXlFePhOF9uywQ+t6trQIXfsgj28LppWxHHJXXCEdcECrLe7x7SFj8ByKrfOCBcNXtkVfIMwuTjqplR/QN4Lb2rIn3p7nMCgGAQjkJIAARADmNJm1iiMAQwnG6vt630rs8rWmXBG98T5NFM6f3/qNRQHbE/+Qj3+Q22tJr5AJv09+UrLr2eyqrzK9iVWwoc10Apts0rrjN+u+3sim0uzD7MXs4Jlnhtu2owDz5nH/L/YGgToIIAARgKF2hgAMJdiun+V9M6GV9QHbqes8YjJvRK9L4CU/yF1jKfM8YUnL0XfNvOtd0oc+1Dqn5+uRc0G45hrpqKM6l0qz68g+zPPrc9zANQ5ehwAE8hNAACIA81vNyBoIwFCCkrK8b0W3xPKKySIeuPhZLUOQ/CBP+515+9KeIv2XgH2gmjBP7U03tWwt9JxeBM43UMP1BWCgFoLJQqBHCCAAEYChpogADCTo8r7lPRRfREyGeODSRIBLgCYFwZNPSkce2brzl6caAnaG81e/Gr5r+YILpNmz1+4runUluT2bLMlNHdWsE61CoC4CCEAEYKitIQADCfp6v3y8LUXFpO8Y0qaazNfmEqAzZ0omOAn4CDScAtWTNtRpe9aad53vLHI0ocCwqQIBCFRAAAGIAAw1KwRgIEFf75tPYlxfIZcUApFwzIro7TTFeFsuARqIiuqBBNJsqNP2bCeBiPgLXAyqQ6DLBBCACMBQE0QABhIsKtrSug0Rk1kRm1nTS9ua9p1LIDKqFyTg40VONs35vYKwqQaBHieAAEQAhpooAjCQoMv7lucMoK8AyxICvgECWcEpvgI0EBnVCxAo68wegrAAfKpAoAcJIAARgKFmiQAMJRiLAramsvLp+Wy5lSEmkx/wK1dKJ5888sxeVr42XwFaAjKayEEgmaw5R9URRfMG92TdIlO0f+pBAALlEUAAIgBDrQkBGEqwXb+s81adku9aV3lvWTBBaMLOfuyZMKH1k5bSxSVAS0I1EM2sv7708svhU41uW/H5AtGptyLBPVHC8NC+wynQAgQgkCSAAEQAhr4rEIChBGP1y9peK1NMJnPGJT/U0zyGhx3WmlRZCYdLRNyYpv76r6VvfjN8uOPGSZ/7XHoycV97KxrcUzSPZfisaQECEHARQAAiAF024nodAegi1KXXsz7cfT/0XR4f8yTakyYQjziCVC+hy3711dIxx4SL6CwR5trOjY8/ZGs/zxnWUGbUhwAE/AkgABGA/taSXhIBGEqwxvq+H/ouj499qG+22ch7XKNpRILjxhslSz58++3S+efXOMk+6eq226Qrr5RuuCF8QkkR5iPu49u2ZQT3FIlADp85LUAAAlkEEIAIwNB3BwIwlGBN9fN86Id4fGw6ccFhQnDy5Jom2Ufd2Fb7pZdKH/2o9Pzz2RMbNUpas8Zv4iYq7fzmDjt0TsSdjBgOtQcbnU8eS79ZUAoCECiDAAIQARhqRwjAUII11Pfx6JngWLKkFdxRhsfHpmVeH3smTqxhkn3WReRJ/fCHpYUL0ydnZUxg//d/+3lZzWtrW/ZpV8Ale0hL8F0kUXjULh7APjNQptN4AghABGCoESMAQwnWUN/XgxN9SPuWdw3dvD6HHiqNHStZOhmecgnMmiVddFErQrtskX3dda37maMnb6LwqB5nAMtdc1qDQFkEEIAIwFBbQgCGEqyhvq9HL9qmKyudSyQoLWDkkENqmGiXuzAP269/nR24Yd5VY1vWE23VWnu2rRvioUuOae5c6cQTR/42K7r88MOlOXNaZUPyWJbFhXYgAAE3AQQgAtBtJZ1LIABDCdZQ39dDFN+mK+rxiaZjW8pLlw7nC7S0Jt/6Vg2T7WIX0Xk883qlCSFLqH3JJeUOMFozW6+DDiqv7aQHMGo5K4q8rNRD5c2AliAAgU4EEIAIwNB3CAIwlGAN9V0evaxtOvtQnzo1PdrXNexzz5XOPnu4lK8IdbXbhNct+fIzzwyPNLo5xTyEZW/Vxr22W29dbK3SmBY5s+ebYqgJa8gYIdDvBBCACMBQG0cAhhKsqX6RG0LsA3377Vtbi3mfuDBZtEi69VZp/vy8rXSv/NveJt1/f7E8fOb9tDx+Tz3VOv8YXYnmuxWfZ9Zln9u0vsu6NzjPPCgLAQjUSwABiAAMtTgEYCjBkut38sLk3aYL8dqZMFm1au1E0SVPt5LmNtpI+u1vi4m/aECWcmWffUYOL4Rn2kSjiG07X5lHXCY9lPG2y7o3uJKFoVEIQKA0AghABGCoMSEAQwmWWN8n0XOebbo8oiKaRrSdbDnsLAK46HVwdl5u4439UpaUiHCoqTFjpN/8JqzVTTdtBVHstNOwF9BadOXgy9trJNjybC/ffHOrl+QtLtFWNXf35l0FykOgeQQQgM0TgNMlzZI0VtL9kixOb1GG6R0n6W8lva39+r2STpf0o1j5dSTNljRV0qaS7pH0sXbbPhaNAPShVEOZPImefYdTxGNlgsRurzABt2yZb09rl9tyy1b9HXcMa6f4CMqtGd2hbK2WGawRCe6HH26x6hQJbB7Dr31NOvjg1tzyfBkolwatQQAC3SaAAGyWADxM0rWSTATeJel4ScdK2lXSYynGdH273GJJL0k6VdIkSbtJik51fUrSGZKmSPqFpDMlvUfSzpKe8zBQBKAHpKqLvPKKNG6c9PTT6T0VzcXmCh5J9mYeJPP8mXA76aTwWds2suUPNE9i05/4nbw2l6LBNVkcoi33SNyleV4tafQgpONpuq0wfgjUQQAB2CwBaN65n0g6IWYcD0q6VdJpHgazrqRfS/q4pGvsxi5JT0iaJ+mz7frrS3pSkgnDL3q0iQD0gFR2kbjn5qGHpM9/Plv8xfsuEtnpSgez334tz1O01TlzZnkeOwsksSCKsiNny14P3/biQtzqXHBBKzDGzkpGT9FcgVHQTd5znr5jpxwEINBfBBCAzRGA60l6QZKl070lZoYWV7m7pL09THO0pKfabVhGtjdLekTSOyT9NFbfLp56VtLRKW2aQLSf6LE2l61evVpj7OAUT+UE0j7gfTsteh9rWp8WSGBPPN2J7zh8y5lgXbGi/+4STl6zZlHSNs/oxpTDzNefSKrsYtapzSgK2dUGr0MAAoNDAAHYHAG4bXvbdk9JtqUbPXamz4Sabdm6ni9I2q99JtC2hPdobxGPa3sCo/pXSNq+XTbZ5jntM4Mjfo8AdKEv5/Wsc36+rRfxAEZtJ72OPvfJ+o4rrVyUisTEUb94AKN5uoR4HpFfdHs/ZG2oCwEINJ8AArB5AtBE290x07Pze0dJ2sVhjnb+79OSJkj6n3bZSACauFwRq3+lpQKT9P6UNvEAdul9H53HKxJYUaZIsPOGFtBQ5d2+8VQkNu8yExx3aflGdJuWIiY5rqTgPse+enHVWi8sH2OAQF8QQAA2RwCGbAHPbAd37CvpxzHLLbIFnDR8zgDW9KegSERuNLSycruZZ+r44/3OGxbFkkxFMggCMC72ttqqRS6ZRJqzfUUtinoQgEAaAQRgcwSgrZ8FgVgqF4sCjp4HJNmZvawgEEsZY5G9tvX7w4QRREEgcyVd1H7NhKadEyQIpMf+ZlhU7TwL18n5WDqVyy+XQnO7hW4/+ww7Sv2ynllh+wkRvj59dqNMfAvYtd0bpY+x9SNtSzdWiz4h0J8EEIDNEoBRGphp7W1gy91nuf4srcuj7cheS+8SiUHb9v2MpMnts36RFT8vyX7sMaFn5Y+R9FA7T6BtE5MGpofe8yYSiuSOSxNURaYVsv2ct7/kOcUiyajz9llW+QMPbF1553qiOfqI6nj6mCIiHtHoWg1eh8BgEkAANksAmpWa98+EnSWCvk+SZVu7M3KWSFrazulnv7L/t2CO5HOupPaJoqFUMJYI2nIKxhNBW9s+D1vAPpQCyhQRX6GiITncOr1wyQCJOvu2eY8aJa1ZU2zB7P7fM8/MTsacTAPjeytI0TOcPjfDFJsptSAAgaYTQAA2TwD2ms0hACtekSICqOwrver0wiU9gHmTUVe8HB2bnztXeuMbh2/aiCdjToryIuuaJ4q7ipthusmWviEAgXIJIAARgKEWhQAMJeio7yu+7AYI2yK0XHJl530rIlaKYrnppmEBFbXhSkZtOQn/6Z9a1891ugqt6Jh86113nXTkkZJPwIbvusb7dqWPicq6vMZFPYq+HCgHAQj0PgEEIAIw1EoRgKEEHfV9xVcn71DoObA6vXAW9GBbqT5RsJZ73IJjzjpLshs0fM7UVblceZIx+65rfLy+HkDftn3bq5IZbUMAAt0hgABEAIZaHgIwlKCjvkt8ubw5ZZ0Dc3nhqsIQj4JdsECaPn1kDsJklKxdrzZnjvScz03WJQ46SlxtQtTnyZPexrXGyf58vYu+HkWf+VAGAhBoFgEEIAIw1GIRgKEEPepniS9XsEfZ58BcKUs8plK4iF2PdsMNa1ePGNgdxCZ8iiTKLjyodsU8eRYjb6xtVZuY/c1v3L3nad9awwPoZkoJCAw6AQQgAjD0PYAADCXoWd/nXFm8qarOgUUC5vbbpfPP9xx8nxQbPVqybWcTb9GTJ+CmiIAukscx1GvcJ8vFNCAAgQ4EEIAIwNA3CAIwlGCO+nnO8lXtBXIJTJuWbYdauX55LNjkiSekxYulFSvyBdwUPZ8YBZbkZVjUa5y3H8pDAALNJIAARACGWi4CMJRgRfXrOAd26qnSxRdnT+CUU6T992+JpSefbAVsNP0pEjjhI5azuBTpL2orr9e46WvD+CEAAX8CCEAEoL+1pJdEAIYSrKj+eedJsy3Ft+NJExg+nkYfURMPjLD0Loce6hpN778eD5zw4WQz8vXGxmefN/Aji5zvGHufPCOEAATKJIAARACG2hMCMJRgBfV9xJl1axG0S5e2tmo7eY3ikbZROV9RYwJzjz1afa1cWcFka27S8i1+7GPS00+3PJrxoJM0TjY8X29sNBVXcE/NU6Y7CECgDwkgABGAoWaNAAwlWEF9X3F27rnS2WePFH8mcOI3WNiraYLk+uulj3zEPfgTT5TsHJsJpioeG1tyvFX049NmlnDzXY+ojzyBJT7jogwEIACBJAEEIAIw9F2BAAwlWEF9X49Tcjuz09208S3JhQuladN6w6NnYsk8jGkpYjqhPeAA6d57y08bk7Z164rKtXFatK9dJTduXPk3uVRgYjQJAQg0nAACEAEYasIIwJwE6ziTZSla9t3XPTATHJ/4RGsL2NdLZV7Dc85xe91MCNnPmjXucfiWiDxs1v9OOw1H4d54ozR5sl8rJrQuu6x13ZwvJ7+WR5ZKnq0kKrcIRepAAAJVEUAAIgBDbQsBmINgWbdydOrS+vjkJ0fmqutUPjq39vLLfiJqs82kVatyTLrEollbo75Czm4IsS3p6Myjr6e0yBTSbtkgKrcISepAAAJVEEAAIgBD7QoB6Emw7Fs50rotkmsu7lXziRr2me4WW0gvvSQ9/7xPaXcZE222ZbvXXiMDVqKavgLwttukffYZ7s/X6+ke4dolstK31OEBLjJe6kAAAoNFAAGIAAy1eASgB0FXVG4ZKT9cfbiGuemmLXH1zDPu7V1XW6efLl14oauU+/WsqNpkTV9PnglJ2/aOHp+zee5RjixRxlrm7ZPyEIAABPISQAAiAPPaTLI8AtCDoK+nKSTpr28fHsMNLmLRwRb5G/okPXZZ3rM8c7/5ZmnSpOGRZZ3NKzJ20rcUoUYdCECgGwQQgAjAULtDAHoQ9PVQpZ0b82h+qIhvH77txcuNGuUfzFHm9W9xHp3OT9r2cKcI5mguWd65tLbzzDlqn/QtRayLOhCAQDcIIAARgKF2hwD0IOjroeoXD6AHEq8iEQ+f85PW4EEHeTUrn9tPLLXMokXS5ZdLCxa427Xo6DPOSD+j6K5NCQhAAAL1EkAAIgBDLQ4B6EHQddasjHNj1sfWW7fO8DXh2XzzVjRxWhLnOA+bi29+wpkzpXnz3LPP62m1a+yOOEIyxmlPGevnHjUlIAABCJRHAAGIAAy1JgSgJ8Gq88BZ+z4esG7fnGFbxCefLL373a1cfPbERWDyHF0e7+mddxa//7jTMuYZw4QJngZBMQhAAAJdJIAARACGmh8CMAfBqvLA+UTKm222AAAaCklEQVQAm8ftn/6pJb7i99fmGH4pReMCzxqcMWPkeJLn6HzPNlqEr8v7V9RT5zuGvJ7FUoDSCAQgAIECBBCACMACZjOiCgIwJ8Eq8sDl8VBZLj0rf+ih3UvonNzitbN2K1YM3+wRJWo2tL5zs9yDrvuGrV87zxePAvZZPt8xhJzh9BkHZSAAAQiURQABiAAMtSUEYCjBEuoX8VCVmf6k6BR8BJPP+UkTfytXukdhgRpnn+0ulyzhMwbLWbhkCUEg+elSAwIQ6AYBBCACMNTuEIChBEuoX9RDlbYlnTUc856NGyd9+cut6Fh7NtlEssCLok/WlmnSS2qePfNY2pN2XtC2kV3bv1Y3ZIu26jOcRRlSDwIQgEARAghABGARu4nXQQCGEiyhfoiHKi62HnqoFUSRDBSJzu3deKNk3rZou9ZSpey4Y+ve4bRoXtfU0jyAWfn+LArXPJ3x84vReUG7n3jiRFdvSk3/4q41XKKqM5x5xkBZCEAAAmUQQAAiAEPtCAEYSrCk+mV5qLJEzuGHry3AbNvThNmcOWt75zpNq1NCZosMTorJSIDecIO05ZZrnxcMEcB58VdxhjPvGCgPAQhAIJQAAhABGGpDCMBQgiXWTxNvJpi+8AXpkEP8O0qKHDtfd9hh2cLMtoGT3jmLOrachFnexGQwhiuS2RXBW5YA9qdESQhAAALNJYAARACGWi8C0JNgXZ4jE1bTp48MijBP3fz5+aNfbWq+wuzhh6XFi0d65xYudKd5ifAVPccYx88WracxUgwCEBh4AghABGDomwAB6EGw0z22eVOSdOrO58q0vP2FCjNf4VskkjmNhW9/HstGEQhAAAJ9SwABiAAMNW4EoINgFaIsS/j4XpkWz7PnMoCyhJmrn1Ch6Wqf1yEAAQhAYJgAAhABGPp+QAB2IOi7fVpG/riqBFRV7Sax1RnIEWr01IcABCDQdAIIwGYJwOmSZkkaK+l+SSdKamdkW8sUd5N0nqR3Stpe0kmS5iVKnSNpduJ3T0raJodhIwA7wKpLPNkQqvLU1SnMTj1VuvjidKBFb/HIYcsUhQAEIDAwBBCAzRGAh0m6VpKJwLskHS/pWEm7SnosxWL/TJKlzr1X0lxJn80QgAdL2jdW//eSPO5UeK0GArDDn4uqRFlal1WKzToibLO2yqO5zpolXXTRwPxtZqIQgAAEKiWAAGyOALxH0k8knRCziAcl3SrpNIeVLG2LvzQP4IGSdg+wMgRgj3gAzVO39dat1CtpjyuNissGqoywdW2V29gs6XMZW+WuefI6BCAAgUEggABshgBcT9ILkiyT2y0xw5zfFm97BwhA21JeLellSSYyT5f0yxzGjwDsAKvO7VMTaAcd1Hnlbr65WCqYqNWiEbauelV6L3PYMkUhAAEIDAwBBGAzBOC2kpZL2lPS4ph1mlg7WtLOBQXgByS9XtIvJG0t6UxJu0iy84MZfiStLw39RM9oSctWr16tMWNMC/IkCdSxffrKK617eu3O3KzHEjM/+aSUJwK4jNX0SYFT51Z5GXOiDQhAAAJNJ4AAbJYA3EPS3TGjO0PSUW3R1skWs7aAk3XeIOkRSXbS6tKMBtMCR4QA7PynoMrtU2t72rSRiZ+zRpN2926Vf8R8U+DgAaxyFWgbAhCAwNoEEIDNEIBVbQGnvSe+J+nhxFnDeDk8gAX/kri2QYs06wqcSLb5la+07u6t43Gd64ufSbTxWA7D5cvXvm7OXss6v1gF0zrY0AcEIACBbhNAADZDAJqd2Pk8i+i1KODoeUDSwoAgkKT9mbgzD+AV7RQyPvbJGcAYpToFiUtgpS1eEQ9g0Tnl9erl3Sr32Vr2MWDKQAACEBhEAgjA5gjAKA3MtPY28FRJx7XP6z0q6Zr2OcEoIti8hpYixp7vSLq+/fN828Nnv58j6ZvtNDJbtc8AWkDJH0myNn0eBGCbUt2CxFdgdfKguRY4ZE5FzvX5bpX7bi275sfrEIAABAaVAAKwOQLQbNS8f6e2E0Hf107ufGfbeO+QZGf9prT/vYOkJSmG/QNJE9q//5qk90jaop3774eSzpJknkXfBwEoqRuCxFdgRQJwwYJ8EcChc/IVqEmvpMvj6PJ8hqa78TV8ykEAAhBoMgEEYLMEYC/a2sALwG4JEl+BteWW0uWX5xN/FlU8fnx2YImPyKoqBY7vvItsd/fiG4wxQQACEKiCAAIQARhqVwMvALslSFwCyxbWxN+yZdJ6diDA8zHP3/HHd04pEzXlEll5z/X5DNHX81lnwIvPuCkDAQhAoJcIIAARgKH2OPACsJuCpGyBVUVUse+5Pl9D7Jbg9h0f5SAAAQg0gQACEAEYaqcDLwC7LUjKEliurew0Q3F5AKM60bk+S/OycmXLM2mJq/faK39iapfn02d7OtToqQ8BCECg6QQQgAjAUBseeAHYC4LEFTjhs8i+QtbaKiKyQiKKk+Mv2/Ppw4cyEIAABPqJAAIQARhqzwMvAA1gPwgS363sSADmiSoOjShOM9KyPJ+hbwDqQwACEGgiAQQgAjDUbhGAbYJNFyS+HsC8UcWureUi3sTk1vKKFdLYscW2lEPfANSHAAQg0EQCCEAEYKjdIgBjBMvYig1dkKL1XVvZ1m6RqGJfYel7nrDo/KgHAQhAAALDBBCACMDQ9wMCMJRgD9WvYivbd2uZtC09ZAgMBQIQ6HsCCEAEYKiRIwBDCfZY/bK3svEA9tgCMxwIQAACkhCACMDQNwICMJRgD9YvcyvbtbUccgawB9ExJAhAAAKNIIAARACGGioCMIBgmUIrYBiVV61ia7nyQdMBBCAAgT4mgABEAIaaNwKwIMEy8+IVHEKt1creWq518HQGAQhAoM8IIAARgKEmjQAsQLCKvHgFhlF7lUHxeNYOlg4hAAEI5CSAAEQA5jSZtYojAHMSrDIvXs6hUBwCEIAABAaUAAIQARhq+gjAnASJis0JjOIQgAAEIFA6AQQgAjDUqBCAOQmSFy8nMIpDAAIQgEDpBBCACMBQo0IA5iSIBzAnMIpDAAIQgEDpBBCACMBQo0IA5iRIXrycwCgOAQhAAAKlE0AAIgBDjaoSAdjv0aLkxQs1O+pDAAIQgEAIAQQgAjDEfqxu6QJwUPLjkRcv1PSoDwEIQAACRQkgABGARW0nqleqABy0/Hj97ukMNS7qQwACEIBANQQQgAjAUMsqTQCSHy90KagPAQhAAAIQ8COAAEQA+llKdqnSBCDRsaFLQX0IQAACEICAHwEEIALQz1JqEIDkxwtdCupDAAIQgAAE/AggABGAfpZSgwDEAxi6FNSHAAQgAAEI+BFAACIA/SylBgFIfrzQpaA+BCAAAQhAwI8AAhAB6GcpNQhA64L8eKHLQX0IQAACEICAmwACEAHotpLOJUoLAom6IT9e6JJQHwIQgAAEINCZAAIQARj6HildANqAyI8XuizUhwAEIAABCGQTQAAiAEPfH5UIwNBBdaM+orUb1OkTAhCAAASKEEAAIgCL2E28DgKwfXZxxgxp2bJhNOPHS/PnS5MmuREjHt2MKAEBCEAAAuURQAA2SwBOlzRL0lhJ90s6UdKiDHPYTdJ5kt4paXtJJ0mal1I2T5tpXQ28AAy9vm5Q7j4u788WLUEAAhCAQCgBBGBzBOBhkq6VZILtLknHSzpW0q6SHksxhD+TdKikeyXNlfTZFAGYt00EYIJA6PV1oeIx9A8A9SEAAQhAYDAJIACbIwDvkfQTSSfETPVBSbdKOs1hvkvb4i/pAQxpM+pyoD2AIcmrQ8XjYP7JYtYQgAAEIFAGAQRgMwTgepJekHSIpFtiCz9f0u6S9i4gAEPbRABKCrm+LkQ8lvHmpw0IQAACEBhcAgjAZgjAbSUtl7SnpMUxcz1d0tGSdi4gAIu2ub4k+4me0ZKWrV69WmPGmDOwO0+3gihCRFyIeOwOZXqFAAQgAIF+IYAAbJYA3EPS3THjO0PSUZJ2CRCAeds8R9LsZH/dFIDdDKIIub4uRDz2yx8g5gEBCEAAAt0hgABshgAM3a5NOwNYtM2e8gD2QhBF0evrQsRjd/5c0CsEIAABCPQLAQRgMwSg2ZsFbFhEr0UBR88DkhYGBoEUbTMaQ9eCQHopiKLo9XVFxWO//AFiHhCAAAQg0B0CCMDmCMAoZcu09jbwVEnHSbJ8f49KuqZ9TjCKCDYPn6WIsec7kq5v/zwv6eH2711t+lhl1wRgr22hFj2HWFQ8+iwOZSAAAQhAAAJpBBCAzRGAtn7m/Tu1nQj6vnZy5zvbC3uHJNvqndL+9w6SlqQs+g8kTYj9vlObPu+argnAfgqiKCoefRaIMhCAAAQgAIEkAQRgswRgL1pw1wRgr3kAe3FxGBMEIAABCEAAD2C6DayDaQQR6JoAJIgiaN2oDAEIQAACA0wADyAewFDz75oAtIETRBG6fNSHAAQgAIFBJIAARACG2n1XBWAkAmfMkJYtG57KdttJ8+ZJkyaFTo/6EIAABCAAgf4jgABEAIZaddcFoE2AIIrQZaQ+BCAAAQgMEgEEIAIw1N57QgCGToL6EIAABCAAgUEigABEAIbaOwIwlCD1IQABCEAAAjUTQAAiAENNDgEYSpD6EIAABCAAgZoJIAARgKEmhwAMJUh9CEAAAhCAQM0EEIAIwFCTQwCGEqQ+BCAAAQhAoGYCCEAEYKjJIQBDCVIfAhCAAAQgUDMBBCACMNTkEIChBKkPAQhAAAIQqJkAAhABGGpyCMBQgtSHAAQgAAEI1EwAAYgADDU5BGAoQepDAAIQgAAEaiaAAEQAhpocAjCUIPUhAAEIQAACNRNAACIAQ01uSAA+/vjjGjPG/pcHAhCAAAQgAIFeJ2ACcLvttrNhbizpN70+3irGt04VjQ5Qm+MkLRug+TJVCEAAAhCAQD8RGC9peT9NyHcuCEBfUunljN+2kp5zNDO6LRTN0Fxlw0bUW7WZN+vdWxZZzWiwc+y8GsvqrVb70c5tTk9IerW3UNczGgRgPZyHtooH0NXMvAdra4H1Zr3r+Yva3V6w88Gy8+5aW4W9IwArhBtrmj8Yg/UHg/Vmvev5y9LdXrBz7Ly7FkjvQQQQgEH4vCvzh5I/lN7G0uCC2Dl23mDz9R46dj5Ydu5tGE0riACsZ8XWl3SapL+X9HI9XfZEL8yb9e4JQ6x4ENg5dl6xifVE84Nq5z0Bv4pBIACroEqbEIAABCAAAQhAoIcJIAB7eHEYGgQgAAEIQAACEKiCAAKwCqq0CQEIQAACEIAABHqYAAKwhxeHoUEAAhCAAAQgAIEqCCAAq6BKmxCAAAQgAAEIQKCHCSAAq1mcHSSdJem9krZpZxq/TtIFkl7p0KVFWc2RdISkDSXdLml6w66bO0PShyTt3p7rJh6Ir5Z0dKLcPZLe7VG3V4oUmbe9/2ZLmippU0k2549Jur9XJuUxDhv35yR9uF32G5I+IenZDnXvkLR34vUbJB3u0V+3itj7cJakse31OVHSog6DOUjSZyTtKOkRSWYft3Rr8AH95pn3FElXpfRlf8teChhD3VXf017rd7bX+/+3d26h9lVVHP5hERGFUEEPUZJIqQVRFKEV1EMXw8jECLpBmagQiiYVEZERUUqmL92shxQKxKKI7g9iVEp0UYq0EswuaFZGGfoQRXwwpywWe5+z1j5z7bPn/3wTDgr/veea4xtrrfmbY4w59+uTfG2fQXA/X5Xk2eV9f0WSz2x74Ae83ly7X5bkphXXPCXJnQcci1/fAgEF4DKQX53kjUm+nOSuJM9Jcm2S65NctsclP53ktUl4kf49ySeSPDEJL6L/LjPU5r1eXiZ/fvbu3CRTBeBTkrx9MBqE8gPNR7dch5vY/d4iDPD3b5N8IAkv4Wd19JOB306CrxGxtM8l+X25j9fRRgBi7wcHH3i4/FrOch7avGeeZZ5dxNCPkpyf5J1JTk3yhxXdnlbEIYtARB8C4sNJXlJE/uYj2e4359rNfXxNuX+HI71vu8M+8NXOSPLiJD9P8pXiv70E4DOS/Kq84z9bvvupspDn+720uXZXAcj76l8DI//a0XzVi28WGacCcBGsKzslenBhkhPXXPL4JDw4b01CNITG7wz/Mclrknx3e0NtciUmg6tnCECE4llNrny4nUy1m2eP36CE0cfLkIkA/yUJwpCJZNcbK/1fl0gt0UsaUdtbkpyc5DdrDEAA3paEKFoPDdsQAzy/td1RokKc7zluPL8cFsyEWtt3kvyjiIIebGaMc+2eeu/3Yj/j5Ddi94sA8vwSAed5qI3o33OTsBjosU2xuwpAsgB7Rfx7tP9IjFkBuD03fyQJkcEXrLkk6WJSvkT8mChqu71MNKQKe2pzJgNSwIg/on68SG4ukbH7ezK4jHWq3SwESA0+P8kvBnZ+vTAYp8R3EcU7StprHOXFh5esSQdiBwKQVBnvHwQvUUQiqA/uoJGPSfJQkjeMUrhEuihzGKeyMYGo4CfLXzUJHgjeE3bQxlVD2sRu7v3PJ/lzkkcVkU8UdHh/d2L+I8OcIoR+UGy8eGAcovGGJI9L8p/ejJ4ofKsAJOL/2LIYZJ5blRbuEMGxP2QF4HZ8TB0QEYR3lxfkqqu+qUyYRIGG7XtJ7i5pp+2Mts1Vpgohrkaq6d9J7klCOoXaqUeX1Hdvv5wy1e7TSzrxqSUSWKmTQkUkvKqNGxbt5f2lXOGZo6uQ3qUWjF++WdXOK/c0qUHKI/gcpRKvWHS0m3VOFB5BQ0rwx4MusB2RTvpr3FjIcB98afAP657vzUa1/Lc2sZvo70lJflkioAgishdEwn63/JAXucIUAcj9ziL2o4MR1OcbjvcuMrJlO51iN/c+JSs/S8K8RfbqgiQIQ0SxbccJKADnOehDpWh/r2+9MMlPBx/gBUBEiz/qhta1dRPE90ukiAfrsNomdk8VQqtsotAeMcimgK8eltFJlrR73QRBrejTSrT4sEyfavcr14ggJvsvJPnYRAOoceWZ4b8slHapVSGEv0ht18amDiY8Ut3jhgBEHFIDXNubCxMiJT20Tewe23Vc8Sdi4KIejF4xxilCaNWChwXDD8smkt5qIMEwxe5VLv1G+W7dFNap24/GsBWA8/z85CT87dUIh9cdb7xECYdTS4Mg+t8eX9zlFPBcuzHzIAKQ7yMiSCfV+rh5nmrz6SXt3uUU8FS7WbSw83FuCnjsHd5DRHqH9a9tPHjwXjZJhR7VFPAq2ixo2CQ0rIc8uFe218MUIXRUU8CrvMDC6C2jesjtecsrzSKgAJyFa9aHSe0h/giP80Dst4u3bgLhs9SO0IiE/ekIbAIZg31SSbuxs/S6WdQP/8NThW/dBEKtGEdG0BAb1D32tgnkRUl+Umzg/2/dZxPI2EukgUkbUk+3i6kjFnA8x+wCro3NL9RrrtsE8oTy3NbPU+dIbSRHPPXS5to9tot7nPsC31Iv2mObIgBZpHJ6A7vCa+NEB2pEj+VNIKv8eWOpYyegYdtxAgrAZRxU075EAt42En81HYBAZNMH/14nT14aZ5boGUegcCYgYqinY2CeXl4ApADY+fzSgpgaL+r8aJwRxcTJERmPL6lWjkugVoYzFKmloR921e3ixoBVd81cu+kDoQcHjr8h4kldGfUzvR0Dw/3O0Sg0ahhJ3zMh0sb3OfWwpEO/leRvZdLkuCOOgaF8Yr+F0jJP7N691uNQKMMgDczChDpGNrJgK4sU6gSrGCRdjJAlGoJIfF0SiuN7PQZmqt1sVEP8cy+zC5q0L1Fd0qH1HXcY/pt7Td5J1DLS2MByaVnM807mnU7NKvc1725aPQaGnftEPBF97AJG7Pd0DMxcu9nURMaLc0tZvBK8eF8SzsA8zNKduf4+sp9XAC7j+nUHonK1yhyhw+aOl5ddkfwb9UFXJiG1NjwImqNgemmrDnVm7EM7WVUjevgsdnLG1vNKKhERSOSU3YPHst31XmDSRDwND4LmTLFeGrvWxwdBv2twLMT4Pqe+kUPRifox4eDjb5ZdwLt87iPRv/eUqDz+YVdvjVayq5mJkOe+tnOK6KupfsRgj5PiHLuJZp9dDr//ZxFP1JMOayd7uK/XHXD8xeJj3lvc13yuNqLX2F8PgiYq2NtB0HPt5nlgMYQYZgGHEEQcs7izdUBAAdiBkxyiBCQgAQlIQAISaElAAdiSpn1JQAISkIAEJCCBDggoADtwkkOUgAQkIAEJSEACLQkoAFvStC8JSEACEpCABCTQAQEFYAdOcogSkIAEJCABCUigJQEFYEua9iUBCUhAAhKQgAQ6IKAA7MBJDlECEpCABCQgAQm0JKAAbEnTviQgAQlIQAISkEAHBBSAHTjJIUpAAhKQgAQkIIGWBBSALWnalwQkIAEJSEACEuiAgAKwAyc5RAlIQAISkIAEJNCSgAKwJU37koAEJCABCUhAAh0QUAB24CSHKAEJSEACEpCABFoSUAC2pGlfEpCABCQgAQlIoAMCCsAOnOQQJSABCUhAAhKQQEsCCsCWNO1LAhKQgAQkIAEJdEBAAdiBkxyiBCQgAQlIQAISaElAAdiSpn1JQAISkIAEJCCBDggoADtwkkOUgAQkIAEJSEACLQkoAFvStC8JSEACEpCABCTQAQEFYAdOcogSkIAEJCABCUigJQEFYEua9iUBCUhAAhKQgAQ6IKAA7MBJDlECEpCABCQgAQm0JKAAbEnTviQgAQlIQAISkEAHBBSAHTjJIUpAAhKQgAQkIIGWBBSALWnalwQkIAEJSEACEuiAgAKwAyc5RAlIQAISkIAEJNCSgAKwJU37koAEJCABCUhAAh0QUAB24CSHKAEJSEACEpCABFoSUAC2pGlfEpCABCQgAQlIoAMCCsAOnOQQJSABCUhAAhKQQEsCCsCWNO1LAhKQgAQkIAEJdEDg/960/gsNeooXAAAAAElFTkSuQmCC\" width=\"640\">"
      ],
      "text/plain": [
       "<IPython.core.display.HTML object>"
      ]
     },
     "metadata": {},
     "output_type": "display_data"
    },
    {
     "data": {
      "text/plain": [
       "<matplotlib.legend.Legend at 0x7f8f0c1ebcc0>"
      ]
     },
     "execution_count": 21,
     "metadata": {},
     "output_type": "execute_result"
    }
   ],
   "source": [
    "import matplotlib.pyplot as plt\n",
    "%matplotlib nbagg\n",
    "\n",
    "plt.plot(x_data, y_data, 'bo')\n",
    "plt.show()\n",
    "plt.legend(['(x_data,y_data)'])"
   ]
  },
  {
   "cell_type": "markdown",
   "metadata": {},
   "source": [
    "#### 여기부터 강의 내용"
   ]
  },
  {
   "cell_type": "code",
   "execution_count": 388,
   "metadata": {
    "collapsed": true
   },
   "outputs": [],
   "source": [
    "#1. 변수 설정\n",
    "W = tf.Variable(tf.random_normal([1]), name='weight')\n",
    "b = tf.Variable(tf.random_normal([1]), name='bias')"
   ]
  },
  {
   "cell_type": "code",
   "execution_count": 389,
   "metadata": {
    "collapsed": true
   },
   "outputs": [],
   "source": [
    "#2. 가설 설정\n",
    "hypothesis = x_data * W + b"
   ]
  },
  {
   "cell_type": "code",
   "execution_count": 390,
   "metadata": {
    "collapsed": true
   },
   "outputs": [],
   "source": [
    "#3. Cost Function\n",
    "cost = tf.reduce_mean(tf.square(hypothesis - y_data))"
   ]
  },
  {
   "cell_type": "code",
   "execution_count": 391,
   "metadata": {
    "collapsed": true
   },
   "outputs": [],
   "source": [
    "#4. Minimize\n",
    "optimizer = tf.train.GradientDescentOptimizer(learning_rate=0.01)\n",
    "train = optimizer.minimize(cost)"
   ]
  },
  {
   "cell_type": "code",
   "execution_count": 392,
   "metadata": {
    "collapsed": true
   },
   "outputs": [],
   "source": [
    "#5. Launch the graph in a session.\n",
    "sess = tf.Session()\n",
    "sess.run(tf.global_variables_initializer())"
   ]
  },
  {
   "cell_type": "code",
   "execution_count": 393,
   "metadata": {},
   "outputs": [
    {
     "name": "stdout",
     "output_type": "stream",
     "text": [
      "0 1.55407 [ 2.11706972] [-0.38807356]\n",
      "200 0.132117 [ 0.81364763] [ 0.29857448]\n",
      "400 0.0174272 [ 0.35404688] [ 0.30482209]\n",
      "600 0.0029901 [ 0.19092533] [ 0.30286467]\n",
      "800 0.00117024 [ 0.13301151] [ 0.30209628]\n",
      "1000 0.000940844 [ 0.11244981] [ 0.30182219]\n",
      "1200 0.000911927 [ 0.10514952] [ 0.30172488]\n",
      "1400 0.000908282 [ 0.10255763] [ 0.3016904]\n",
      "1600 0.000907823 [ 0.10163739] [ 0.30167845]\n",
      "1800 0.000907765 [ 0.10131064] [ 0.30167377]\n",
      "2000 0.000907757 [ 0.10119465] [ 0.30167264]\n"
     ]
    }
   ],
   "source": [
    "#Fitting\n",
    "for step in range(2001):\n",
    "    sess.run(train)\n",
    "    if step%200 == 0:\n",
    "        print(step, sess.run(cost), sess.run(W), sess.run(b))"
   ]
  },
  {
   "cell_type": "markdown",
   "metadata": {},
   "source": [
    "#### using placeholder"
   ]
  },
  {
   "cell_type": "code",
   "execution_count": 385,
   "metadata": {
    "collapsed": true
   },
   "outputs": [],
   "source": [
    "import time as time"
   ]
  },
  {
   "cell_type": "code",
   "execution_count": 386,
   "metadata": {},
   "outputs": [
    {
     "name": "stdout",
     "output_type": "stream",
     "text": [
      "0 0.184675 [ 0.93561465] [ 0.26550269]\n",
      "200 0.0237795 [ 0.39719418] [ 0.30478752]\n",
      "400 0.00379076 [ 0.20624192] [ 0.30305818]\n",
      "600 0.00127117 [ 0.13844952] [ 0.30216861]\n",
      "800 0.000953566 [ 0.11438047] [ 0.30184793]\n",
      "1000 0.000913531 [ 0.10583494] [ 0.30173403]\n",
      "1200 0.000908484 [ 0.10280096] [ 0.30169368]\n",
      "1400 0.000907848 [ 0.10172376] [ 0.30167934]\n",
      "1600 0.000907767 [ 0.10134133] [ 0.3016741]\n",
      "1800 0.000907758 [ 0.10120557] [ 0.30167273]\n",
      "2000 0.000907756 [ 0.10115735] [ 0.30167225]\n",
      "\n",
      "\n",
      "경과 시간:  2.8803961277008057  초\n"
     ]
    }
   ],
   "source": [
    "#시간 설정\n",
    "start_time = time.time()\n",
    "\n",
    "#1-1. 변수 설정\n",
    "W = tf.Variable(tf.random_normal([1]), name='weight')\n",
    "b = tf.Variable(tf.random_normal([1]), name='bias')\n",
    "\n",
    "#1-2. placeholder 설정\n",
    "X = tf.placeholder(tf.float32, shape=[None])\n",
    "Y = tf.placeholder(tf.float32, shape=[None])\n",
    "\n",
    "#2. hypothesis\n",
    "hypothesis = X*W + b\n",
    "\n",
    "#3. cost function\n",
    "cost = tf.reduce_mean(tf.square(hypothesis - Y))\n",
    "\n",
    "#4. Minimize\n",
    "optimizer = tf.train.GradientDescentOptimizer(learning_rate=0.01)\n",
    "train = optimizer.minimize(cost)\n",
    "\n",
    "#5. Launch the graph in a session\n",
    "sess = tf.Session()\n",
    "sess.run(tf.global_variables_initializer())\n",
    "\n",
    "#Fit the line\n",
    "for step in range(2001):\n",
    "    new_cost, new_W, new_b, _ = sess.run([cost, W, b, train], feed_dict={X: x_data, Y: y_data})\n",
    "    if step%200 == 0:\n",
    "        print(step, new_cost, new_W, new_b)            \n",
    "        \n",
    "end_time = time.time()\n",
    "print('\\n')\n",
    "print('경과 시간: ', end_time - start_time, \" 초\")"
   ]
  },
  {
   "cell_type": "markdown",
   "metadata": {},
   "source": [
    "위 결과에 따라서 W = 1.000, b = 0.3 추정"
   ]
  },
  {
   "cell_type": "code",
   "execution_count": 387,
   "metadata": {
    "collapsed": true
   },
   "outputs": [],
   "source": [
    "%matplotlib inline"
   ]
  },
  {
   "cell_type": "code",
   "execution_count": 92,
   "metadata": {},
   "outputs": [
    {
     "name": "stdout",
     "output_type": "stream",
     "text": [
      "WARNING:tensorflow:From /home/ubuntu/miniconda3/envs/py3/lib/python3.6/site-packages/tensorflow/python/util/tf_should_use.py:175: initialize_all_variables (from tensorflow.python.ops.variables) is deprecated and will be removed after 2017-03-02.\n",
      "Instructions for updating:\n",
      "Use `tf.global_variables_initializer` instead.\n",
      "0 [-0.57345152] [ 0.29929996]\n",
      "0 0.119285\n"
     ]
    },
    {
     "data": {
      "image/png": "[encoded data removed]",
      "text/plain": [
       "<matplotlib.figure.Figure at 0x7f8ef548dc50>"
      ]
     },
     "metadata": {},
     "output_type": "display_data"
    },
    {
     "name": "stdout",
     "output_type": "stream",
     "text": [
      "1 [-0.39774618] [ 0.2993142]\n",
      "1 0.0655897\n"
     ]
    },
    {
     "data": {
      "image/png": "[encoded data removed]",
      "text/plain": [
       "<matplotlib.figure.Figure at 0x7f8ef51b4e80>"
      ]
     },
     "metadata": {},
     "output_type": "display_data"
    },
    {
     "name": "stdout",
     "output_type": "stream",
     "text": [
      "2 [-0.26785186] [ 0.29932439]\n",
      "2 0.0362438\n"
     ]
    },
    {
     "data": {
      "image/png": "[encoded data removed]",
      "text/plain": [
       "<matplotlib.figure.Figure at 0x7f8ef58bdba8>"
      ]
     },
     "metadata": {},
     "output_type": "display_data"
    },
    {
     "name": "stdout",
     "output_type": "stream",
     "text": [
      "3 [-0.17182443] [ 0.29933193]\n",
      "3 0.0202055\n"
     ]
    },
    {
     "data": {
      "image/png": "[encoded data removed]",
      "text/plain": [
       "<matplotlib.figure.Figure at 0x7f8ef6123da0>"
      ]
     },
     "metadata": {},
     "output_type": "display_data"
    },
    {
     "name": "stdout",
     "output_type": "stream",
     "text": [
      "4 [-0.10083393] [ 0.29933751]\n",
      "4 0.0114401\n"
     ]
    },
    {
     "data": {
      "image/png": "[encoded data removed]",
      "text/plain": [
       "<matplotlib.figure.Figure at 0x7f8ef5391f28>"
      ]
     },
     "metadata": {},
     "output_type": "display_data"
    },
    {
     "name": "stdout",
     "output_type": "stream",
     "text": [
      "5 [-0.04835254] [ 0.29934165]\n",
      "5 0.00664965\n"
     ]
    },
    {
     "data": {
      "image/png": "[encoded data removed]",
      "text/plain": [
       "<matplotlib.figure.Figure at 0x7f8ef5958f28>"
      ]
     },
     "metadata": {},
     "output_type": "display_data"
    },
    {
     "name": "stdout",
     "output_type": "stream",
     "text": [
      "6 [-0.00955445] [ 0.29934469]\n",
      "6 0.00403154\n"
     ]
    },
    {
     "data": {
      "image/png": "[encoded data removed]",
      "text/plain": [
       "<matplotlib.figure.Figure at 0x7f8ef56c2f98>"
      ]
     },
     "metadata": {},
     "output_type": "display_data"
    },
    {
     "name": "stdout",
     "output_type": "stream",
     "text": [
      "7 [ 0.01912796] [ 0.29934692]\n",
      "7 0.00260067\n"
     ]
    },
    {
     "data": {
      "image/png": "[encoded data removed]",
      "text/plain": [
       "<matplotlib.figure.Figure at 0x7f8ef59a9588>"
      ]
     },
     "metadata": {},
     "output_type": "display_data"
    },
    {
     "name": "stdout",
     "output_type": "stream",
     "text": [
      "8 [ 0.04033209] [ 0.29934859]\n",
      "8 0.00181867\n"
     ]
    },
    {
     "data": {
      "image/png": "[encoded data removed]",
      "text/plain": [
       "<matplotlib.figure.Figure at 0x7f8ef59f18d0>"
      ]
     },
     "metadata": {},
     "output_type": "display_data"
    },
    {
     "name": "stdout",
     "output_type": "stream",
     "text": [
      "9 [ 0.05600774] [ 0.29934984]\n",
      "9 0.00139128\n"
     ]
    },
    {
     "data": {
      "image/png": "[encoded data removed]",
      "text/plain": [
       "<matplotlib.figure.Figure at 0x7f8ef63e87f0>"
      ]
     },
     "metadata": {},
     "output_type": "display_data"
    }
   ],
   "source": [
    "#시각화\n",
    "#1. 변수\n",
    "W = tf.Variable(tf.random_normal([1]), name='weight')\n",
    "b = tf.Variable(tf.random_normal([1]), name='bias')\n",
    "\n",
    "#2. 가설\n",
    "y = x_data * W + b\n",
    "\n",
    "#3. cost fucntion\n",
    "cost = tf.reduce_mean(tf.square(y_data - y))\n",
    "\n",
    "#4. gradient descent\n",
    "optimizer = tf.train.GradientDescentOptimizer(0.5)\n",
    "train = optimizer.minimize(cost)\n",
    "\n",
    "#5. Launch\n",
    "init = tf.initialize_all_variables()\n",
    "sess = tf.Session()\n",
    "sess.run(init)\n",
    "\n",
    "for step in range(10):\n",
    "    sess.run(train)\n",
    "    print(step, sess.run(W), sess.run(b))\n",
    "    print(step, sess.run(cost))\n",
    "    \n",
    "    #그래픽\n",
    "    plt.plot(x_data, y_data, 'ro')\n",
    "    plt.plot(x_data, sess.run(W) * x_data + sess.run(b), 'b')\n",
    "    plt.xlabel('x')\n",
    "    plt.xlim(-2, 2)\n",
    "    plt.ylim(0.1, 0.6)\n",
    "    plt.ylabel('y')\n",
    "    plt.legend()\n",
    "    plt.show()"
   ]
  },
  {
   "cell_type": "markdown",
   "metadata": {},
   "source": [
    "### 2. Gradient Descent 구현"
   ]
  },
  {
   "cell_type": "markdown",
   "metadata": {},
   "source": [
    "#### 1) W의 변화에 따른 Cost 값 구하기"
   ]
  },
  {
   "cell_type": "code",
   "execution_count": 277,
   "metadata": {},
   "outputs": [
    {
     "data": {
      "image/png": "[encoded data removed]",
      "text/plain": [
       "<matplotlib.figure.Figure at 0x7f8ef5241748>"
      ]
     },
     "metadata": {},
     "output_type": "display_data"
    }
   ],
   "source": [
    "import tensorflow as tf\n",
    "import matplotlib.pyplot as plt\n",
    "\n",
    "#1. 변수\n",
    "X = [1,2,3]\n",
    "Y = [1,2,3]\n",
    "\n",
    "W = tf.placeholder(tf.float32)\n",
    "\n",
    "#2. Hypothesis for linear model X*W\n",
    "hypothesis = X * W\n",
    "\n",
    "#3. Cost\n",
    "cost = tf.reduce_mean(tf.square(hypothesis - Y))\n",
    "\n",
    "#4. Initialize\n",
    "sess = tf.Session()\n",
    "sess.run(tf.global_variables_initializer())\n",
    "\n",
    "#5. W 값이 변함에 따라서 cost 값의 변화를 그린다.\n",
    "W_val = []\n",
    "cost_val = []\n",
    "\n",
    "for i in range(-30, 30):\n",
    "    feed_W = i * 0.1\n",
    "    curr_cost, curr_W = sess.run([cost, W], feed_dict={W: feed_W})\n",
    "    W_val.append(curr_W)\n",
    "    cost_val.append(curr_cost)\n",
    "    \n",
    "#Show the cost function\n",
    "plt.plot(W_val, cost_val, 'ro')\n",
    "plt.show()"
   ]
  },
  {
   "cell_type": "markdown",
   "metadata": {},
   "source": [
    "#### 2) Gradient descent 직접 구현"
   ]
  },
  {
   "cell_type": "code",
   "execution_count": 281,
   "metadata": {
    "collapsed": true
   },
   "outputs": [],
   "source": [
    "#1. 변수 및 초기 값 설정\n",
    "x_data = [1,2,3]\n",
    "y_data = [1,2,3]\n",
    "\n",
    "W = tf.Variable(tf.random_normal([1]), name='weight')\n",
    "X = tf.placeholder(tf.float32)\n",
    "Y = tf.placeholder(tf.float32)\n",
    "\n",
    "#2. 가설\n",
    "hypothesis = X*W\n",
    "\n",
    "#3. cost funciton\n",
    "cost = tf.reduce_sum(tf.square(hypothesis - Y))"
   ]
  },
  {
   "cell_type": "markdown",
   "metadata": {},
   "source": [
    "<img src=\"./photo/gradient.png\">"
   ]
  },
  {
   "cell_type": "code",
   "execution_count": 282,
   "metadata": {},
   "outputs": [
    {
     "name": "stdout",
     "output_type": "stream",
     "text": [
      "0 14.6139 [-0.0216884]\n",
      "1 4.15683 [ 0.45509949]\n",
      "2 1.18239 [ 0.70938635]\n",
      "3 0.336324 [ 0.84500605]\n",
      "4 0.0956653 [ 0.91733658]\n",
      "5 0.0272115 [ 0.95591283]\n",
      "6 0.00774016 [ 0.97648686]\n",
      "7 0.00220164 [ 0.98745966]\n",
      "8 0.000626246 [ 0.99331182]\n",
      "9 0.000178134 [ 0.99643296]\n",
      "10 5.06685e-05 [ 0.9980976]\n",
      "11 1.44108e-05 [ 0.99898541]\n",
      "12 4.09962e-06 [ 0.99945885]\n",
      "13 1.16631e-06 [ 0.99971139]\n",
      "14 3.31479e-07 [ 0.9998461]\n",
      "15 9.4339e-08 [ 0.99991792]\n",
      "16 2.67654e-08 [ 0.99995625]\n",
      "17 7.64294e-09 [ 0.99997663]\n",
      "18 2.17706e-09 [ 0.99998754]\n",
      "19 6.10459e-10 [ 0.99999338]\n",
      "20 1.71884e-10 [ 0.99999648]\n"
     ]
    }
   ],
   "source": [
    "#4. Minimize: Gradient Descent using derivative: W -= Learning rate * derivative\n",
    "learning_rate = 0.1\n",
    "gradient = tf.reduce_mean((W*X - Y) * X)\n",
    "descent = W - learning_rate * gradient\n",
    "update = W.assign(descent)\n",
    "\n",
    "#5. Launch\n",
    "sess = tf.Session()\n",
    "sess.run(tf.global_variables_initializer())\n",
    "\n",
    "for step in range(21):\n",
    "    sess.run(update, feed_dict={X: x_data, Y: y_data})\n",
    "    print(step, sess.run(cost, feed_dict={X: x_data, Y: y_data}), sess.run(W))"
   ]
  },
  {
   "cell_type": "markdown",
   "metadata": {},
   "source": [
    "#### 선택) Gradient Descent 조정 가능 "
   ]
  },
  {
   "cell_type": "code",
   "execution_count": 283,
   "metadata": {},
   "outputs": [
    {
     "name": "stdout",
     "output_type": "stream",
     "text": [
      "0 [37.333332, 5.0, [(37.333336, 5.0)]]\n",
      "1 [33.848888, 4.6266665, [(33.848888, 4.6266665)]]\n",
      "2 [30.689657, 4.2881775, [(30.689657, 4.2881775)]]\n",
      "3 [27.825287, 3.9812808, [(27.825287, 3.9812808)]]\n",
      "4 [25.228262, 3.703028, [(25.228264, 3.703028)]]\n",
      "5 [22.873621, 3.4507453, [(22.873623, 3.4507453)]]\n",
      "6 [20.738752, 3.2220092, [(20.738752, 3.2220092)]]\n",
      "7 [18.803137, 3.0146217, [(18.803137, 3.0146217)]]\n",
      "8 [17.048176, 2.8265903, [(17.048176, 2.8265903)]]\n",
      "9 [15.457013, 2.6561086, [(15.457014, 2.6561086)]]\n",
      "10 [14.014359, 2.5015385, [(14.01436, 2.5015385)]]\n",
      "11 [12.706352, 2.3613949, [(12.706352, 2.3613949)]]\n",
      "12 [11.520427, 2.2343314, [(11.520427, 2.2343314)]]\n",
      "13 [10.445186, 2.119127, [(10.445186, 2.119127)]]\n",
      "14 [9.4703016, 2.0146751, [(9.4703016, 2.0146751)]]\n",
      "15 [8.5864067, 1.9199722, [(8.5864067, 1.9199722)]]\n",
      "16 [7.7850089, 1.8341081, [(7.7850089, 1.8341081)]]\n",
      "17 [7.0584083, 1.756258, [(7.0584083, 1.756258)]]\n",
      "18 [6.3996239, 1.685674, [(6.3996239, 1.685674)]]\n",
      "19 [5.8023257, 1.6216778, [(5.8023257, 1.6216778)]]\n",
      "20 [5.260776, 1.5636545, [(5.260776, 1.5636545)]]\n",
      "21 [4.7697697, 1.5110468, [(4.7697697, 1.5110468)]]\n",
      "22 [4.3245912, 1.4633491, [(4.3245912, 1.4633491)]]\n",
      "23 [3.9209633, 1.4201032, [(3.9209635, 1.4201032)]]\n",
      "24 [3.5550067, 1.3808936, [(3.5550067, 1.3808936)]]\n",
      "25 [3.2232056, 1.3453435, [(3.2232056, 1.3453435)]]\n",
      "26 [2.9223735, 1.3131114, [(2.9223738, 1.3131114)]]\n",
      "27 [2.6496189, 1.2838877, [(2.6496186, 1.2838877)]]\n",
      "28 [2.4023216, 1.2573916, [(2.4023218, 1.2573916)]]\n",
      "29 [2.1781051, 1.2333684, [(2.1781051, 1.2333684)]]\n",
      "30 [1.9748148, 1.2115873, [(1.9748147, 1.2115873)]]\n",
      "31 [1.7904993, 1.1918392, [(1.7904994, 1.1918392)]]\n",
      "32 [1.623386, 1.1739342, [(1.6233861, 1.1739342)]]\n",
      "33 [1.4718695, 1.1577003, [(1.4718695, 1.1577003)]]\n",
      "34 [1.3344955, 1.1429816, [(1.3344957, 1.1429816)]]\n",
      "35 [1.2099417, 1.1296366, [(1.2099419, 1.1296366)]]\n",
      "36 [1.0970144, 1.1175373, [(1.0970144, 1.1175373)]]\n",
      "37 [0.9946267, 1.1065671, [(0.9946267, 1.1065671)]]\n",
      "38 [0.90179497, 1.0966209, [(0.90179503, 1.0966209)]]\n",
      "39 [0.81762749, 1.087603, [(0.81762755, 1.087603)]]\n",
      "40 [0.74131513, 1.0794266, [(0.74131513, 1.0794266)]]\n",
      "41 [0.67212623, 1.0720135, [(0.67212629, 1.0720135)]]\n",
      "42 [0.60939401, 1.0652922, [(0.60939401, 1.0652922)]]\n",
      "43 [0.55251688, 1.0591983, [(0.55251688, 1.0591983)]]\n",
      "44 [0.50094914, 1.0536731, [(0.50094914, 1.0536731)]]\n",
      "45 [0.45419374, 1.0486636, [(0.45419377, 1.0486636)]]\n",
      "46 [0.41180158, 1.0441216, [(0.41180158, 1.0441216)]]\n",
      "47 [0.37336722, 1.0400037, [(0.37336725, 1.0400037)]]\n",
      "48 [0.33851996, 1.03627, [(0.33851999, 1.03627)]]\n",
      "49 [0.30692515, 1.0328848, [(0.30692515, 1.0328848)]]\n",
      "50 [0.27827826, 1.0298156, [(0.27827829, 1.0298156)]]\n",
      "51 [0.25230527, 1.0270327, [(0.25230527, 1.0270327)]]\n",
      "52 [0.2287569, 1.0245097, [(0.2287569, 1.0245097)]]\n",
      "53 [0.20740573, 1.022222, [(0.20740573, 1.022222)]]\n",
      "54 [0.18804836, 1.020148, [(0.18804836, 1.020148)]]\n",
      "55 [0.17049654, 1.0182675, [(0.17049655, 1.0182675)]]\n",
      "56 [0.15458433, 1.0165626, [(0.15458435, 1.0165626)]]\n",
      "57 [0.14015675, 1.0150168, [(0.14015675, 1.0150168)]]\n",
      "58 [0.12707591, 1.0136153, [(0.12707591, 1.0136153)]]\n",
      "59 [0.11521538, 1.0123445, [(0.11521538, 1.0123445)]]\n",
      "60 [0.10446167, 1.0111923, [(0.10446167, 1.0111923)]]\n",
      "61 [0.094712019, 1.0101477, [(0.094712019, 1.0101477)]]\n",
      "62 [0.085872017, 1.0092006, [(0.085872017, 1.0092006)]]\n",
      "63 [0.077858053, 1.0083419, [(0.077858053, 1.0083419)]]\n",
      "64 [0.070591293, 1.0075634, [(0.070591293, 1.0075634)]]\n",
      "65 [0.064002357, 1.0068574, [(0.064002357, 1.0068574)]]\n",
      "66 [0.05802846, 1.0062174, [(0.05802846, 1.0062174)]]\n",
      "67 [0.052612226, 1.005637, [(0.052612226, 1.005637)]]\n",
      "68 [0.047702473, 1.005111, [(0.047702473, 1.005111)]]\n",
      "69 [0.043249767, 1.0046339, [(0.043249767, 1.0046339)]]\n",
      "70 [0.039213181, 1.0042014, [(0.039213181, 1.0042014)]]\n",
      "71 [0.035553534, 1.0038093, [(0.035553537, 1.0038093)]]\n",
      "72 [0.032236177, 1.0034539, [(0.032236181, 1.0034539)]]\n",
      "73 [0.029227654, 1.0031315, [(0.029227655, 1.0031315)]]\n",
      "74 [0.02649951, 1.0028392, [(0.02649951, 1.0028392)]]\n",
      "75 [0.024025917, 1.0025742, [(0.024025917, 1.0025742)]]\n",
      "76 [0.021783749, 1.002334, [(0.021783751, 1.002334)]]\n",
      "77 [0.01975123, 1.0021162, [(0.019751232, 1.0021162)]]\n",
      "78 [0.017907381, 1.0019187, [(0.017907381, 1.0019187)]]\n",
      "79 [0.016236702, 1.0017396, [(0.016236704, 1.0017396)]]\n",
      "80 [0.014720838, 1.0015773, [(0.014720838, 1.0015773)]]\n",
      "81 [0.01334699, 1.00143, [(0.013346991, 1.00143)]]\n",
      "82 [0.012100856, 1.0012965, [(0.012100856, 1.0012965)]]\n",
      "83 [0.010971785, 1.0011755, [(0.010971785, 1.0011755)]]\n",
      "84 [0.0099481745, 1.0010659, [(0.0099481754, 1.0010659)]]\n",
      "85 [0.009018898, 1.0009663, [(0.009018898, 1.0009663)]]\n",
      "86 [0.0081768828, 1.0008761, [(0.0081768837, 1.0008761)]]\n",
      "87 [0.0074131489, 1.0007943, [(0.0074131489, 1.0007943)]]\n",
      "88 [0.0067215762, 1.0007201, [(0.0067215762, 1.0007201)]]\n",
      "89 [0.0060940585, 1.0006529, [(0.0060940585, 1.0006529)]]\n",
      "90 [0.0055252709, 1.000592, [(0.0055252714, 1.000592)]]\n",
      "91 [0.0050098896, 1.0005368, [(0.0050098896, 1.0005368)]]\n",
      "92 [0.0045425892, 1.0004867, [(0.0045425892, 1.0004867)]]\n",
      "93 [0.0041189194, 1.0004413, [(0.0041189194, 1.0004413)]]\n",
      "94 [0.0037339528, 1.0004001, [(0.003733953, 1.0004001)]]\n",
      "95 [0.0033854644, 1.0003628, [(0.0033854644, 1.0003628)]]\n",
      "96 [0.0030694802, 1.0003289, [(0.0030694804, 1.0003289)]]\n",
      "97 [0.0027837753, 1.0002983, [(0.0027837753, 1.0002983)]]\n",
      "98 [0.0025234222, 1.0002704, [(0.0025234222, 1.0002704)]]\n",
      "99 [0.0022875469, 1.0002451, [(0.0022875469, 1.0002451)]]\n"
     ]
    }
   ],
   "source": [
    "# Lab 3 Minimizing Cost\n",
    "# This is optional\n",
    "import tensorflow as tf\n",
    "tf.set_random_seed(777)  # for reproducibility\n",
    "\n",
    "# tf Graph Input\n",
    "X = [1, 2, 3]\n",
    "Y = [1, 2, 3]\n",
    "\n",
    "# Set wrong model weights\n",
    "W = tf.Variable(5.)\n",
    "\n",
    "# 2. 가설 Linear model\n",
    "hypothesis = X * W\n",
    "\n",
    "# Manual gradient\n",
    "gradient = tf.reduce_mean((W * X - Y) * X) * 2\n",
    "\n",
    "# 3. Cost cost/loss function\n",
    "cost = tf.reduce_mean(tf.square(hypothesis - Y))\n",
    "\n",
    "# 4. Minimize: Gradient Descent Magic\n",
    "optimizer = tf.train.GradientDescentOptimizer(learning_rate=0.01)\n",
    "train = optimizer.minimize(cost)\n",
    "\n",
    "# Get gradients\n",
    "gvs = optimizer.compute_gradients(cost, [W])\n",
    "# Optional: modify gradient if necessary\n",
    "# gvs = [(tf.clip_by_value(grad, -1., 1.), var) for grad, var in gvs]\n",
    "# Apply gradients\n",
    "apply_gradients = optimizer.apply_gradients(gvs)\n",
    "\n",
    "# Launch the graph in a session.\n",
    "sess = tf.Session()\n",
    "# Initializes global variables in the graph.\n",
    "sess.run(tf.global_variables_initializer())\n",
    "\n",
    "for step in range(100):\n",
    "    print(step, sess.run([gradient, W, gvs]))\n",
    "    sess.run(apply_gradients)\n",
    "    # Same as sess.run(train)"
   ]
  },
  {
   "cell_type": "markdown",
   "metadata": {},
   "source": [
    "#### 참고) W를 구하는 방법 - 정규방정식\n",
    "\n",
    "X * W = y\n",
    "\n",
    "X = X_train, Y = Y_train<br/>\n",
    "W = (b, W)\n",
    "\n",
    "<a href=\"https://eli.thegreenplace.net/2014/derivation-of-the-normal-equation-for-linear-regression\">링크</a>"
   ]
  },
  {
   "cell_type": "code",
   "execution_count": 380,
   "metadata": {
    "collapsed": true
   },
   "outputs": [],
   "source": [
    "#0. 데이터 생성\n",
    "num_points = 1000 # 1000개\n",
    "vectors_set = []\n",
    "\n",
    "for i in range(num_points):\n",
    "    x1 = np.random.normal(0.0, 0.5) # x1: mu = 0.0, sigma = 0.5\n",
    "    y1 = x1*0.1 + 0.3 + np.random.normal(0.0, 0.03) # y1: x1*.0.1 + 0.3 + noise\n",
    "    vectors_set.append([x1, y1])\n",
    "\n",
    "x_data = [v[0] for v in vectors_set]\n",
    "y_data = [v[1] for v in vectors_set]"
   ]
  },
  {
   "cell_type": "code",
   "execution_count": 381,
   "metadata": {
    "collapsed": true
   },
   "outputs": [],
   "source": [
    "x = np.array(x_data)[np.newaxis].T"
   ]
  },
  {
   "cell_type": "code",
   "execution_count": 383,
   "metadata": {},
   "outputs": [
    {
     "name": "stdout",
     "output_type": "stream",
     "text": [
      "X Shape:  (1000, 2)\n",
      "Y Shape:  (1000, 1)\n",
      "[[ 0.30167126]\n",
      " [ 0.1011308 ]]\n",
      "\n",
      "\n",
      "경과 시간:  0.1610724925994873  초\n"
     ]
    }
   ],
   "source": [
    "#input_data\n",
    "start_time = time.time()\n",
    "\n",
    "x = np.array(x_data)[np.newaxis].T\n",
    "Y = np.array(y_data)[np.newaxis].T\n",
    "\n",
    "x0shape = (1000, 1)\n",
    "x0 = np.ones(x0shape)\n",
    "X = np.concatenate([x0, x], axis=1)\n",
    "\n",
    "#X는 column개수가 2개이다. 왜냐하면 X*W + b에서 b에 곱해지는 값은 1\n",
    "print(\"X Shape: \", np.shape(X))\n",
    "print(\"Y Shape: \", np.shape(Y))\n",
    "\n",
    "XtX = np.matmul(X.T, X)\n",
    "iXtX = np.linalg.inv(XtX)\n",
    "iXtXXt = np.matmul(iXtX, X.T)\n",
    "W = np.matmul(iXtXXt, Y)\n",
    "\n",
    "print(W)\n",
    "\n",
    "end_time = time.time()\n",
    "print('\\n')\n",
    "print('경과 시간: ', end_time - start_time, \" 초\")"
   ]
  },
  {
   "cell_type": "markdown",
   "metadata": {},
   "source": [
    "### 3. Multi variable linear regression"
   ]
  },
  {
   "cell_type": "markdown",
   "metadata": {},
   "source": [
    "Simple linear regression과 비슷하게 하면 되나 데이터 다루는 데에 좀 더 신경써야 함"
   ]
  },
  {
   "cell_type": "code",
   "execution_count": 395,
   "metadata": {
    "collapsed": true
   },
   "outputs": [],
   "source": [
    "#1. 변수 설정\n",
    "x_train = [[73, 93, 89, 96, 73],\n",
    "           [80, 88, 91, 98, 66],\n",
    "           [75, 93, 90, 100, 70]]\n",
    "x_train = np.array((x_train)).T\n",
    "y_train = [152, 185, 180, 196, 142]\n",
    "\n",
    "#COLUMN 하나 더 추가해서 Transpose\n",
    "y_train = np.array(y_train)[np.newaxis].T#"
   ]
  },
  {
   "cell_type": "code",
   "execution_count": 396,
   "metadata": {
    "collapsed": true
   },
   "outputs": [],
   "source": [
    "x_data = [[73., 80., 75.], [93., 88., 93.],\n",
    "[89., 91., 90.], [96., 98., 100.], [73., 66., 70.]] \n",
    "y_data = [[152.], [185.], [180.], [196.], [142.]]"
   ]
  },
  {
   "cell_type": "code",
   "execution_count": 397,
   "metadata": {},
   "outputs": [
    {
     "name": "stdout",
     "output_type": "stream",
     "text": [
      "[[ 73  80  75]\n",
      " [ 93  88  93]\n",
      " [ 89  91  90]\n",
      " [ 96  98 100]\n",
      " [ 73  66  70]] \n",
      " [[  73.   80.   75.]\n",
      " [  93.   88.   93.]\n",
      " [  89.   91.   90.]\n",
      " [  96.   98.  100.]\n",
      " [  73.   66.   70.]]\n",
      "[[152]\n",
      " [185]\n",
      " [180]\n",
      " [196]\n",
      " [142]] \n",
      " [[ 152.]\n",
      " [ 185.]\n",
      " [ 180.]\n",
      " [ 196.]\n",
      " [ 142.]]\n"
     ]
    }
   ],
   "source": [
    "print(x_train, '\\n', np.array(x_data))\n",
    "print(y_train, '\\n', np.array(y_data))"
   ]
  },
  {
   "cell_type": "code",
   "execution_count": 398,
   "metadata": {},
   "outputs": [
    {
     "name": "stdout",
     "output_type": "stream",
     "text": [
      "0 Cost:  159026.0 \n",
      "Prediction:\n",
      " [[-198.65325928]\n",
      " [-243.13491821]\n",
      " [-237.15530396]\n",
      " [-259.60757446]\n",
      " [-185.52664185]]\n",
      "500 Cost:  6.27118 \n",
      "Prediction:\n",
      " [[ 155.12924194]\n",
      " [ 182.17654419]\n",
      " [ 181.86386108]\n",
      " [ 196.69941711]\n",
      " [ 138.89698792]]\n",
      "1000 Cost:  6.10862 \n",
      "Prediction:\n",
      " [[ 155.08140564]\n",
      " [ 182.20918274]\n",
      " [ 181.84909058]\n",
      " [ 196.68890381]\n",
      " [ 138.93966675]]\n",
      "1500 Cost:  5.95049 \n",
      "Prediction:\n",
      " [[ 155.03439331]\n",
      " [ 182.24153137]\n",
      " [ 181.83473206]\n",
      " [ 196.67874146]\n",
      " [ 138.98191833]]\n",
      "2000 Cost:  5.79648 \n",
      "Prediction:\n",
      " [[ 154.98789978]\n",
      " [ 182.27337646]\n",
      " [ 181.82044983]\n",
      " [ 196.66862488]\n",
      " [ 139.02354431]]\n"
     ]
    }
   ],
   "source": [
    "X = tf.placeholder(tf.float32, shape=[None, 3], name='x_data')\n",
    "Y = tf.placeholder(tf.float32, shape=[None, 1], name='y_data')\n",
    "\n",
    "W = tf.Variable(tf.random_normal([3, 1]), name='weight')\n",
    "b = tf.Variable(tf.random_normal([1]), name='bias')\n",
    "\n",
    "#2. 가설 설정\n",
    "hypothesis = tf.matmul(X, W) + b\n",
    "\n",
    "#3. cost\n",
    "cost = tf.reduce_mean(tf.square(hypothesis - Y))\n",
    "\n",
    "#4. gradient descent\n",
    "optimizer = tf.train.GradientDescentOptimizer(learning_rate=0.000001)\n",
    "train = optimizer.minimize(cost)\n",
    "\n",
    "#5. Launch\n",
    "sess = tf.Session()\n",
    "sess.run(tf.global_variables_initializer())\n",
    "\n",
    "for step in range(2001): \n",
    "    cost_val, hy_val, _ = sess.run(\n",
    "        [cost, hypothesis, train], feed_dict={X: x_data, Y: y_data})\n",
    "    if step % 500 == 0:\n",
    "        print(step, \"Cost: \", cost_val, \"\\nPrediction:\\n\", hy_val)"
   ]
  },
  {
   "cell_type": "markdown",
   "metadata": {},
   "source": [
    "#### 위 예제에서 학습률에 고민을 해봐야 한다.<br/>\n",
    "\n",
    "학습률을 어떻게 할 것인가? <br/>\n",
    "1) if learning rate is small, show small convergence.<br/>\n",
    "2) if learning rate is big, H(W) may not decrease on every iteration.\n",
    "\n",
    "- 0.0001 -> 0.001 -> 0.01 -> 0.1 -> 1 등으로 순차적으로 테스트해가면서 적합한 learning rate 지정해야 함"
   ]
  },
  {
   "cell_type": "markdown",
   "metadata": {},
   "source": [
    "#### feature selection\n",
    "\n",
    "이것 또한 매우 중요하고 향후 공부할 주제다.\n",
    "\n",
    "housePrice = b + W1*frontage + W2*width 로 회귀 식을 세울 것인가?<br/> \n",
    "housePrice = b + W1' * Area("
   ]
  },
  {
   "cell_type": "markdown",
   "metadata": {},
   "source": [
    "### 4. 학습 이후 Prediction"
   ]
  },
  {
   "cell_type": "code",
   "execution_count": 368,
   "metadata": {},
   "outputs": [
    {
     "name": "stdout",
     "output_type": "stream",
     "text": [
      "Your score will be  [[ 167.5355072]]\n"
     ]
    }
   ],
   "source": [
    "print(\"Your score will be \", sess.run(hypothesis, feed_dict={X: [[100, 70, 101]]}))"
   ]
  },
  {
   "cell_type": "markdown",
   "metadata": {},
   "source": [
    "### 5. File 이 매우 클 때"
   ]
  },
  {
   "cell_type": "markdown",
   "metadata": {},
   "source": [
    "Queue Runner 사용\n",
    "\n",
    "<img src=\"./photo/queuerunner.png\">"
   ]
  },
  {
   "cell_type": "markdown",
   "metadata": {},
   "source": [
    "#Queue Runner 스텝\n",
    "#1. filename_queue 생성<br/>\n",
    "filename_queue = tf.train.string_input_producer(['파일 이름1', '파일 이름2', ...],\n",
    "                                               shuffle=False, name='filename_queue')\n",
    "#2. reader(읽어오기) - 파일을 읽어온다.<br/>\n",
    "reader = tf.TextLineReader()\n",
    "key, value = reader.read(filename_queue)\n",
    "\n",
    "#3. record_defaults - 어떻게 Parsing을 할 것인가.<br/>\n",
    "record_defaults = [[0.],[0.],[0.],[0.]]\n",
    "xy = tf.decode_csv(value, record_defaults=record_defaults)"
   ]
  },
  {
   "cell_type": "markdown",
   "metadata": {},
   "source": [
    "<img src=\"./photo/queuerunner2.png\">"
   ]
  },
  {
   "cell_type": "markdown",
   "metadata": {},
   "source": [
    "<img src=\"./photo/queuerunner3.png\">"
   ]
  },
  {
   "cell_type": "markdown",
   "metadata": {
    "collapsed": true
   },
   "source": [
    "#### 참고) Ridge 및 Lasso 및 ElasticNet Regression<br/>\n",
    "\n",
    "<a href=\"https://brunch.co.kr/@itschloe1/11\">설명 링크</a><br/>\n",
    "<a href=\"https://github.com/nfmcclure/tensorflow_cookbook/tree/master/03_Linear_Regression\">코드 링크</a>"
   ]
  },
  {
   "cell_type": "code",
   "execution_count": null,
   "metadata": {
    "collapsed": true
   },
   "outputs": [],
   "source": []
  }
 ],
 "metadata": {
  "kernelspec": {
   "display_name": "Python 3",
   "language": "python",
   "name": "python3"
  },
  "language_info": {
   "codemirror_mode": {
    "name": "ipython",
    "version": 3
   },
   "file_extension": ".py",
   "mimetype": "text/x-python",
   "name": "python",
   "nbconvert_exporter": "python",
   "pygments_lexer": "ipython3",
   "version": "3.6.3"
  }
 },
 "nbformat": 4,
 "nbformat_minor": 2
}
