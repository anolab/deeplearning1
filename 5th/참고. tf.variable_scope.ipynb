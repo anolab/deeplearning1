{
 "cells": [
  {
   "cell_type": "code",
   "execution_count": 1,
   "metadata": {
    "collapsed": true
   },
   "outputs": [],
   "source": [
    "import tensorflow as tf\n",
    "from tensorflow.examples.tutorials.mnist import input_data"
   ]
  },
  {
   "cell_type": "code",
   "execution_count": 2,
   "metadata": {},
   "outputs": [
    {
     "name": "stdout",
     "output_type": "stream",
     "text": [
      "Extracting ../3rd/train-images-idx3-ubyte.gz\n",
      "Extracting ../3rd/train-labels-idx1-ubyte.gz\n",
      "Extracting ../3rd/t10k-images-idx3-ubyte.gz\n",
      "Extracting ../3rd/t10k-labels-idx1-ubyte.gz\n"
     ]
    }
   ],
   "source": [
    "mnist = input_data.read_data_sets('../3rd/', one_hot=True)"
   ]
  },
  {
   "cell_type": "code",
   "execution_count": 35,
   "metadata": {
    "collapsed": true
   },
   "outputs": [],
   "source": [
    "tf.reset_default_graph()"
   ]
  },
  {
   "cell_type": "code",
   "execution_count": 36,
   "metadata": {},
   "outputs": [],
   "source": [
    "# input place holders\n",
    "X = tf.placeholder(tf.float32, [None, 784])\n",
    "Y = tf.placeholder(tf.float32, [None, 10])\n",
    "\n",
    "# dropout (keep_prob) rate  0.7 on training, but should be 1 for testing\n",
    "keep_prob = tf.placeholder(tf.float32)\n",
    "\n",
    "with tf.variable_scope('nn1') as scope:\n",
    "    W1 = tf.get_variable(\"W1\", shape=[784,512], initializer=tf.contrib.layers.xavier_initializer())\n",
    "    b1 = tf.get_variable(\"b1\", initializer=tf.zeros([512]))\n",
    "    L1 = tf.nn.relu(tf.matmul(X, W1) + b1)\n",
    "    L1 = tf.nn.dropout(L1, keep_prob=keep_prob)"
   ]
  },
  {
   "cell_type": "code",
   "execution_count": 37,
   "metadata": {},
   "outputs": [
    {
     "data": {
      "text/plain": [
       "[<tf.Variable 'nn1/W1:0' shape=(784, 512) dtype=float32_ref>,\n",
       " <tf.Variable 'nn1/b1:0' shape=(512,) dtype=float32_ref>]"
      ]
     },
     "execution_count": 37,
     "metadata": {},
     "output_type": "execute_result"
    }
   ],
   "source": [
    "tf.trainable_variables()"
   ]
  },
  {
   "cell_type": "code",
   "execution_count": 38,
   "metadata": {
    "collapsed": true
   },
   "outputs": [],
   "source": [
    "with tf.variable_scope('nn1') as scope:\n",
    "    W2 = tf.get_variable(\"W2\", shape=[512, 512],\n",
    "                         initializer=tf.contrib.layers.xavier_initializer())\n",
    "    b2 = tf.get_variable(\"b2\", initializer=tf.zeros([512]))\n",
    "    L2 = tf.nn.relu(tf.matmul(L1, W2) + b2)\n",
    "    L2 = tf.nn.dropout(L2, keep_prob=keep_prob)\n"
   ]
  },
  {
   "cell_type": "code",
   "execution_count": 39,
   "metadata": {},
   "outputs": [
    {
     "data": {
      "text/plain": [
       "[<tf.Variable 'nn1/W1:0' shape=(784, 512) dtype=float32_ref>,\n",
       " <tf.Variable 'nn1/b1:0' shape=(512,) dtype=float32_ref>,\n",
       " <tf.Variable 'nn1/W2:0' shape=(512, 512) dtype=float32_ref>,\n",
       " <tf.Variable 'nn1/b2:0' shape=(512,) dtype=float32_ref>]"
      ]
     },
     "execution_count": 39,
     "metadata": {},
     "output_type": "execute_result"
    }
   ],
   "source": [
    "tf.trainable_variables()"
   ]
  },
  {
   "cell_type": "markdown",
   "metadata": {},
   "source": [
    "with tf.variable_scope(‘conv1’) as scope:<br/>\n",
    "</t>    w1 = tf.get_variable(“W1”, shape=[784,512], initializer=tf…())<br/>\n",
    "</t>    b1 = tf.get_varialbe(“b1”, shape=[512], initializer=tf…())<br/>\n",
    "   \n",
    "이렇게 작성하면 W1, b1가 conv1 namescope에 있는가 확인하고 없으면 생성하고 있으면 생성하지 않고 이전에 생성한 변수를 사용한다."
   ]
  },
  {
   "cell_type": "code",
   "execution_count": null,
   "metadata": {
    "collapsed": true
   },
   "outputs": [],
   "source": []
  }
 ],
 "metadata": {
  "kernelspec": {
   "display_name": "Python 3",
   "language": "python",
   "name": "python3"
  },
  "language_info": {
   "codemirror_mode": {
    "name": "ipython",
    "version": 3
   },
   "file_extension": ".py",
   "mimetype": "text/x-python",
   "name": "python",
   "nbconvert_exporter": "python",
   "pygments_lexer": "ipython3",
   "version": "3.6.3"
  }
 },
 "nbformat": 4,
 "nbformat_minor": 2
}
