{
 "cells": [
  {
   "cell_type": "markdown",
   "metadata": {},
   "source": [
    "# Anaconda 소개"
   ]
  },
  {
   "cell_type": "markdown",
   "metadata": {},
   "source": [
    "Anaconda란 쉽게 말해 Python 또는 R 프로그램에 있어 필요한 라이브러리 패키지 관리 및 환경 설정등을 쉽게 해주는 도구로 보면 된다.<br/>\n",
    "\n",
    "특히 원하는 목적에 따라 다양한 라이브러리로 구성된 Anaconda package list있고, 이를 이용하여 개발환경에 필요한 다양한 라이브러리들을 한 줄의 명령으로 손쉽게 다운로드 및 설치할 수 있다는 장점이 있다.<br/>\n",
    "\n",
    "일례로 image processing을 위한 관련 라이브러리들을 한번에 설치하기 위해서 \"Anaconda prompt\" 상에서 아래의 명령어 한 줄로 관련 라이브러리를 모두 설치할 수 있었다. imageprocessing은 내가 만든 개발환경(environment)의 이름이고 scikit-image는 Anaconda package list에서 image processing 관련하여 찾은 package list이다.<br/>\n",
    "\n",
    "conda create --name imageprocessing scikit-image<br/>\n",
    "\n",
    "이를 통해 하나의 PC에서 목적에 따라 여러개의 독립적인 개발환경을 구성하여 프로그램을 개발할 수 있으며 해당 프로그램의 의존성을 보다 명확하게 할 수 있다는 장점도 있다.<br/>"
   ]
  },
  {
   "cell_type": "code",
   "execution_count": null,
   "metadata": {
    "collapsed": true
   },
   "outputs": [],
   "source": []
  }
 ],
 "metadata": {
  "kernelspec": {
   "display_name": "Python 3",
   "language": "python",
   "name": "python3"
  },
  "language_info": {
   "codemirror_mode": {
    "name": "ipython",
    "version": 3
   },
   "file_extension": ".py",
   "mimetype": "text/x-python",
   "name": "python",
   "nbconvert_exporter": "python",
   "pygments_lexer": "ipython3",
   "version": "3.6.3"
  }
 },
 "nbformat": 4,
 "nbformat_minor": 2
}
