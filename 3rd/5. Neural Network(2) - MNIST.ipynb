{
 "cells": [
  {
   "cell_type": "markdown",
   "metadata": {},
   "source": [
    "### 1-1. 기본 MNIST(Tensorflow)"
   ]
  },
  {
   "cell_type": "code",
   "execution_count": 1,
   "metadata": {
    "collapsed": true
   },
   "outputs": [],
   "source": [
    "import tensorflow as tf\n",
    "import numpy as np"
   ]
  },
  {
   "cell_type": "code",
   "execution_count": 2,
   "metadata": {
    "collapsed": true
   },
   "outputs": [],
   "source": [
    "from tensorflow.examples.tutorials.mnist import input_data"
   ]
  },
  {
   "cell_type": "code",
   "execution_count": 3,
   "metadata": {},
   "outputs": [
    {
     "name": "stdout",
     "output_type": "stream",
     "text": [
      "Extracting ./train-images-idx3-ubyte.gz\n",
      "Extracting ./train-labels-idx1-ubyte.gz\n",
      "Extracting ./t10k-images-idx3-ubyte.gz\n",
      "Extracting ./t10k-labels-idx1-ubyte.gz\n"
     ]
    }
   ],
   "source": [
    "#1. 데이터 저장 및 변수 생성\n",
    "from tensorflow.examples.tutorials.mnist import input_data\n",
    "mnist = input_data.read_data_sets(\"./\", one_hot=True)\n",
    "\n",
    "nb_classes = 10\n",
    "\n",
    "X = tf.placeholder(tf.float32, [None, 784])\n",
    "Y = tf.placeholder(tf.float32, [None, nb_classes])\n",
    "\n",
    "W1 = tf.Variable(tf.random_normal([784, 28]))\n",
    "b1 = tf.Variable(tf.random_normal([28]))\n",
    "layer1 = tf.sigmoid(tf.matmul(X, W1) + b1)\n",
    "\n",
    "W2= tf.Variable(tf.random_normal([28, 28]), name='weight2')\n",
    "b2 = tf.Variable(tf.random_normal([28]), name='bias2')\n",
    "layer2 = tf.sigmoid(tf.matmul(layer1, W2) + b2)\n",
    "\n",
    "W3= tf.Variable(tf.random_normal([28, nb_classes]), name='weight3')\n",
    "b3 = tf.Variable(tf.random_normal([nb_classes]), name='bias3')"
   ]
  },
  {
   "cell_type": "code",
   "execution_count": 4,
   "metadata": {
    "collapsed": true
   },
   "outputs": [],
   "source": [
    "#2. hypothesis\n",
    "hypothesis = tf.nn.softmax(tf.matmul(layer2, W3) + b3)"
   ]
  },
  {
   "cell_type": "code",
   "execution_count": 5,
   "metadata": {
    "collapsed": true
   },
   "outputs": [],
   "source": [
    "#3. 비용함수\n",
    "cost = tf.reduce_mean(-tf.reduce_sum(Y * tf.log(hypothesis), axis=1))"
   ]
  },
  {
   "cell_type": "code",
   "execution_count": 16,
   "metadata": {
    "collapsed": true
   },
   "outputs": [],
   "source": [
    "#4. optimizer 정의\n",
    "optimizer = tf.train.GradientDescentOptimizer(learning_rate=0.5).minimize(cost)"
   ]
  },
  {
   "cell_type": "code",
   "execution_count": 17,
   "metadata": {
    "collapsed": true
   },
   "outputs": [],
   "source": [
    "#5. prediction tensor 정의\n",
    "# Test model\n",
    "is_correct = tf.equal(tf.argmax(hypothesis, 1), tf.argmax(Y, 1))\n",
    "# Calculate accuracy\n",
    "accuracy = tf.reduce_mean(tf.cast(is_correct, tf.float32))"
   ]
  },
  {
   "cell_type": "code",
   "execution_count": 18,
   "metadata": {
    "collapsed": true
   },
   "outputs": [],
   "source": [
    "#parameters\n",
    "training_epochs = 15\n",
    "batch_size = 100"
   ]
  },
  {
   "cell_type": "code",
   "execution_count": 19,
   "metadata": {
    "collapsed": true
   },
   "outputs": [],
   "source": [
    "import random, time\n",
    "import matplotlib.pyplot as plt"
   ]
  },
  {
   "cell_type": "code",
   "execution_count": 20,
   "metadata": {},
   "outputs": [
    {
     "name": "stdout",
     "output_type": "stream",
     "text": [
      "Epoch: 0001 cost = 1.046211348 accuray = 0.800000012\n",
      "Epoch: 0002 cost = 0.553165467 accuray = 0.839999974\n",
      "Epoch: 0003 cost = 0.442879243 accuray = 0.889999986\n",
      "Epoch: 0004 cost = 0.390797881 accuray = 0.899999976\n",
      "Epoch: 0005 cost = 0.354930080 accuray = 0.939999998\n",
      "Epoch: 0006 cost = 0.331254262 accuray = 0.879999995\n",
      "Epoch: 0007 cost = 0.306165370 accuray = 0.939999998\n",
      "Epoch: 0008 cost = 0.291594944 accuray = 0.910000026\n",
      "Epoch: 0009 cost = 0.276178140 accuray = 0.920000017\n",
      "Epoch: 0010 cost = 0.258114714 accuray = 0.939999998\n",
      "Epoch: 0011 cost = 0.257400366 accuray = 0.899999976\n",
      "Epoch: 0012 cost = 0.240179243 accuray = 0.959999979\n",
      "Epoch: 0013 cost = 0.236312562 accuray = 0.860000014\n",
      "Epoch: 0014 cost = 0.229609750 accuray = 0.920000017\n",
      "Epoch: 0015 cost = 0.216622107 accuray = 0.970000029\n",
      "Learning finished\n",
      "Accuracy:  0.927\n",
      "Label:  [9]\n",
      "Prediction:  [9]\n"
     ]
    },
    {
     "data": {
      "image/png": "[encoded data removed]",
      "text/plain": [
       "<matplotlib.figure.Figure at 0x7f1db9d7b128>"
      ]
     },
     "metadata": {},
     "output_type": "display_data"
    }
   ],
   "source": [
    "with tf.Session() as sess:\n",
    "\n",
    "    # Initialize TensorFlow variables\n",
    "    sess.run(tf.global_variables_initializer())\n",
    "    \n",
    "    # 6.학습 진행 Training cycle(15회 반복)\n",
    "    for epoch in range(training_epochs):\n",
    "        avg_cost = 0\n",
    "        \n",
    "        #number of iterations\n",
    "        total_batch = int(mnist.train.num_examples / batch_size)\n",
    "                \n",
    "        #1epoch \n",
    "        for i in range(total_batch):\n",
    "            batch_xs, batch_ys = mnist.train.next_batch(batch_size)\n",
    "            c, _, a = sess.run([cost, optimizer, accuracy], feed_dict={\n",
    "                            X: batch_xs, Y: batch_ys})\n",
    "            avg_cost += c / total_batch\n",
    "\n",
    "        print('Epoch:', '%04d' % (epoch + 1),\n",
    "              'cost =', '{:.9f}'.format(avg_cost),\n",
    "              'accuray =', '{:.9f}'.format(a))\n",
    "        \n",
    "    print(\"Learning finished\")\n",
    "\n",
    "    # Test the model using test sets\n",
    "    print(\"Accuracy: \", accuracy.eval(session=sess, feed_dict={\n",
    "          X: mnist.test.images, Y: mnist.test.labels}))\n",
    "        \n",
    "    #시각화\n",
    "    # Get one and predict\n",
    "    r = random.randint(0, mnist.test.num_examples - 1)\n",
    "    print(\"Label: \", sess.run(tf.argmax(mnist.test.labels[r:r + 1], 1)))\n",
    "    print(\"Prediction: \", sess.run(\n",
    "        tf.argmax(hypothesis, 1), feed_dict={X: mnist.test.images[r:r + 1]}))\n",
    "\n",
    "    plt.imshow(\n",
    "        mnist.test.images[r:r + 1].reshape(28, 28),\n",
    "        cmap='Greys',\n",
    "        interpolation='nearest')\n",
    "    plt.show()"
   ]
  },
  {
   "cell_type": "markdown",
   "metadata": {},
   "source": [
    "기본 Softmax 함수일 때 90%정도 나왔는데 좀 더 좋아졌다."
   ]
  },
  {
   "cell_type": "markdown",
   "metadata": {},
   "source": [
    "### 1-2. 기본 MNIST(Keras)"
   ]
  },
  {
   "cell_type": "code",
   "execution_count": 22,
   "metadata": {
    "collapsed": true
   },
   "outputs": [],
   "source": [
    "#0. 사용할 패키지 불러오기\n",
    "from keras.utils import np_utils\n",
    "from keras.datasets import mnist\n",
    "from keras.models import Sequential\n",
    "from keras.layers import Dense, Activation"
   ]
  },
  {
   "cell_type": "code",
   "execution_count": 23,
   "metadata": {},
   "outputs": [
    {
     "name": "stdout",
     "output_type": "stream",
     "text": [
      "Downloading data from https://s3.amazonaws.com/img-datasets/mnist.npz\n",
      "11493376/11490434 [==============================] - 76s 7us/step\n"
     ]
    }
   ],
   "source": [
    "#1. 데이터 불러오기\n",
    "(x_train, y_train), (x_test, y_test) = mnist.load_data()\n",
    "x_train = x_train.reshape(60000, 784).astype('float32')\n",
    "x_test = x_test.reshape(10000, 784).astype('float32')\n",
    "y_train = np_utils.to_categorical(y_train)\n",
    "y_test = np_utils.to_categorical(y_test)"
   ]
  },
  {
   "cell_type": "code",
   "execution_count": 24,
   "metadata": {
    "collapsed": true
   },
   "outputs": [],
   "source": [
    "#2. 모델 구성하기(1. 데이터 정의 및 2. 가설 설정)\n",
    "model = Sequential()\n",
    "model.add(Dense(units=64, input_dim=28*28, activation='sigmoid'))\n",
    "model.add(Dense(units=10, activation='softmax'))"
   ]
  },
  {
   "cell_type": "code",
   "execution_count": 26,
   "metadata": {
    "collapsed": true
   },
   "outputs": [],
   "source": [
    "#3. 모델 학습과정 설정하기(3. cost function 4. optimizer 5. accuracy)\n",
    "model.compile(loss='categorical_crossentropy', optimizer='sgd', metrics=['accuracy'])"
   ]
  },
  {
   "cell_type": "code",
   "execution_count": 27,
   "metadata": {},
   "outputs": [
    {
     "name": "stdout",
     "output_type": "stream",
     "text": [
      "Epoch 1/15\n",
      "60000/60000 [==============================] - 3s 50us/step - loss: 1.0826 - acc: 0.7280\n",
      "Epoch 2/15\n",
      "60000/60000 [==============================] - 3s 46us/step - loss: 0.5859 - acc: 0.8666: 1s - loss: 0.\n",
      "Epoch 3/15\n",
      "60000/60000 [==============================] - 3s 44us/step - loss: 0.4587 - acc: 0.8901\n",
      "Epoch 4/15\n",
      "60000/60000 [==============================] - 3s 49us/step - loss: 0.3976 - acc: 0.9012\n",
      "Epoch 5/15\n",
      "60000/60000 [==============================] - 3s 47us/step - loss: 0.3630 - acc: 0.9071\n",
      "Epoch 6/15\n",
      "60000/60000 [==============================] - 3s 47us/step - loss: 0.3369 - acc: 0.9122:\n",
      "Epoch 7/15\n",
      "60000/60000 [==============================] - 3s 47us/step - loss: 0.3155 - acc: 0.9172: 1s - loss: 0.31 - ETA: 0s - loss: 0.3155 - acc: 0\n",
      "Epoch 8/15\n",
      "60000/60000 [==============================] - 3s 50us/step - loss: 0.2999 - acc: 0.9196: 3s  - ETA: 0s - loss: 0.3001\n",
      "Epoch 9/15\n",
      "60000/60000 [==============================] - 3s 47us/step - loss: 0.2865 - acc: 0.9233\n",
      "Epoch 10/15\n",
      "60000/60000 [==============================] - 3s 47us/step - loss: 0.2749 - acc: 0.9257\n",
      "Epoch 11/15\n",
      "60000/60000 [==============================] - ETA: 0s - loss: 0.2645 - acc: 0.9287- ETA: 1s - loss: 0.2712 - acc: 0.92 - ETA: 1s - loss: 0. - 3s 47us/step - loss: 0.2645 - acc: 0.9288\n",
      "Epoch 12/15\n",
      "60000/60000 [==============================] - 3s 47us/step - loss: 0.2575 - acc: 0.9294\n",
      "Epoch 13/15\n",
      "60000/60000 [==============================] - 3s 47us/step - loss: 0.2486 - acc: 0.9315\n",
      "Epoch 14/15\n",
      "60000/60000 [==============================] - 3s 47us/step - loss: 0.2407 - acc: 0.9341\n",
      "Epoch 15/15\n",
      "60000/60000 [==============================] - 3s 50us/step - loss: 0.2392 - acc: 0.9351\n"
     ]
    }
   ],
   "source": [
    "#4. 모델 학습시키기(6. train)\n",
    "hist = model.fit(x_train, y_train, epochs=15, batch_size=100)"
   ]
  },
  {
   "cell_type": "code",
   "execution_count": 28,
   "metadata": {},
   "outputs": [
    {
     "name": "stdout",
     "output_type": "stream",
     "text": [
      "## training loss and acc ##\n",
      "[1.0826497856775921, 0.58585745856165883, 0.45870677635073664, 0.39760554311176138, 0.36302959531545637, 0.33685566668709122, 0.31545800462365148, 0.29985681521395841, 0.28647938765585423, 0.27494910409053169, 0.26445028296361367, 0.25747810501605273, 0.24855611308167377, 0.2407173357779781, 0.23917038244505723]\n",
      "[0.7280333310117324, 0.86664999971787138, 0.89005000064770379, 0.90121666848659521, 0.90711666882038111, 0.91216666907072064, 0.91715000172456107, 0.91963333507378897, 0.92325000266234081, 0.9257000018159548, 0.92883333484331765, 0.9294333339730898, 0.93148333479960754, 0.93406666974226638, 0.93511666923761372]\n"
     ]
    }
   ],
   "source": [
    "#5. 학습과정 살펴보기\n",
    "print('## training loss and acc ##')\n",
    "print(hist.history['loss'])\n",
    "print(hist.history['acc'])"
   ]
  },
  {
   "cell_type": "code",
   "execution_count": 29,
   "metadata": {},
   "outputs": [
    {
     "name": "stdout",
     "output_type": "stream",
     "text": [
      "10000/10000 [==============================] - 0s 33us/step\n",
      "## evaluation loss_and_metrics ##\n",
      "[0.23910675685852767, 0.93630000174045558]\n"
     ]
    }
   ],
   "source": [
    "#6. 모델 평가하기(7. model evaluate)\n",
    "loss_and_metircs = model.evaluate(x_test, y_test, batch_size=100)\n",
    "print(\"## evaluation loss_and_metrics ##\")\n",
    "print(loss_and_metircs)"
   ]
  },
  {
   "cell_type": "code",
   "execution_count": 30,
   "metadata": {},
   "outputs": [
    {
     "name": "stdout",
     "output_type": "stream",
     "text": [
      "## yhat ##\n",
      "[[  5.17563720e-04   1.54603142e-04   9.46832472e-04   1.01054916e-02\n",
      "    8.11101199e-05   2.32238279e-04   2.86299255e-05   9.85582054e-01\n",
      "    6.56548829e-04   1.69491209e-03]]\n"
     ]
    }
   ],
   "source": [
    "#7. 모델 평가하기\n",
    "xhat = x_test[0:1]\n",
    "yhat = model.predict(xhat)\n",
    "print(\"## yhat ##\")\n",
    "print(yhat)"
   ]
  },
  {
   "cell_type": "markdown",
   "metadata": {},
   "source": [
    "Keras 는 내가 학습률을 지정해주지 않아도 된다. 그래서 93.63% 나왔다."
   ]
  },
  {
   "cell_type": "code",
   "execution_count": null,
   "metadata": {
    "collapsed": true
   },
   "outputs": [],
   "source": []
  }
 ],
 "metadata": {
  "kernelspec": {
   "display_name": "Python 3",
   "language": "python",
   "name": "python3"
  },
  "language_info": {
   "codemirror_mode": {
    "name": "ipython",
    "version": 3
   },
   "file_extension": ".py",
   "mimetype": "text/x-python",
   "name": "python",
   "nbconvert_exporter": "python",
   "pygments_lexer": "ipython3",
   "version": "3.6.3"
  }
 },
 "nbformat": 4,
 "nbformat_minor": 2
}
