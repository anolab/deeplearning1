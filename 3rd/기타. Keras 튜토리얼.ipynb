{
 "cells": [
  {
   "cell_type": "markdown",
   "metadata": {},
   "source": [
    "### 1. 학습과정 살펴보기(Matplotlib & Tensorboard)"
   ]
  },
  {
   "cell_type": "code",
   "execution_count": 1,
   "metadata": {},
   "outputs": [
    {
     "name": "stderr",
     "output_type": "stream",
     "text": [
      "Using TensorFlow backend.\n"
     ]
    }
   ],
   "source": [
    "import keras\n",
    "from keras.utils import np_utils\n",
    "from keras.datasets import mnist\n",
    "from keras.models import Sequential\n",
    "from keras.layers import Dense, Activation"
   ]
  },
  {
   "cell_type": "code",
   "execution_count": 2,
   "metadata": {},
   "outputs": [],
   "source": [
    "import numpy as np"
   ]
  },
  {
   "cell_type": "code",
   "execution_count": 165,
   "metadata": {
    "collapsed": true
   },
   "outputs": [],
   "source": [
    "#1. 데이터 셋 생성\n",
    "#1. 데이터 불러오기\n",
    "(x_train, y_train), (x_test, y_test) = mnist.load_data()"
   ]
  },
  {
   "cell_type": "code",
   "execution_count": 166,
   "metadata": {
    "collapsed": true
   },
   "outputs": [],
   "source": [
    "#훈련 셋과 검증셋 분리\n",
    "x_val = x_train[50000:]\n",
    "y_val = y_train[50000:]\n",
    "x_train = x_train[:50000]\n",
    "y_train = y_train[:50000]"
   ]
  },
  {
   "cell_type": "code",
   "execution_count": 167,
   "metadata": {},
   "outputs": [],
   "source": [
    "x_train = x_train.reshape(50000, 784).astype('float32')\n",
    "x_val = x_val.reshape(10000, 784).astype('float32')\n",
    "x_test = x_test.reshape(10000, 784).astype('float32')"
   ]
  },
  {
   "cell_type": "code",
   "execution_count": 168,
   "metadata": {},
   "outputs": [
    {
     "data": {
      "text/plain": [
       "'\\ntrain_rand_idxs = np.random.choice(50000, 700)\\nval_rand_idxs = np.random.choice(10000, 300)\\n\\nx_train = x_train[train_rand_idxs]\\ny_train = y_train[train_rand_idxs]\\n\\nx_val = x_val[val_rand_idx]\\ny_val = y_val[val_rand_idx]\\n'"
      ]
     },
     "execution_count": 168,
     "metadata": {},
     "output_type": "execute_result"
    }
   ],
   "source": [
    "#훈련 셋과 검증 셋 고르기\n",
    "\"\"\"\n",
    "train_rand_idxs = np.random.choice(50000, 700)\n",
    "val_rand_idxs = np.random.choice(10000, 300)\n",
    "\n",
    "x_train = x_train[train_rand_idxs]\n",
    "y_train = y_train[train_rand_idxs]\n",
    "\n",
    "x_val = x_val[val_rand_idx]\n",
    "y_val = y_val[val_rand_idx]\n",
    "\"\"\""
   ]
  },
  {
   "cell_type": "code",
   "execution_count": 169,
   "metadata": {},
   "outputs": [],
   "source": [
    "#라벨 데이터 원핫 인코딩 처리\n",
    "y_train = np_utils.to_categorical(y_train)\n",
    "y_val = np_utils.to_categorical(y_val)\n",
    "y_test = np_utils.to_categorical(y_test)"
   ]
  },
  {
   "cell_type": "code",
   "execution_count": 175,
   "metadata": {},
   "outputs": [],
   "source": [
    "#2. 모델 구성하기\n",
    "model = Sequential()\n",
    "model.add(Dense(units=28, input_dim=28*28, activation='relu'))\n",
    "model.add(Dense(units=28, activation='relu'))\n",
    "model.add(Dense(units=10, activation='softmax'))"
   ]
  },
  {
   "cell_type": "code",
   "execution_count": 176,
   "metadata": {},
   "outputs": [],
   "source": [
    "#3. 모델 학습과정 설정하기\n",
    "model.compile(loss='categorical_crossentropy', optimizer='sgd', metrics=['accuracy'])"
   ]
  },
  {
   "cell_type": "code",
   "execution_count": 177,
   "metadata": {},
   "outputs": [
    {
     "name": "stdout",
     "output_type": "stream",
     "text": [
      "Train on 50000 samples, validate on 10000 samples\n",
      "Epoch 1/15\n",
      "50000/50000 [==============================] - 2s 44us/step - loss: 8.8185 - acc: 0.4471 - val_loss: 5.9113 - val_acc: 0.6292\n",
      "Epoch 2/15\n",
      "50000/50000 [==============================] - 2s 46us/step - loss: 4.6232 - acc: 0.7100 - val_loss: 3.7845 - val_acc: 0.7636\n",
      "Epoch 3/15\n",
      "50000/50000 [==============================] - 2s 45us/step - loss: 4.8249 - acc: 0.6991 - val_loss: 3.8271 - val_acc: 0.7616\n",
      "Epoch 4/15\n",
      "50000/50000 [==============================] - 2s 45us/step - loss: 4.7325 - acc: 0.7054 - val_loss: 6.1168 - val_acc: 0.6196\n",
      "Epoch 5/15\n",
      "50000/50000 [==============================] - 2s 44us/step - loss: 4.9571 - acc: 0.6915 - val_loss: 3.8761 - val_acc: 0.7587\n",
      "Epoch 6/15\n",
      "50000/50000 [==============================] - 2s 44us/step - loss: 4.6540 - acc: 0.7105 - val_loss: 4.0900 - val_acc: 0.7459\n",
      "Epoch 7/15\n",
      "50000/50000 [==============================] - 2s 44us/step - loss: 5.3105 - acc: 0.6700 - val_loss: 3.9930 - val_acc: 0.7510\n",
      "Epoch 8/15\n",
      "50000/50000 [==============================] - 2s 45us/step - loss: 4.5385 - acc: 0.7125 - val_loss: 4.4094 - val_acc: 0.7249\n",
      "Epoch 9/15\n",
      "50000/50000 [==============================] - 2s 47us/step - loss: 5.2597 - acc: 0.6700 - val_loss: 4.6648 - val_acc: 0.7028\n",
      "Epoch 10/15\n",
      "50000/50000 [==============================] - 2s 44us/step - loss: 4.7974 - acc: 0.6755 - val_loss: 3.5536 - val_acc: 0.7259\n",
      "Epoch 11/15\n",
      "50000/50000 [==============================] - 2s 44us/step - loss: 2.6886 - acc: 0.6781 - val_loss: 2.3983 - val_acc: 0.6532\n",
      "Epoch 12/15\n",
      "50000/50000 [==============================] - 2s 44us/step - loss: 1.8002 - acc: 0.6309 - val_loss: 1.5998 - val_acc: 0.5972\n",
      "Epoch 13/15\n",
      "50000/50000 [==============================] - 2s 46us/step - loss: 1.6045 - acc: 0.5835 - val_loss: 1.4207 - val_acc: 0.6134\n",
      "Epoch 14/15\n",
      "50000/50000 [==============================] - 2s 44us/step - loss: 1.6178 - acc: 0.5549 - val_loss: 1.4943 - val_acc: 0.5840\n",
      "Epoch 15/15\n",
      "50000/50000 [==============================] - 2s 44us/step - loss: 1.5371 - acc: 0.5505 - val_loss: 1.6091 - val_acc: 0.5524\n"
     ]
    }
   ],
   "source": [
    "#4. 모델 학습시키기\n",
    "tb_hist = keras.callbacks.TensorBoard(log_dir='./graph', histogram_freq=0, write_graph=True, write_images=True)\n",
    "hist = model.fit(x_train, y_train, epochs=15, batch_size=100, validation_data=(x_val, y_val), callbacks=[tb_hist])"
   ]
  },
  {
   "cell_type": "code",
   "execution_count": 178,
   "metadata": {
    "collapsed": true
   },
   "outputs": [],
   "source": [
    "%matplotlib inline\n",
    "import matplotlib.pyplot as plt"
   ]
  },
  {
   "cell_type": "code",
   "execution_count": 179,
   "metadata": {},
   "outputs": [
    {
     "data": {
      "image/png": "[encoded data removed]",
      "text/plain": [
       "<matplotlib.figure.Figure at 0x7f056253f828>"
      ]
     },
     "metadata": {},
     "output_type": "display_data"
    }
   ],
   "source": [
    "#5. 학습과정 살펴보기\n",
    "fig, loss_ax = plt.subplots()\n",
    "acc_ax = loss_ax.twinx()\n",
    "\n",
    "loss_ax.plot(hist.history['loss'], 'y', label='train loss')\n",
    "loss_ax.plot(hist.history['val_loss'], 'r', label='val loss')\n",
    "\n",
    "acc_ax.plot(hist.history['acc'], 'b', label='train acc')\n",
    "acc_ax.plot(hist.history['val_acc'], 'g', label='val acc')\n",
    "\n",
    "loss_ax.set_xlabel('epoch')\n",
    "loss_ax.set_ylabel('loss')\n",
    "acc_ax.set_ylabel('accuracy')\n",
    "\n",
    "loss_ax.legend(loc='upper left')\n",
    "acc_ax.legend(loc='lower left')\n",
    "\n",
    "plt.show()"
   ]
  },
  {
   "cell_type": "code",
   "execution_count": 180,
   "metadata": {},
   "outputs": [
    {
     "name": "stdout",
     "output_type": "stream",
     "text": [
      "10000/10000 [==============================] - 0s 32us/step\n",
      "\n",
      "loss: 1.62763912354\n",
      "accuracy: 0.524\n"
     ]
    }
   ],
   "source": [
    "#6. 모델 평가하기\n",
    "loss_and_metrics = model.evaluate(x_test, y_test, batch_size=32)\n",
    "\n",
    "print('')\n",
    "print('loss: ' + str(loss_and_metrics[0]))\n",
    "print('accuracy: ' + str(loss_and_metrics[1]))"
   ]
  },
  {
   "cell_type": "markdown",
   "metadata": {},
   "source": [
    "### 2. 학습 조기 종료 시키기"
   ]
  },
  {
   "cell_type": "code",
   "execution_count": 13,
   "metadata": {
    "collapsed": true
   },
   "outputs": [],
   "source": [
    "#1. 데이터 셋 생성\n",
    "#1. 데이터 불러오기\n",
    "(x_train, y_train), (x_test, y_test) = mnist.load_data()\n",
    "\n",
    "#훈련 셋과 검증셋 분리\n",
    "x_val = x_train[50000:]\n",
    "y_val = y_train[50000:]\n",
    "x_train = x_train[:50000]\n",
    "y_train = y_train[:50000]\n",
    "\n",
    "x_train = x_train.reshape(50000, 784).astype('float32')\n",
    "x_val = x_val.reshape(10000, 784).astype('float32')\n",
    "x_test = x_test.reshape(10000, 784).astype('float32')\n",
    "\n",
    "#라벨 데이터 원핫 인코딩 처리\n",
    "y_train = np_utils.to_categorical(y_train)\n",
    "y_val = np_utils.to_categorical(y_val)\n",
    "y_test = np_utils.to_categorical(y_test)"
   ]
  },
  {
   "cell_type": "code",
   "execution_count": 25,
   "metadata": {
    "collapsed": true
   },
   "outputs": [],
   "source": [
    "#2. 모델 구성하기\n",
    "model = Sequential()\n",
    "model.add(Dense(units=28, input_dim=28*28, activation='sigmoid'))\n",
    "model.add(Dense(units=28, activation='sigmoid'))\n",
    "model.add(Dense(units=10, activation='softmax'))"
   ]
  },
  {
   "cell_type": "code",
   "execution_count": 26,
   "metadata": {
    "collapsed": true
   },
   "outputs": [],
   "source": [
    "#3. 모델 학습과정 설정하기\n",
    "sgd = keras.optimizers.SGD(lr=0.5, momentum=0.0, decay=0.0, nesterov=False)\n",
    "model.compile(loss='categorical_crossentropy', optimizer=sgd , metrics=['accuracy'])"
   ]
  },
  {
   "cell_type": "code",
   "execution_count": 27,
   "metadata": {},
   "outputs": [
    {
     "name": "stdout",
     "output_type": "stream",
     "text": [
      "Train on 50000 samples, validate on 10000 samples\n",
      "Epoch 1/3000\n",
      "50000/50000 [==============================] - 2s 49us/step - loss: 1.8540 - acc: 0.3342 - val_loss: 1.6460 - val_acc: 0.3703\n",
      "Epoch 2/3000\n",
      "50000/50000 [==============================] - 2s 42us/step - loss: 1.6445 - acc: 0.3862 - val_loss: 1.9681 - val_acc: 0.2773\n",
      "Epoch 3/3000\n",
      "50000/50000 [==============================] - 2s 44us/step - loss: 1.8596 - acc: 0.3040 - val_loss: 2.0043 - val_acc: 0.2081\n",
      "Epoch 4/3000\n",
      "50000/50000 [==============================] - 2s 47us/step - loss: 1.7116 - acc: 0.3463 - val_loss: 1.4420 - val_acc: 0.4735\n",
      "Epoch 5/3000\n",
      "50000/50000 [==============================] - 2s 44us/step - loss: 1.3807 - acc: 0.4810 - val_loss: 1.3867 - val_acc: 0.4442\n",
      "Epoch 6/3000\n",
      "50000/50000 [==============================] - 2s 45us/step - loss: 1.3426 - acc: 0.4993 - val_loss: 1.3273 - val_acc: 0.5159\n",
      "Epoch 7/3000\n",
      "50000/50000 [==============================] - 2s 46us/step - loss: 1.3376 - acc: 0.4917 - val_loss: 1.3631 - val_acc: 0.4169\n",
      "Epoch 8/3000\n",
      "50000/50000 [==============================] - 2s 45us/step - loss: 1.3749 - acc: 0.4864 - val_loss: 1.3368 - val_acc: 0.5179\n",
      "Epoch 9/3000\n",
      "50000/50000 [==============================] - 2s 43us/step - loss: 1.4537 - acc: 0.4665 - val_loss: 1.6317 - val_acc: 0.3695\n",
      "Epoch 10/3000\n",
      "50000/50000 [==============================] - 2s 44us/step - loss: 1.5825 - acc: 0.4287 - val_loss: 1.4586 - val_acc: 0.4968\n",
      "Epoch 11/3000\n",
      "50000/50000 [==============================] - 2s 43us/step - loss: 1.2707 - acc: 0.5497 - val_loss: 1.1212 - val_acc: 0.6113\n",
      "Epoch 12/3000\n",
      "50000/50000 [==============================] - 2s 46us/step - loss: 1.2189 - acc: 0.5649 - val_loss: 1.1982 - val_acc: 0.5688\n",
      "Epoch 13/3000\n",
      "50000/50000 [==============================] - 2s 44us/step - loss: 1.2354 - acc: 0.5736 - val_loss: 1.1275 - val_acc: 0.6001 0s - loss: 1.2604\n",
      "Epoch 14/3000\n",
      "50000/50000 [==============================] - 2s 46us/step - loss: 1.1339 - acc: 0.5896 - val_loss: 1.0285 - val_acc: 0.6190\n",
      "Epoch 15/3000\n",
      "50000/50000 [==============================] - 2s 45us/step - loss: 1.1141 - acc: 0.6059 - val_loss: 1.0888 - val_acc: 0.5909\n",
      "Epoch 16/3000\n",
      "50000/50000 [==============================] - 2s 46us/step - loss: 1.0572 - acc: 0.6390 - val_loss: 1.0652 - val_acc: 0.6400\n",
      "Epoch 17/3000\n",
      "50000/50000 [==============================] - 2s 42us/step - loss: 1.0941 - acc: 0.6188 - val_loss: 1.0576 - val_acc: 0.6238\n",
      "Epoch 18/3000\n",
      "50000/50000 [==============================] - 2s 44us/step - loss: 1.0916 - acc: 0.6158 - val_loss: 1.0916 - val_acc: 0.5992\n",
      "Epoch 19/3000\n",
      "50000/50000 [==============================] - 2s 47us/step - loss: 1.1673 - acc: 0.5793 - val_loss: 1.1593 - val_acc: 0.5692\n",
      "Epoch 20/3000\n",
      "50000/50000 [==============================] - 2s 44us/step - loss: 1.1828 - acc: 0.5740 - val_loss: 1.1956 - val_acc: 0.5505\n",
      "Epoch 21/3000\n",
      "50000/50000 [==============================] - 2s 44us/step - loss: 1.1702 - acc: 0.5936 - val_loss: 1.1664 - val_acc: 0.5856\n",
      "Epoch 22/3000\n",
      "50000/50000 [==============================] - 2s 42us/step - loss: 1.2429 - acc: 0.5375 - val_loss: 1.1130 - val_acc: 0.6032\n",
      "Epoch 23/3000\n",
      "50000/50000 [==============================] - 2s 43us/step - loss: 1.1199 - acc: 0.6021 - val_loss: 1.1201 - val_acc: 0.5831\n",
      "Epoch 24/3000\n",
      "50000/50000 [==============================] - 2s 43us/step - loss: 1.1116 - acc: 0.5992 - val_loss: 1.0420 - val_acc: 0.6224\n",
      "Epoch 25/3000\n",
      "50000/50000 [==============================] - 2s 44us/step - loss: 1.0676 - acc: 0.6052 - val_loss: 1.0480 - val_acc: 0.6124\n",
      "Epoch 26/3000\n",
      "50000/50000 [==============================] - 2s 47us/step - loss: 1.0910 - acc: 0.6069 - val_loss: 1.0606 - val_acc: 0.6169\n",
      "Epoch 27/3000\n",
      "50000/50000 [==============================] - 4s 84us/step - loss: 1.1295 - acc: 0.5884 - val_loss: 1.0400 - val_acc: 0.6428\n",
      "Epoch 28/3000\n",
      "50000/50000 [==============================] - 3s 55us/step - loss: 1.0473 - acc: 0.6289 - val_loss: 0.9874 - val_acc: 0.6491\n",
      "Epoch 29/3000\n",
      "50000/50000 [==============================] - 2s 49us/step - loss: 1.0787 - acc: 0.6070 - val_loss: 1.0847 - val_acc: 0.6027\n",
      "Epoch 30/3000\n",
      "50000/50000 [==============================] - 2s 47us/step - loss: 1.0534 - acc: 0.6138 - val_loss: 1.0478 - val_acc: 0.6547\n",
      "Epoch 31/3000\n",
      "50000/50000 [==============================] - 2s 48us/step - loss: 1.0795 - acc: 0.6338 - val_loss: 1.0481 - val_acc: 0.6407\n",
      "Epoch 32/3000\n",
      "50000/50000 [==============================] - 2s 43us/step - loss: 1.0674 - acc: 0.6259 - val_loss: 0.9747 - val_acc: 0.6533\n",
      "Epoch 33/3000\n",
      "50000/50000 [==============================] - 2s 43us/step - loss: 1.0575 - acc: 0.6274 - val_loss: 0.9917 - val_acc: 0.6393\n",
      "Epoch 34/3000\n",
      "50000/50000 [==============================] - 2s 47us/step - loss: 1.0617 - acc: 0.6320 - val_loss: 1.0260 - val_acc: 0.6459\n",
      "Epoch 35/3000\n",
      "50000/50000 [==============================] - 2s 47us/step - loss: 1.0757 - acc: 0.6324 - val_loss: 0.9763 - val_acc: 0.6803\n",
      "Epoch 36/3000\n",
      "50000/50000 [==============================] - 3s 50us/step - loss: 0.9855 - acc: 0.6667 - val_loss: 0.9437 - val_acc: 0.6568\n",
      "Epoch 37/3000\n",
      "50000/50000 [==============================] - 3s 53us/step - loss: 1.0051 - acc: 0.6508 - val_loss: 0.9819 - val_acc: 0.6724\n",
      "Epoch 38/3000\n",
      "50000/50000 [==============================] - 2s 48us/step - loss: 0.9995 - acc: 0.6807 - val_loss: 0.9433 - val_acc: 0.6973\n",
      "Epoch 39/3000\n",
      "50000/50000 [==============================] - 2s 48us/step - loss: 0.9854 - acc: 0.6889 - val_loss: 0.9190 - val_acc: 0.7035\n",
      "Epoch 40/3000\n",
      "50000/50000 [==============================] - 2s 45us/step - loss: 1.0352 - acc: 0.6599 - val_loss: 0.9808 - val_acc: 0.6720\n",
      "Epoch 41/3000\n",
      "50000/50000 [==============================] - 2s 45us/step - loss: 1.0025 - acc: 0.6418 - val_loss: 0.9435 - val_acc: 0.6509\n",
      "Epoch 42/3000\n",
      "50000/50000 [==============================] - 2s 45us/step - loss: 0.9686 - acc: 0.6536 - val_loss: 0.8994 - val_acc: 0.6727\n",
      "Epoch 43/3000\n",
      "50000/50000 [==============================] - 2s 44us/step - loss: 1.0107 - acc: 0.6279 - val_loss: 0.9791 - val_acc: 0.6451\n",
      "Epoch 44/3000\n",
      "50000/50000 [==============================] - 2s 46us/step - loss: 1.0187 - acc: 0.6273 - val_loss: 0.9791 - val_acc: 0.6239\n",
      "Epoch 45/3000\n",
      "50000/50000 [==============================] - 2s 45us/step - loss: 1.0442 - acc: 0.6094 - val_loss: 0.9961 - val_acc: 0.6215\n",
      "Epoch 46/3000\n",
      "50000/50000 [==============================] - 2s 44us/step - loss: 1.1023 - acc: 0.5970 - val_loss: 1.0679 - val_acc: 0.6288\n",
      "Epoch 47/3000\n",
      "50000/50000 [==============================] - 2s 45us/step - loss: 1.1331 - acc: 0.5963 - val_loss: 1.1114 - val_acc: 0.5904\n",
      "Epoch 48/3000\n",
      "50000/50000 [==============================] - 2s 44us/step - loss: 1.1447 - acc: 0.5729 - val_loss: 1.0542 - val_acc: 0.5996\n",
      "Epoch 49/3000\n",
      "50000/50000 [==============================] - 2s 46us/step - loss: 1.1127 - acc: 0.5998 - val_loss: 1.0845 - val_acc: 0.6339\n",
      "Epoch 50/3000\n",
      "50000/50000 [==============================] - 2s 47us/step - loss: 1.1446 - acc: 0.5946 - val_loss: 1.1176 - val_acc: 0.6021\n",
      "Epoch 51/3000\n",
      "50000/50000 [==============================] - 2s 46us/step - loss: 1.1518 - acc: 0.5929 - val_loss: 1.1345 - val_acc: 0.5995\n",
      "Epoch 52/3000\n",
      "50000/50000 [==============================] - 2s 44us/step - loss: 1.0827 - acc: 0.6306 - val_loss: 1.0351 - val_acc: 0.6550\n",
      "Epoch 53/3000\n",
      "50000/50000 [==============================] - 2s 43us/step - loss: 1.0430 - acc: 0.6434 - val_loss: 1.0049 - val_acc: 0.6545\n",
      "Epoch 54/3000\n",
      "50000/50000 [==============================] - 2s 42us/step - loss: 1.0717 - acc: 0.6136 - val_loss: 0.9690 - val_acc: 0.6520\n",
      "Epoch 55/3000\n",
      "50000/50000 [==============================] - 2s 43us/step - loss: 1.0162 - acc: 0.6311 - val_loss: 0.9544 - val_acc: 0.6623\n",
      "Epoch 56/3000\n",
      "50000/50000 [==============================] - 2s 44us/step - loss: 0.9838 - acc: 0.6614 - val_loss: 0.9578 - val_acc: 0.6804\n",
      "Epoch 57/3000\n",
      "50000/50000 [==============================] - 2s 46us/step - loss: 0.9677 - acc: 0.6648 - val_loss: 0.9215 - val_acc: 0.6881\n",
      "Epoch 58/3000\n",
      "50000/50000 [==============================] - 2s 46us/step - loss: 0.9811 - acc: 0.6510 - val_loss: 0.9135 - val_acc: 0.6770\n",
      "Epoch 59/3000\n"
     ]
    },
    {
     "name": "stdout",
     "output_type": "stream",
     "text": [
      "50000/50000 [==============================] - 2s 44us/step - loss: 0.9565 - acc: 0.6629 - val_loss: 0.9017 - val_acc: 0.6796\n",
      "Epoch 60/3000\n",
      "50000/50000 [==============================] - 2s 46us/step - loss: 1.0148 - acc: 0.6236 - val_loss: 0.9806 - val_acc: 0.6537\n",
      "Epoch 61/3000\n",
      "50000/50000 [==============================] - 2s 45us/step - loss: 0.9823 - acc: 0.6600 - val_loss: 0.9393 - val_acc: 0.6656\n",
      "Epoch 62/3000\n",
      "50000/50000 [==============================] - 2s 43us/step - loss: 0.9628 - acc: 0.6579 - val_loss: 0.9181 - val_acc: 0.6414\n"
     ]
    }
   ],
   "source": [
    "#4. 모델 학습시키기\n",
    "from keras.callbacks import EarlyStopping\n",
    "#monitor, min_delta, patience, verbose, mode\n",
    "early_stopping = EarlyStopping(patience=20)\n",
    "hist = model.fit(x_train, y_train, epochs=3000, batch_size=100, validation_data=(x_val, y_val), callbacks=[early_stopping])"
   ]
  },
  {
   "cell_type": "code",
   "execution_count": 29,
   "metadata": {
    "collapsed": true
   },
   "outputs": [],
   "source": [
    "import matplotlib.pyplot as plt\n",
    "%matplotlib inline"
   ]
  },
  {
   "cell_type": "code",
   "execution_count": 30,
   "metadata": {},
   "outputs": [
    {
     "data": {
      "image/png": "[encoded data removed]",
      "text/plain": [
       "<matplotlib.figure.Figure at 0x7fac73332b38>"
      ]
     },
     "metadata": {},
     "output_type": "display_data"
    }
   ],
   "source": [
    "#5. 학습과정 살펴보기\n",
    "fig, loss_ax = plt.subplots()\n",
    "acc_ax = loss_ax.twinx()\n",
    "\n",
    "loss_ax.plot(hist.history['loss'], 'y', label='train loss')\n",
    "loss_ax.plot(hist.history['val_loss'], 'r', label='val loss')\n",
    "\n",
    "acc_ax.plot(hist.history['acc'], 'b', label='train acc')\n",
    "acc_ax.plot(hist.history['val_acc'], 'g', label='val acc')\n",
    "\n",
    "loss_ax.set_xlabel('epoch')\n",
    "loss_ax.set_ylabel('loss')\n",
    "acc_ax.set_ylabel('accuracy')\n",
    "\n",
    "loss_ax.legend(loc='upper left')\n",
    "acc_ax.legend(loc='lower left')\n",
    "\n",
    "plt.show()"
   ]
  },
  {
   "cell_type": "code",
   "execution_count": 31,
   "metadata": {},
   "outputs": [
    {
     "name": "stdout",
     "output_type": "stream",
     "text": [
      "10000/10000 [==============================] - 0s 41us/step\n",
      "\n",
      "loss: 0.943841133881\n",
      "accuracy: 0.6388\n"
     ]
    }
   ],
   "source": [
    "#6. 모델 평가하기\n",
    "loss_and_metrics = model.evaluate(x_test, y_test, batch_size=32)\n",
    "\n",
    "print('')\n",
    "print('loss: ' + str(loss_and_metrics[0]))\n",
    "print('accuracy: ' + str(loss_and_metrics[1]))"
   ]
  },
  {
   "cell_type": "markdown",
   "metadata": {},
   "source": [
    "### 3. Layer 개념 잡기"
   ]
  },
  {
   "cell_type": "code",
   "execution_count": 33,
   "metadata": {},
   "outputs": [
    {
     "ename": "ImportError",
     "evalue": "Failed to import pydot. You must install pydot and graphviz for `pydotprint` to work.",
     "output_type": "error",
     "traceback": [
      "\u001b[0;31m---------------------------------------------------------------------------\u001b[0m",
      "\u001b[0;31mFileNotFoundError\u001b[0m                         Traceback (most recent call last)",
      "\u001b[0;32m~/miniconda3/envs/py3/lib/python3.6/site-packages/pydot.py\u001b[0m in \u001b[0;36mcreate\u001b[0;34m(self, prog, format)\u001b[0m\n\u001b[1;32m   1877\u001b[0m                 \u001b[0mshell\u001b[0m\u001b[0;34m=\u001b[0m\u001b[0;32mFalse\u001b[0m\u001b[0;34m,\u001b[0m\u001b[0;34m\u001b[0m\u001b[0m\n\u001b[0;32m-> 1878\u001b[0;31m                 stderr=subprocess.PIPE, stdout=subprocess.PIPE)\n\u001b[0m\u001b[1;32m   1879\u001b[0m         \u001b[0;32mexcept\u001b[0m \u001b[0mOSError\u001b[0m \u001b[0;32mas\u001b[0m \u001b[0me\u001b[0m\u001b[0;34m:\u001b[0m\u001b[0;34m\u001b[0m\u001b[0m\n",
      "\u001b[0;32m~/miniconda3/envs/py3/lib/python3.6/subprocess.py\u001b[0m in \u001b[0;36m__init__\u001b[0;34m(self, args, bufsize, executable, stdin, stdout, stderr, preexec_fn, close_fds, shell, cwd, env, universal_newlines, startupinfo, creationflags, restore_signals, start_new_session, pass_fds, encoding, errors)\u001b[0m\n\u001b[1;32m    708\u001b[0m                                 \u001b[0merrread\u001b[0m\u001b[0;34m,\u001b[0m \u001b[0merrwrite\u001b[0m\u001b[0;34m,\u001b[0m\u001b[0;34m\u001b[0m\u001b[0m\n\u001b[0;32m--> 709\u001b[0;31m                                 restore_signals, start_new_session)\n\u001b[0m\u001b[1;32m    710\u001b[0m         \u001b[0;32mexcept\u001b[0m\u001b[0;34m:\u001b[0m\u001b[0;34m\u001b[0m\u001b[0m\n",
      "\u001b[0;32m~/miniconda3/envs/py3/lib/python3.6/subprocess.py\u001b[0m in \u001b[0;36m_execute_child\u001b[0;34m(self, args, executable, preexec_fn, close_fds, pass_fds, cwd, env, startupinfo, creationflags, shell, p2cread, p2cwrite, c2pread, c2pwrite, errread, errwrite, restore_signals, start_new_session)\u001b[0m\n\u001b[1;32m   1343\u001b[0m                             \u001b[0merr_msg\u001b[0m \u001b[0;34m+=\u001b[0m \u001b[0;34m': '\u001b[0m \u001b[0;34m+\u001b[0m \u001b[0mrepr\u001b[0m\u001b[0;34m(\u001b[0m\u001b[0merr_filename\u001b[0m\u001b[0;34m)\u001b[0m\u001b[0;34m\u001b[0m\u001b[0m\n\u001b[0;32m-> 1344\u001b[0;31m                     \u001b[0;32mraise\u001b[0m \u001b[0mchild_exception_type\u001b[0m\u001b[0;34m(\u001b[0m\u001b[0merrno_num\u001b[0m\u001b[0;34m,\u001b[0m \u001b[0merr_msg\u001b[0m\u001b[0;34m,\u001b[0m \u001b[0merr_filename\u001b[0m\u001b[0;34m)\u001b[0m\u001b[0;34m\u001b[0m\u001b[0m\n\u001b[0m\u001b[1;32m   1345\u001b[0m                 \u001b[0;32mraise\u001b[0m \u001b[0mchild_exception_type\u001b[0m\u001b[0;34m(\u001b[0m\u001b[0merr_msg\u001b[0m\u001b[0;34m)\u001b[0m\u001b[0;34m\u001b[0m\u001b[0m\n",
      "\u001b[0;31mFileNotFoundError\u001b[0m: [Errno 2] No such file or directory: 'dot': 'dot'",
      "\nDuring handling of the above exception, another exception occurred:\n",
      "\u001b[0;31mException\u001b[0m                                 Traceback (most recent call last)",
      "\u001b[0;32m~/miniconda3/envs/py3/lib/python3.6/site-packages/keras/utils/vis_utils.py\u001b[0m in \u001b[0;36m_check_pydot\u001b[0;34m()\u001b[0m\n\u001b[1;32m     22\u001b[0m         \u001b[0;31m# to check the pydot/graphviz installation.\u001b[0m\u001b[0;34m\u001b[0m\u001b[0;34m\u001b[0m\u001b[0m\n\u001b[0;32m---> 23\u001b[0;31m         \u001b[0mpydot\u001b[0m\u001b[0;34m.\u001b[0m\u001b[0mDot\u001b[0m\u001b[0;34m.\u001b[0m\u001b[0mcreate\u001b[0m\u001b[0;34m(\u001b[0m\u001b[0mpydot\u001b[0m\u001b[0;34m.\u001b[0m\u001b[0mDot\u001b[0m\u001b[0;34m(\u001b[0m\u001b[0;34m)\u001b[0m\u001b[0;34m)\u001b[0m\u001b[0;34m\u001b[0m\u001b[0m\n\u001b[0m\u001b[1;32m     24\u001b[0m     \u001b[0;32mexcept\u001b[0m \u001b[0mException\u001b[0m\u001b[0;34m:\u001b[0m\u001b[0;34m\u001b[0m\u001b[0m\n",
      "\u001b[0;32m~/miniconda3/envs/py3/lib/python3.6/site-packages/pydot.py\u001b[0m in \u001b[0;36mcreate\u001b[0;34m(self, prog, format)\u001b[0m\n\u001b[1;32m   1882\u001b[0m                     '\"{prog}\" not found in path.'.format(\n\u001b[0;32m-> 1883\u001b[0;31m                         prog=prog))\n\u001b[0m\u001b[1;32m   1884\u001b[0m             \u001b[0;32melse\u001b[0m\u001b[0;34m:\u001b[0m\u001b[0;34m\u001b[0m\u001b[0m\n",
      "\u001b[0;31mException\u001b[0m: \"dot\" not found in path.",
      "\nDuring handling of the above exception, another exception occurred:\n",
      "\u001b[0;31mImportError\u001b[0m                               Traceback (most recent call last)",
      "\u001b[0;32m<ipython-input-33-22d612d9278c>\u001b[0m in \u001b[0;36m<module>\u001b[0;34m()\u001b[0m\n\u001b[1;32m     12\u001b[0m \u001b[0mget_ipython\u001b[0m\u001b[0;34m(\u001b[0m\u001b[0;34m)\u001b[0m\u001b[0;34m.\u001b[0m\u001b[0mmagic\u001b[0m\u001b[0;34m(\u001b[0m\u001b[0;34m'matplotlib inline'\u001b[0m\u001b[0;34m)\u001b[0m\u001b[0;34m\u001b[0m\u001b[0m\n\u001b[1;32m     13\u001b[0m \u001b[0;34m\u001b[0m\u001b[0m\n\u001b[0;32m---> 14\u001b[0;31m \u001b[0mSVG\u001b[0m\u001b[0;34m(\u001b[0m\u001b[0mmodel_to_dot\u001b[0m\u001b[0;34m(\u001b[0m\u001b[0mmodel\u001b[0m\u001b[0;34m,\u001b[0m \u001b[0mshow_shapes\u001b[0m\u001b[0;34m=\u001b[0m\u001b[0;32mTrue\u001b[0m\u001b[0;34m)\u001b[0m\u001b[0;34m.\u001b[0m\u001b[0mcreate\u001b[0m\u001b[0;34m(\u001b[0m\u001b[0mprog\u001b[0m\u001b[0;34m=\u001b[0m\u001b[0;34m'dot'\u001b[0m\u001b[0;34m,\u001b[0m \u001b[0mformat\u001b[0m\u001b[0;34m=\u001b[0m\u001b[0;34m'svg'\u001b[0m\u001b[0;34m)\u001b[0m\u001b[0;34m)\u001b[0m\u001b[0;34m\u001b[0m\u001b[0m\n\u001b[0m",
      "\u001b[0;32m~/miniconda3/envs/py3/lib/python3.6/site-packages/keras/utils/vis_utils.py\u001b[0m in \u001b[0;36mmodel_to_dot\u001b[0;34m(model, show_shapes, show_layer_names, rankdir)\u001b[0m\n\u001b[1;32m     50\u001b[0m     \u001b[0;32mfrom\u001b[0m \u001b[0;34m.\u001b[0m\u001b[0;34m.\u001b[0m\u001b[0mmodels\u001b[0m \u001b[0;32mimport\u001b[0m \u001b[0mSequential\u001b[0m\u001b[0;34m\u001b[0m\u001b[0m\n\u001b[1;32m     51\u001b[0m \u001b[0;34m\u001b[0m\u001b[0m\n\u001b[0;32m---> 52\u001b[0;31m     \u001b[0m_check_pydot\u001b[0m\u001b[0;34m(\u001b[0m\u001b[0;34m)\u001b[0m\u001b[0;34m\u001b[0m\u001b[0m\n\u001b[0m\u001b[1;32m     53\u001b[0m     \u001b[0mdot\u001b[0m \u001b[0;34m=\u001b[0m \u001b[0mpydot\u001b[0m\u001b[0;34m.\u001b[0m\u001b[0mDot\u001b[0m\u001b[0;34m(\u001b[0m\u001b[0;34m)\u001b[0m\u001b[0;34m\u001b[0m\u001b[0m\n\u001b[1;32m     54\u001b[0m     \u001b[0mdot\u001b[0m\u001b[0;34m.\u001b[0m\u001b[0mset\u001b[0m\u001b[0;34m(\u001b[0m\u001b[0;34m'rankdir'\u001b[0m\u001b[0;34m,\u001b[0m \u001b[0mrankdir\u001b[0m\u001b[0;34m)\u001b[0m\u001b[0;34m\u001b[0m\u001b[0m\n",
      "\u001b[0;32m~/miniconda3/envs/py3/lib/python3.6/site-packages/keras/utils/vis_utils.py\u001b[0m in \u001b[0;36m_check_pydot\u001b[0;34m()\u001b[0m\n\u001b[1;32m     25\u001b[0m         \u001b[0;31m# pydot raises a generic Exception here,\u001b[0m\u001b[0;34m\u001b[0m\u001b[0;34m\u001b[0m\u001b[0m\n\u001b[1;32m     26\u001b[0m         \u001b[0;31m# so no specific class can be caught.\u001b[0m\u001b[0;34m\u001b[0m\u001b[0;34m\u001b[0m\u001b[0m\n\u001b[0;32m---> 27\u001b[0;31m         raise ImportError('Failed to import pydot. You must install pydot'\n\u001b[0m\u001b[1;32m     28\u001b[0m                           ' and graphviz for `pydotprint` to work.')\n\u001b[1;32m     29\u001b[0m \u001b[0;34m\u001b[0m\u001b[0m\n",
      "\u001b[0;31mImportError\u001b[0m: Failed to import pydot. You must install pydot and graphviz for `pydotprint` to work."
     ]
    }
   ],
   "source": [
    "from IPython.display import SVG\n",
    "from keras.utils.vis_utils import model_to_dot\n",
    "from keras.models import Sequential\n",
    "from keras.layers import Dense\n",
    "\n",
    "model = Sequential()\n",
    "\n",
    "model.add(Dense(8, input_dim=4, activation='relu'))\n",
    "model.add(Dense(6, activation='relu'))\n",
    "model.add(Dense(1, activation='sigmoid'))\n",
    "\n",
    "%matplotlib inline\n",
    "\n",
    "SVG(model_to_dot(model, show_shapes=True).create(prog='dot', format='svg'))"
   ]
  },
  {
   "cell_type": "code",
   "execution_count": null,
   "metadata": {
    "collapsed": true
   },
   "outputs": [],
   "source": []
  }
 ],
 "metadata": {
  "kernelspec": {
   "display_name": "Python 3",
   "language": "python",
   "name": "python3"
  },
  "language_info": {
   "codemirror_mode": {
    "name": "ipython",
    "version": 3
   },
   "file_extension": ".py",
   "mimetype": "text/x-python",
   "name": "python",
   "nbconvert_exporter": "python",
   "pygments_lexer": "ipython3",
   "version": "3.6.3"
  }
 },
 "nbformat": 4,
 "nbformat_minor": 2
}
