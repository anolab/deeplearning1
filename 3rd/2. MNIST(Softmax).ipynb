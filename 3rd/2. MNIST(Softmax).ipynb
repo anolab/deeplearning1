{
 "cells": [
  {
   "cell_type": "code",
   "execution_count": 3,
   "metadata": {
    "collapsed": true
   },
   "outputs": [],
   "source": [
    "from tensorflow.examples.tutorials.mnist import input_data"
   ]
  },
  {
   "cell_type": "code",
   "execution_count": 4,
   "metadata": {
    "collapsed": true
   },
   "outputs": [],
   "source": [
    "import tensorflow as tf\n",
    "import numpy as np"
   ]
  },
  {
   "cell_type": "markdown",
   "metadata": {},
   "source": [
    "### 1. mnist 데이터 읽어오기 "
   ]
  },
  {
   "cell_type": "code",
   "execution_count": 5,
   "metadata": {},
   "outputs": [
    {
     "data": {
      "text/plain": [
       "<module 'tensorflow.examples.tutorials.mnist.input_data' from '/home/ubuntu/miniconda3/envs/py3/lib/python3.6/site-packages/tensorflow/examples/tutorials/mnist/input_data.py'>"
      ]
     },
     "execution_count": 5,
     "metadata": {},
     "output_type": "execute_result"
    }
   ],
   "source": [
    "input_data"
   ]
  },
  {
   "cell_type": "code",
   "execution_count": 6,
   "metadata": {},
   "outputs": [
    {
     "name": "stdout",
     "output_type": "stream",
     "text": [
      "Extracting ./train-images-idx3-ubyte.gz\n",
      "Extracting ./train-labels-idx1-ubyte.gz\n",
      "Extracting ./t10k-images-idx3-ubyte.gz\n",
      "Extracting ./t10k-labels-idx1-ubyte.gz\n"
     ]
    }
   ],
   "source": [
    "mnist = input_data.read_data_sets(\"./\", one_hot=True)"
   ]
  },
  {
   "cell_type": "markdown",
   "metadata": {},
   "source": [
    "### 2. MNIST 데이터 형태 출력"
   ]
  },
  {
   "cell_type": "code",
   "execution_count": 7,
   "metadata": {},
   "outputs": [
    {
     "name": "stdout",
     "output_type": "stream",
     "text": [
      " \n",
      "\n",
      "                            \n",
      "\n",
      "                            \n",
      "\n",
      "                            \n",
      "\n",
      "                            \n",
      "\n",
      "                            \n",
      "\n",
      "              ********      \n",
      "\n",
      "            **********      \n",
      "\n",
      "            ***********     \n",
      "\n",
      "          *************     \n",
      "\n",
      "          *****    ***      \n",
      "\n",
      "          ****   ****       \n",
      "\n",
      "          ***  ******       \n",
      "\n",
      "          ***  ******       \n",
      "\n",
      "          **********        \n",
      "\n",
      "          ********          \n",
      "\n",
      "         ********           \n",
      "\n",
      "       ***********          \n",
      "\n",
      "      ******** ***          \n",
      "\n",
      "     *******   ****         \n",
      "\n",
      "     ****      ****         \n",
      "\n",
      "     ***      *****         \n",
      "\n",
      "     *****  *******         \n",
      "\n",
      "      ************          \n",
      "\n",
      "      ***********           \n",
      "\n",
      "        ******              \n",
      "\n",
      "                            \n",
      "\n",
      "                            \n",
      "\n",
      "                           "
     ]
    }
   ],
   "source": [
    "for i in range(len(mnist.train.images[0])):\n",
    "    if(mnist.train.images[5][i] > 0):\n",
    "        print(\"*\",end='')\n",
    "    else:\n",
    "        print(\" \", end='')\n",
    "  \n",
    "    if(i % 28 == 0):\n",
    "        print('\\n')"
   ]
  },
  {
   "cell_type": "markdown",
   "metadata": {},
   "source": [
    "### 3. MNIST Softmax 모델 구현(BY MYSELF)"
   ]
  },
  {
   "cell_type": "code",
   "execution_count": 8,
   "metadata": {
    "collapsed": true
   },
   "outputs": [],
   "source": [
    "import time"
   ]
  },
  {
   "cell_type": "code",
   "execution_count": 9,
   "metadata": {},
   "outputs": [
    {
     "name": "stdout",
     "output_type": "stream",
     "text": [
      "(55000, 784)\n",
      "(55000, 10)\n"
     ]
    }
   ],
   "source": [
    "#1. 데이터 정의\n",
    "#images train 데이터 55000개 784열\n",
    "print(np.shape(mnist.train.images))\n",
    "print(np.shape(mnist.train.labels))"
   ]
  },
  {
   "cell_type": "code",
   "execution_count": 10,
   "metadata": {
    "collapsed": true
   },
   "outputs": [],
   "source": [
    "train_x = mnist.train.images\n",
    "train_y = mnist.train.labels\n",
    "\n",
    "test_x = mnist.test.images\n",
    "test_y = mnist.test.labels"
   ]
  },
  {
   "cell_type": "code",
   "execution_count": 11,
   "metadata": {
    "collapsed": true
   },
   "outputs": [],
   "source": [
    "X = tf.placeholder(tf.float32, [None, 784])\n",
    "Y = tf.placeholder(tf.float32, [None, 10])\n",
    "\n",
    "W = tf.Variable(tf.random_normal([784, 10]))\n",
    "b = tf.Variable(tf.random_normal([10]))"
   ]
  },
  {
   "cell_type": "code",
   "execution_count": 12,
   "metadata": {
    "collapsed": true
   },
   "outputs": [],
   "source": [
    "#2. 가설 설정\n",
    "hypothesis = tf.nn.softmax(tf.matmul(X, W) + b)"
   ]
  },
  {
   "cell_type": "code",
   "execution_count": 13,
   "metadata": {
    "collapsed": true
   },
   "outputs": [],
   "source": [
    "#3. 비용 함수\n",
    "cost = tf.reduce_mean(-tf.reduce_sum(Y*tf.log(hypothesis), axis=1))"
   ]
  },
  {
   "cell_type": "code",
   "execution_count": 14,
   "metadata": {
    "collapsed": true
   },
   "outputs": [],
   "source": [
    "#4. optimizer 정의\n",
    "optimizer = tf.train.GradientDescentOptimizer(learning_rate=0.5).minimize(cost)"
   ]
  },
  {
   "cell_type": "code",
   "execution_count": 15,
   "metadata": {
    "collapsed": true
   },
   "outputs": [],
   "source": [
    "#5. prediction 및 Accuracy 정의\n",
    "prediction = tf.argmax(hypothesis, 1)\n",
    "is_correct = tf.equal(prediction, tf.argmax(Y, 1))\n",
    "accuracy = tf.reduce_mean(tf.cast(is_correct, tf.float32))"
   ]
  },
  {
   "cell_type": "code",
   "execution_count": 16,
   "metadata": {},
   "outputs": [
    {
     "name": "stdout",
     "output_type": "stream",
     "text": [
      "0 15.0543\n",
      "10 5.92453\n",
      "20 3.73836\n",
      "30 2.78782\n",
      "40 2.28071\n",
      "50 1.97155\n",
      "60 1.76355\n",
      "70 1.61311\n",
      "80 1.4984\n",
      "90 1.40751\n",
      "100 1.33336\n",
      "110 1.27146\n",
      "120 1.21881\n",
      "130 1.17332\n",
      "140 1.13349\n",
      "150 1.09824\n",
      "160 1.06674\n",
      "170 1.03837\n",
      "180 1.01265\n",
      "190 0.989179\n"
     ]
    }
   ],
   "source": [
    "#6. 학습\n",
    "start_time = time.time()\n",
    "\n",
    "sess = tf.Session()\n",
    "\n",
    "#Initialize Tensorflow variables\n",
    "sess.run(tf.global_variables_initializer())\n",
    "\n",
    "#학습을 총 6번 한다\n",
    "for step in range(200):\n",
    "    cost_val, W_val, _ = sess.run([cost, W, optimizer], feed_dict={X: train_x, Y: train_y})\n",
    "\n",
    "    if step % 10 == 0: \n",
    "        print(step, cost_val)"
   ]
  },
  {
   "cell_type": "code",
   "execution_count": 17,
   "metadata": {},
   "outputs": [
    {
     "name": "stdout",
     "output_type": "stream",
     "text": [
      "Prediction:  [7 2 1 ..., 4 8 6]\n",
      "Accuracy:  0.8083\n",
      "--- 365.10828924179077 seconds ---\n"
     ]
    }
   ],
   "source": [
    "#validation predict\n",
    "print(\"Prediction: \", sess.run(prediction, feed_dict={X: test_x}))\n",
    "\n",
    "#calculate the accuracy\n",
    "print(\"Accuracy: \", sess.run(accuracy, feed_dict={X: test_x, Y: test_y}))\n",
    "\n",
    "print(\"--- %s seconds ---\" % (time.time() - start_time))"
   ]
  },
  {
   "cell_type": "markdown",
   "metadata": {},
   "source": [
    "### Batch & Epoch 사용하지 않을 때 결과\n",
    "\n",
    "내가 짠 것은 55000개 이미지를 한 번에 학습시켰다.<br/>\n",
    "이를 총 200번 반복했다. 즉 200번의 학습이 이루어졌다.<br/>\n",
    "그리고 이를 통해서 마지막 5000개의 test에 대해서 예측을 했다.<br/>\n",
    "\n",
    "<b>그 결과 총 365초가 걸려서 80%의 정확도가 나왔다.</b>"
   ]
  },
  {
   "cell_type": "markdown",
   "metadata": {},
   "source": [
    "### 4. MNIST SOFTMAX 구현(김성훈)"
   ]
  },
  {
   "cell_type": "markdown",
   "metadata": {},
   "source": [
    "<img src=\"./photo/epoch.png\">"
   ]
  },
  {
   "cell_type": "code",
   "execution_count": 18,
   "metadata": {
    "collapsed": true
   },
   "outputs": [],
   "source": [
    "import tensorflow as tf\n",
    "import numpy as np"
   ]
  },
  {
   "cell_type": "code",
   "execution_count": 19,
   "metadata": {
    "collapsed": true
   },
   "outputs": [],
   "source": [
    "import matplotlib.pyplot as plt"
   ]
  },
  {
   "cell_type": "code",
   "execution_count": 20,
   "metadata": {},
   "outputs": [
    {
     "name": "stdout",
     "output_type": "stream",
     "text": [
      "Extracting ./train-images-idx3-ubyte.gz\n",
      "Extracting ./train-labels-idx1-ubyte.gz\n",
      "Extracting ./t10k-images-idx3-ubyte.gz\n",
      "Extracting ./t10k-labels-idx1-ubyte.gz\n"
     ]
    }
   ],
   "source": [
    "#1. 데이터 저장 및 변수 생성\n",
    "from tensorflow.examples.tutorials.mnist import input_data\n",
    "mnist = input_data.read_data_sets(\"./\", one_hot=True)\n",
    "\n",
    "nb_classes = 10\n",
    "\n",
    "X = tf.placeholder(tf.float32, [None, 784])\n",
    "Y = tf.placeholder(tf.float32, [None, nb_classes])\n",
    "\n",
    "W = tf.Variable(tf.random_normal([784, nb_classes]))\n",
    "b = tf.Variable(tf.random_normal([nb_classes]))"
   ]
  },
  {
   "cell_type": "code",
   "execution_count": 21,
   "metadata": {},
   "outputs": [],
   "source": [
    "#2. 가설 설정\n",
    "hypothesis = tf.nn.softmax(tf.matmul(X, W) + b)\n",
    "  \n",
    "#3. 비용함수\n",
    "cost = tf.reduce_mean(-tf.reduce_sum(Y * tf.log(hypothesis), axis=1))\n",
    "\n",
    "#4. optimizer 정의\n",
    "optimizer = tf.train.GradientDescentOptimizer(learning_rate=0.5).minimize(cost)\n",
    "\n",
    "#5. prediction tensor 정의\n",
    "# Test model\n",
    "is_correct = tf.equal(tf.argmax(hypothesis, 1), tf.argmax(Y, 1))\n",
    "# Calculate accuracy\n",
    "accuracy = tf.reduce_mean(tf.cast(is_correct, tf.float32))"
   ]
  },
  {
   "cell_type": "code",
   "execution_count": 22,
   "metadata": {
    "collapsed": true
   },
   "outputs": [],
   "source": [
    "# parameters\n",
    "training_epochs = 15\n",
    "batch_size = 100"
   ]
  },
  {
   "cell_type": "markdown",
   "metadata": {},
   "source": [
    "epoch: 전체 데이터 셋을 몇 회 학습시킬 것인가<br/>\n",
    "batch_size: 한 번에 몇 개의 데이터씩 학습시킬 것인가<br/>\n",
    "number of iterations: 1 epoch을 batch_size 학습하기 위해서 필요한 횟수"
   ]
  },
  {
   "cell_type": "code",
   "execution_count": null,
   "metadata": {
    "collapsed": true
   },
   "outputs": [],
   "source": [
    "import random"
   ]
  },
  {
   "cell_type": "code",
   "execution_count": 29,
   "metadata": {},
   "outputs": [
    {
     "name": "stdout",
     "output_type": "stream",
     "text": [
      "Epoch: 0001 cost = 1.277526289\n",
      "Epoch: 0002 cost = 0.625996734\n",
      "Epoch: 0003 cost = 0.519626383\n",
      "Epoch: 0004 cost = 0.473059681\n",
      "Epoch: 0005 cost = 0.434620157\n",
      "Epoch: 0006 cost = 0.409511980\n",
      "Epoch: 0007 cost = 0.390970582\n",
      "Epoch: 0008 cost = 0.374383657\n",
      "Epoch: 0009 cost = 0.363801742\n",
      "Epoch: 0010 cost = 0.355359032\n",
      "Epoch: 0011 cost = 0.342417681\n",
      "Epoch: 0012 cost = 0.339030000\n",
      "Epoch: 0013 cost = 0.326893819\n",
      "Epoch: 0014 cost = 0.326254592\n",
      "Epoch: 0015 cost = 0.319288550\n",
      "Learning finished\n",
      "Accuracy:  0.915\n",
      "--- 53.34838795661926 seconds ---\n",
      "Label:  [4]\n",
      "Prediction:  [4]\n"
     ]
    },
    {
     "data": {
      "image/png": "[encoded data removed]",
      "text/plain": [
       "<matplotlib.figure.Figure at 0x7f3e8ac92470>"
      ]
     },
     "metadata": {},
     "output_type": "display_data"
    }
   ],
   "source": [
    "start_time = time.time()\n",
    "\n",
    "with tf.Session() as sess:\n",
    "\n",
    "    # Initialize TensorFlow variables\n",
    "    sess.run(tf.global_variables_initializer())\n",
    "    \n",
    "    # Training cycle(15회 반복)\n",
    "    for epoch in range(training_epochs):\n",
    "        avg_cost = 0\n",
    "        \n",
    "        #number of iterations\n",
    "        total_batch = int(mnist.train.num_examples / batch_size)\n",
    "                \n",
    "        #1epoch \n",
    "        for i in range(total_batch):\n",
    "            batch_xs, batch_ys = mnist.train.next_batch(batch_size)\n",
    "            c, _ = sess.run([cost, optimizer], feed_dict={\n",
    "                            X: batch_xs, Y: batch_ys})\n",
    "            avg_cost += c / total_batch\n",
    "\n",
    "        print('Epoch:', '%04d' % (epoch + 1),\n",
    "              'cost =', '{:.9f}'.format(avg_cost))\n",
    "\n",
    "    print(\"Learning finished\")\n",
    "\n",
    "    # Test the model using test sets\n",
    "    print(\"Accuracy: \", accuracy.eval(session=sess, feed_dict={\n",
    "          X: mnist.test.images, Y: mnist.test.labels}))\n",
    "    \n",
    "    print(\"--- %s seconds ---\" % (time.time() - start_time))\n",
    "    \n",
    "    #시각화\n",
    "    # Get one and predict\n",
    "    r = random.randint(0, mnist.test.num_examples - 1)\n",
    "    print(\"Label: \", sess.run(tf.argmax(mnist.test.labels[r:r + 1], 1)))\n",
    "    print(\"Prediction: \", sess.run(\n",
    "        tf.argmax(hypothesis, 1), feed_dict={X: mnist.test.images[r:r + 1]}))\n",
    "\n",
    "    plt.imshow(\n",
    "        mnist.test.images[r:r + 1].reshape(28, 28),\n",
    "        cmap='Greys',\n",
    "        interpolation='nearest')\n",
    "    plt.show()\n"
   ]
  },
  {
   "cell_type": "markdown",
   "metadata": {},
   "source": [
    "### Batch & Epoch 사용한 결과\n",
    "\n",
    "batch_size를 100으로 해서 100개의 이미지씩 학습을 시켰다.<br/>\n",
    "1 epoch에서는 55000/100 = 550번 학습을 한다.<br/>\n",
    "15 epoch에서 총 550*15 = 7150번의 학습을 한다.<br/>\n",
    "\n",
    "<b>그 결과 총 63초가 걸려서 91%의 정확도가 나왔다.</b>"
   ]
  },
  {
   "cell_type": "markdown",
   "metadata": {},
   "source": [
    "### 결과 비교\n",
    "\n",
    "내가 한 것은 총 55000*200 = 1100000의 이미지를 학습했다.<br/>\n",
    "김성훈 교수가 한 것은 총 55000*15 = 715000의 이미지를 학습했다.<br/>\n",
    "하지만 BATCH & EPOCH 사용함으로써 시간도 더 적게 걸리고 정확도도 더 좋았다."
   ]
  },
  {
   "cell_type": "code",
   "execution_count": null,
   "metadata": {
    "collapsed": true
   },
   "outputs": [],
   "source": []
  }
 ],
 "metadata": {
  "kernelspec": {
   "display_name": "Python 3",
   "language": "python",
   "name": "python3"
  },
  "language_info": {
   "codemirror_mode": {
    "name": "ipython",
    "version": 3
   },
   "file_extension": ".py",
   "mimetype": "text/x-python",
   "name": "python",
   "nbconvert_exporter": "python",
   "pygments_lexer": "ipython3",
   "version": "3.6.3"
  }
 },
 "nbformat": 4,
 "nbformat_minor": 2
}
